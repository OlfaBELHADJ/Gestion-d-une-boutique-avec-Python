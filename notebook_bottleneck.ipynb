{
 "cells": [
  {
   "cell_type": "markdown",
   "id": "97dccc01",
   "metadata": {},
   "source": [
    "<div style=\"display: flex; background-color: RGB(255,114,0);\" >\n",
    "<h1 style=\"margin: auto; padding: 30px; \">ANALYSE DU STOCK ET DES VENTES DU SITE BOTTLENECK</h1>\n",
    "</div>"
   ]
  },
  {
   "cell_type": "markdown",
   "id": "4d0d1bb8",
   "metadata": {},
   "source": [
    "# OBJECTIF DE CE NOTEBOOK\n",
    "\n",
    "Bienvenue dans l'outil plébiscité par les analystes de données Jupyter.\n",
    "\n",
    "Il s'agit d'un outil permettant de mixer et d'alterner codes, textes et graphique.\n",
    "\n",
    "Cet outil est formidable pour plusieurs raisons:\n",
    "\n",
    "+ il permet de tester des lignes de codes au fur et à mesure de votre rédaction, de constater immédiatement le résultat d'un instruction, de la corriger si nécessaire.\n",
    "+ De rédiger du texte pour expliquer l'approche suivie ou les résultats d'une analyse et de le mettre en forme grâce à du code html ou plus simple avec **Markdown**\n",
    "+ d'agrémenter de graphiques\n",
    "\n",
    "Pour vous aider dans vos premiers pas à l'usage de Jupyter et de Python, nous avons rédigé ce notebook en vous indiquant les instructions à suivre.\n",
    "\n",
    "Il vous suffit pour cela de saisir le code Python répondant à l'instruction donnée.\n",
    "\n",
    "Vous verrez de temps à autre le code Python répondant à une instruction donnée mais cela est fait pour vous aider à comprendre la nature du travail qui vous est demandée.\n",
    "\n",
    "Et garder à l'esprit, qu'il n'y a pas de solution unique pour résoudre un problème et qu'il y a autant de résolutions de problèmes que de développeurs ;)...\n",
    "\n"
   ]
  },
  {
   "cell_type": "markdown",
   "id": "b85efb87",
   "metadata": {},
   "source": [
    "<div style=\"background-color: RGB(51,165,182);\" >\n",
    "<h2 style=\"margin: auto; padding: 20px; color:#fff; \">Etape 1 - Importation des librairies et chargement des fichiers</h2>\n",
    "</div>"
   ]
  },
  {
   "cell_type": "markdown",
   "id": "b5449401",
   "metadata": {},
   "source": [
    "<div style=\"border: 1px solid RGB(51,165,182);\" >\n",
    "<h3 style=\"margin: auto; padding: 20px; color: RGB(51,165,182); \">1.1 - Importation des librairies</h3>\n",
    "</div>"
   ]
  },
  {
   "cell_type": "code",
   "execution_count": 2,
   "id": "e6ef06ec",
   "metadata": {},
   "outputs": [],
   "source": [
    "#Importation de la librairie Pandas\n",
    "import pandas as pd\n"
   ]
  },
  {
   "cell_type": "code",
   "execution_count": 3,
   "id": "d49dc0fe",
   "metadata": {},
   "outputs": [],
   "source": [
    "import numpy as np"
   ]
  },
  {
   "cell_type": "code",
   "execution_count": 4,
   "id": "35beb27d",
   "metadata": {},
   "outputs": [],
   "source": [
    "import matplotlib as plt"
   ]
  },
  {
   "cell_type": "code",
   "execution_count": 5,
   "id": "a02af3a8",
   "metadata": {},
   "outputs": [],
   "source": [
    "import seaborn as sns\n"
   ]
  },
  {
   "cell_type": "code",
   "execution_count": 6,
   "id": "a38ce0fc",
   "metadata": {},
   "outputs": [],
   "source": [
    "#Importation de la librairie plotly express\n",
    "import plotly_express as px"
   ]
  },
  {
   "cell_type": "code",
   "execution_count": 640,
   "id": "699fe011",
   "metadata": {},
   "outputs": [],
   "source": [
    "import openpyxl "
   ]
  },
  {
   "cell_type": "code",
   "execution_count": 693,
   "id": "ee44f3cd",
   "metadata": {},
   "outputs": [],
   "source": [
    "import plotly.graph_objs as go"
   ]
  },
  {
   "cell_type": "code",
   "execution_count": 7,
   "id": "0a718067",
   "metadata": {},
   "outputs": [],
   "source": [
    "#Trouver dans Google l'instruction permettant d'afficher toutes les colonnes d'un dataframe\n",
    "#Saisir, dans Google, les mots clés \"display all columns dataframe Pandas\", par exemple.\n",
    "#Dans les résultats de la recherche, privilégiez les solutions provenants de Stack Overflow ou Medium"
   ]
  },
  {
   "cell_type": "markdown",
   "id": "f4918299",
   "metadata": {},
   "source": [
    "<div style=\"border: 1px solid RGB(51,165,182);\" >\n",
    "<h3 style=\"margin: auto; padding: 20px; color: RGB(51,165,182); \">1.2 - Chargements des fichiers</h3>\n",
    "</div>"
   ]
  },
  {
   "cell_type": "code",
   "execution_count": 8,
   "id": "9642cf03",
   "metadata": {},
   "outputs": [
    {
     "name": "stderr",
     "output_type": "stream",
     "text": [
      "/usr/local/lib/python3.11/site-packages/openpyxl/worksheet/_reader.py:329: UserWarning: Unknown extension is not supported and will be removed\n",
      "  warn(msg)\n"
     ]
    }
   ],
   "source": [
    "#Importation du fichier web.xlsx\n",
    "df_web = pd.read_excel(\"/Users/helmisaddem/Downloads/Data-Bottleneck/web.xlsx\")\n"
   ]
  },
  {
   "cell_type": "code",
   "execution_count": 9,
   "id": "70c31de7",
   "metadata": {},
   "outputs": [],
   "source": [
    "#Importation du fichier erp.xlsx\n",
    "df_erp = pd.read_excel(\"/Users/helmisaddem/Downloads/Data-Bottleneck/erp.xlsx\")\n",
    "#importation du fichier liaison.xlsx\n"
   ]
  },
  {
   "cell_type": "code",
   "execution_count": 10,
   "id": "de7c8d50",
   "metadata": {},
   "outputs": [],
   "source": [
    "df_liaison = pd.read_excel(\"/Users/helmisaddem/Downloads/Data-Bottleneck/liaison.xlsx\")\n"
   ]
  },
  {
   "cell_type": "markdown",
   "id": "605f7056",
   "metadata": {},
   "source": [
    "<div style=\"background-color: RGB(51,165,182);\" >\n",
    "<h2 style=\"margin: auto; padding: 20px; color:#fff; \">Etape 2 - Analyse exploratoire des fichiers</h2>\n",
    "</div>"
   ]
  },
  {
   "cell_type": "markdown",
   "id": "47d3a649",
   "metadata": {},
   "source": [
    "<div style=\"border: 1px solid RGB(51,165,182);\" >\n",
    "<h3 style=\"margin: auto; padding: 20px; color: RGB(51,165,182); \">2.1 - Analyse exploratoire du fichier erp.xlsx</h3>\n",
    "</div>"
   ]
  },
  {
   "cell_type": "code",
   "execution_count": 11,
   "id": "094ef206",
   "metadata": {},
   "outputs": [
    {
     "name": "stdout",
     "output_type": "stream",
     "text": [
      "Le tableau comporte 825 observation(s) ou article(s)\n",
      "Le tableau comporte 6 colonne(s)\n"
     ]
    }
   ],
   "source": [
    "#Afficher les dimensions du dataset\n",
    "print(\"Le tableau comporte {} observation(s) ou article(s)\".format(df_erp.shape[0]))\n",
    "print(\"Le tableau comporte {} colonne(s)\".format(df_erp.shape[1]))"
   ]
  },
  {
   "cell_type": "code",
   "execution_count": 12,
   "id": "182441f0",
   "metadata": {},
   "outputs": [
    {
     "name": "stdout",
     "output_type": "stream",
     "text": [
      "<class 'pandas.core.frame.DataFrame'>\n",
      "RangeIndex: 825 entries, 0 to 824\n",
      "Data columns (total 6 columns):\n",
      " #   Column          Non-Null Count  Dtype  \n",
      "---  ------          --------------  -----  \n",
      " 0   product_id      825 non-null    int64  \n",
      " 1   onsale_web      825 non-null    int64  \n",
      " 2   price           825 non-null    float64\n",
      " 3   stock_quantity  825 non-null    int64  \n",
      " 4   stock_status    825 non-null    object \n",
      " 5   purchase_price  825 non-null    float64\n",
      "dtypes: float64(2), int64(3), object(1)\n",
      "memory usage: 38.8+ KB\n"
     ]
    }
   ],
   "source": [
    "#Consulter le nombre de colonnes\n",
    "#La nature des données dans chacune des colonnes\n",
    "#Le nombre de valeurs présentes dans chacune des colonnes\n",
    "df_erp.info()\n"
   ]
  },
  {
   "cell_type": "code",
   "execution_count": 13,
   "id": "d3977646",
   "metadata": {},
   "outputs": [
    {
     "data": {
      "text/html": [
       "<div>\n",
       "<style scoped>\n",
       "    .dataframe tbody tr th:only-of-type {\n",
       "        vertical-align: middle;\n",
       "    }\n",
       "\n",
       "    .dataframe tbody tr th {\n",
       "        vertical-align: top;\n",
       "    }\n",
       "\n",
       "    .dataframe thead th {\n",
       "        text-align: right;\n",
       "    }\n",
       "</style>\n",
       "<table border=\"1\" class=\"dataframe\">\n",
       "  <thead>\n",
       "    <tr style=\"text-align: right;\">\n",
       "      <th></th>\n",
       "      <th>product_id</th>\n",
       "      <th>onsale_web</th>\n",
       "      <th>price</th>\n",
       "      <th>stock_quantity</th>\n",
       "      <th>stock_status</th>\n",
       "      <th>purchase_price</th>\n",
       "    </tr>\n",
       "  </thead>\n",
       "  <tbody>\n",
       "    <tr>\n",
       "      <th>0</th>\n",
       "      <td>3847</td>\n",
       "      <td>1</td>\n",
       "      <td>24.2</td>\n",
       "      <td>16</td>\n",
       "      <td>instock</td>\n",
       "      <td>12.88</td>\n",
       "    </tr>\n",
       "    <tr>\n",
       "      <th>1</th>\n",
       "      <td>3849</td>\n",
       "      <td>1</td>\n",
       "      <td>34.3</td>\n",
       "      <td>10</td>\n",
       "      <td>instock</td>\n",
       "      <td>17.54</td>\n",
       "    </tr>\n",
       "    <tr>\n",
       "      <th>2</th>\n",
       "      <td>3850</td>\n",
       "      <td>1</td>\n",
       "      <td>20.8</td>\n",
       "      <td>0</td>\n",
       "      <td>outofstock</td>\n",
       "      <td>10.64</td>\n",
       "    </tr>\n",
       "    <tr>\n",
       "      <th>3</th>\n",
       "      <td>4032</td>\n",
       "      <td>1</td>\n",
       "      <td>14.1</td>\n",
       "      <td>26</td>\n",
       "      <td>instock</td>\n",
       "      <td>6.92</td>\n",
       "    </tr>\n",
       "    <tr>\n",
       "      <th>4</th>\n",
       "      <td>4039</td>\n",
       "      <td>1</td>\n",
       "      <td>46.0</td>\n",
       "      <td>3</td>\n",
       "      <td>outofstock</td>\n",
       "      <td>23.77</td>\n",
       "    </tr>\n",
       "  </tbody>\n",
       "</table>\n",
       "</div>"
      ],
      "text/plain": [
       "   product_id  onsale_web  price  stock_quantity stock_status  purchase_price\n",
       "0        3847           1   24.2              16      instock           12.88\n",
       "1        3849           1   34.3              10      instock           17.54\n",
       "2        3850           1   20.8               0   outofstock           10.64\n",
       "3        4032           1   14.1              26      instock            6.92\n",
       "4        4039           1   46.0               3   outofstock           23.77"
      ]
     },
     "execution_count": 13,
     "metadata": {},
     "output_type": "execute_result"
    }
   ],
   "source": [
    "#Afficher les 5 premières lignes de la table\n",
    "df_erp.head()"
   ]
  },
  {
   "cell_type": "code",
   "execution_count": 14,
   "id": "db102a4a",
   "metadata": {},
   "outputs": [
    {
     "data": {
      "text/plain": [
       "0"
      ]
     },
     "execution_count": 14,
     "metadata": {},
     "output_type": "execute_result"
    }
   ],
   "source": [
    "#Vérifier s' il y a les lignes en doublons dans la colonne product_id: Non \n",
    "df_erp['product_id'].duplicated(keep='first').sum()"
   ]
  },
  {
   "cell_type": "code",
   "execution_count": 15,
   "id": "d443d4ff",
   "metadata": {},
   "outputs": [
    {
     "data": {
      "text/plain": [
       "array(['instock', 'outofstock'], dtype=object)"
      ]
     },
     "execution_count": 15,
     "metadata": {},
     "output_type": "execute_result"
    }
   ],
   "source": [
    "#Afficher les valeurs distinctes de la colonne stock_status\n",
    "#À quelle(s) autre(s) colonne(s) sont-elles liées ? : stock_quantity\n",
    "\n",
    "df_erp['stock_status'].unique()"
   ]
  },
  {
   "cell_type": "code",
   "execution_count": 16,
   "id": "68088943",
   "metadata": {},
   "outputs": [],
   "source": [
    "#Création d'une colonne \"stock_status_2\n",
    "#La valeur de cette deuxième colonne sera fonction de la valeur dans la colonne \"stock_quantity\"\n",
    "#si la valeur de la colonne \"stock_quantity\" est nulle renseigner \"outofstock\" sinon mettre \"instock\"\n",
    "df_erp['stock_status_2'] = np.where(df_erp['stock_quantity'] <= 0, \"outofstock\", \"instock\")"
   ]
  },
  {
   "cell_type": "code",
   "execution_count": 17,
   "id": "90a1c8ae",
   "metadata": {},
   "outputs": [
    {
     "data": {
      "text/plain": [
       "0       True\n",
       "1       True\n",
       "2       True\n",
       "3       True\n",
       "4      False\n",
       "       ...  \n",
       "820     True\n",
       "821     True\n",
       "822     True\n",
       "823     True\n",
       "824     True\n",
       "Length: 825, dtype: bool"
      ]
     },
     "execution_count": 17,
     "metadata": {},
     "output_type": "execute_result"
    }
   ],
   "source": [
    "#Vérifions que les 2 colonnes sont identiques:\n",
    "#Les 2 colonnes sont strictement identiques si les valeurs de chaque ligne sont strictement identiques 2 à 2\n",
    "#La comparaison de 2 colonnes peut se réaliser simplement avec l'instruction ci-dessous:\n",
    "df_erp[\"stock_status\"] == df_erp[\"stock_status_2\"]\n",
    "\n",
    "\n",
    "#Le résultat est l'affichage de True ou False pour chacune des lignes du dataset\n",
    "#C'est un bon début, mais difficile à exploiter"
   ]
  },
  {
   "cell_type": "code",
   "execution_count": 18,
   "id": "4b3c122c",
   "metadata": {},
   "outputs": [],
   "source": [
    "df_erp[\"verif\"] = np.where(df_erp[\"stock_status\"] == df_erp[\"stock_status_2\"], True, False)\n"
   ]
  },
  {
   "cell_type": "code",
   "execution_count": 19,
   "id": "e29c1b72",
   "metadata": {},
   "outputs": [
    {
     "data": {
      "text/html": [
       "<div>\n",
       "<style scoped>\n",
       "    .dataframe tbody tr th:only-of-type {\n",
       "        vertical-align: middle;\n",
       "    }\n",
       "\n",
       "    .dataframe tbody tr th {\n",
       "        vertical-align: top;\n",
       "    }\n",
       "\n",
       "    .dataframe thead th {\n",
       "        text-align: right;\n",
       "    }\n",
       "</style>\n",
       "<table border=\"1\" class=\"dataframe\">\n",
       "  <thead>\n",
       "    <tr style=\"text-align: right;\">\n",
       "      <th></th>\n",
       "      <th>product_id</th>\n",
       "      <th>onsale_web</th>\n",
       "      <th>price</th>\n",
       "      <th>stock_quantity</th>\n",
       "      <th>stock_status</th>\n",
       "      <th>purchase_price</th>\n",
       "      <th>stock_status_2</th>\n",
       "      <th>verif</th>\n",
       "    </tr>\n",
       "  </thead>\n",
       "  <tbody>\n",
       "    <tr>\n",
       "      <th>0</th>\n",
       "      <td>3847</td>\n",
       "      <td>1</td>\n",
       "      <td>24.2</td>\n",
       "      <td>16</td>\n",
       "      <td>instock</td>\n",
       "      <td>12.88</td>\n",
       "      <td>instock</td>\n",
       "      <td>True</td>\n",
       "    </tr>\n",
       "    <tr>\n",
       "      <th>1</th>\n",
       "      <td>3849</td>\n",
       "      <td>1</td>\n",
       "      <td>34.3</td>\n",
       "      <td>10</td>\n",
       "      <td>instock</td>\n",
       "      <td>17.54</td>\n",
       "      <td>instock</td>\n",
       "      <td>True</td>\n",
       "    </tr>\n",
       "    <tr>\n",
       "      <th>2</th>\n",
       "      <td>3850</td>\n",
       "      <td>1</td>\n",
       "      <td>20.8</td>\n",
       "      <td>0</td>\n",
       "      <td>outofstock</td>\n",
       "      <td>10.64</td>\n",
       "      <td>outofstock</td>\n",
       "      <td>True</td>\n",
       "    </tr>\n",
       "    <tr>\n",
       "      <th>3</th>\n",
       "      <td>4032</td>\n",
       "      <td>1</td>\n",
       "      <td>14.1</td>\n",
       "      <td>26</td>\n",
       "      <td>instock</td>\n",
       "      <td>6.92</td>\n",
       "      <td>instock</td>\n",
       "      <td>True</td>\n",
       "    </tr>\n",
       "    <tr>\n",
       "      <th>4</th>\n",
       "      <td>4039</td>\n",
       "      <td>1</td>\n",
       "      <td>46.0</td>\n",
       "      <td>3</td>\n",
       "      <td>outofstock</td>\n",
       "      <td>23.77</td>\n",
       "      <td>instock</td>\n",
       "      <td>False</td>\n",
       "    </tr>\n",
       "    <tr>\n",
       "      <th>5</th>\n",
       "      <td>4040</td>\n",
       "      <td>1</td>\n",
       "      <td>34.3</td>\n",
       "      <td>12</td>\n",
       "      <td>instock</td>\n",
       "      <td>18.25</td>\n",
       "      <td>instock</td>\n",
       "      <td>True</td>\n",
       "    </tr>\n",
       "    <tr>\n",
       "      <th>6</th>\n",
       "      <td>4041</td>\n",
       "      <td>1</td>\n",
       "      <td>32.7</td>\n",
       "      <td>12</td>\n",
       "      <td>instock</td>\n",
       "      <td>17.57</td>\n",
       "      <td>instock</td>\n",
       "      <td>True</td>\n",
       "    </tr>\n",
       "    <tr>\n",
       "      <th>7</th>\n",
       "      <td>4042</td>\n",
       "      <td>1</td>\n",
       "      <td>31.2</td>\n",
       "      <td>15</td>\n",
       "      <td>instock</td>\n",
       "      <td>15.48</td>\n",
       "      <td>instock</td>\n",
       "      <td>True</td>\n",
       "    </tr>\n",
       "    <tr>\n",
       "      <th>8</th>\n",
       "      <td>4043</td>\n",
       "      <td>1</td>\n",
       "      <td>60.0</td>\n",
       "      <td>0</td>\n",
       "      <td>outofstock</td>\n",
       "      <td>29.45</td>\n",
       "      <td>outofstock</td>\n",
       "      <td>True</td>\n",
       "    </tr>\n",
       "    <tr>\n",
       "      <th>9</th>\n",
       "      <td>4045</td>\n",
       "      <td>1</td>\n",
       "      <td>42.6</td>\n",
       "      <td>5</td>\n",
       "      <td>instock</td>\n",
       "      <td>22.01</td>\n",
       "      <td>instock</td>\n",
       "      <td>True</td>\n",
       "    </tr>\n",
       "  </tbody>\n",
       "</table>\n",
       "</div>"
      ],
      "text/plain": [
       "   product_id  onsale_web  price  stock_quantity stock_status  purchase_price  \\\n",
       "0        3847           1   24.2              16      instock           12.88   \n",
       "1        3849           1   34.3              10      instock           17.54   \n",
       "2        3850           1   20.8               0   outofstock           10.64   \n",
       "3        4032           1   14.1              26      instock            6.92   \n",
       "4        4039           1   46.0               3   outofstock           23.77   \n",
       "5        4040           1   34.3              12      instock           18.25   \n",
       "6        4041           1   32.7              12      instock           17.57   \n",
       "7        4042           1   31.2              15      instock           15.48   \n",
       "8        4043           1   60.0               0   outofstock           29.45   \n",
       "9        4045           1   42.6               5      instock           22.01   \n",
       "\n",
       "  stock_status_2  verif  \n",
       "0        instock   True  \n",
       "1        instock   True  \n",
       "2     outofstock   True  \n",
       "3        instock   True  \n",
       "4        instock  False  \n",
       "5        instock   True  \n",
       "6        instock   True  \n",
       "7        instock   True  \n",
       "8     outofstock   True  \n",
       "9        instock   True  "
      ]
     },
     "execution_count": 19,
     "metadata": {},
     "output_type": "execute_result"
    }
   ],
   "source": [
    "df_erp.head(10)"
   ]
  },
  {
   "cell_type": "code",
   "execution_count": 20,
   "id": "ebe3650a",
   "metadata": {},
   "outputs": [],
   "source": [
    "#Mais il est possible de synthétiser ce résultat en effectuant la somme de cette colonne:\n",
    "#True vaut 1 et False 0\n",
    "#Nous devrions obtenir la somme de 824 qui correspond au nombre de lignes dans ce dataset"
   ]
  },
  {
   "cell_type": "code",
   "execution_count": 21,
   "id": "db94a276",
   "metadata": {},
   "outputs": [
    {
     "data": {
      "text/plain": [
       "823"
      ]
     },
     "execution_count": 21,
     "metadata": {},
     "output_type": "execute_result"
    }
   ],
   "source": [
    "df_erp[\"verif\"].sum()"
   ]
  },
  {
   "cell_type": "code",
   "execution_count": 22,
   "id": "7ee068d6",
   "metadata": {},
   "outputs": [
    {
     "data": {
      "text/html": [
       "<div>\n",
       "<style scoped>\n",
       "    .dataframe tbody tr th:only-of-type {\n",
       "        vertical-align: middle;\n",
       "    }\n",
       "\n",
       "    .dataframe tbody tr th {\n",
       "        vertical-align: top;\n",
       "    }\n",
       "\n",
       "    .dataframe thead th {\n",
       "        text-align: right;\n",
       "    }\n",
       "</style>\n",
       "<table border=\"1\" class=\"dataframe\">\n",
       "  <thead>\n",
       "    <tr style=\"text-align: right;\">\n",
       "      <th></th>\n",
       "      <th>product_id</th>\n",
       "      <th>onsale_web</th>\n",
       "      <th>price</th>\n",
       "      <th>stock_quantity</th>\n",
       "      <th>stock_status</th>\n",
       "      <th>purchase_price</th>\n",
       "      <th>stock_status_2</th>\n",
       "      <th>verif</th>\n",
       "    </tr>\n",
       "  </thead>\n",
       "  <tbody>\n",
       "    <tr>\n",
       "      <th>4</th>\n",
       "      <td>4039</td>\n",
       "      <td>1</td>\n",
       "      <td>46.0</td>\n",
       "      <td>3</td>\n",
       "      <td>outofstock</td>\n",
       "      <td>23.77</td>\n",
       "      <td>instock</td>\n",
       "      <td>False</td>\n",
       "    </tr>\n",
       "    <tr>\n",
       "      <th>398</th>\n",
       "      <td>4885</td>\n",
       "      <td>1</td>\n",
       "      <td>18.7</td>\n",
       "      <td>0</td>\n",
       "      <td>instock</td>\n",
       "      <td>9.66</td>\n",
       "      <td>outofstock</td>\n",
       "      <td>False</td>\n",
       "    </tr>\n",
       "  </tbody>\n",
       "</table>\n",
       "</div>"
      ],
      "text/plain": [
       "     product_id  onsale_web  price  stock_quantity stock_status  \\\n",
       "4          4039           1   46.0               3   outofstock   \n",
       "398        4885           1   18.7               0      instock   \n",
       "\n",
       "     purchase_price stock_status_2  verif  \n",
       "4             23.77        instock  False  \n",
       "398            9.66     outofstock  False  "
      ]
     },
     "execution_count": 22,
     "metadata": {},
     "output_type": "execute_result"
    }
   ],
   "source": [
    "df_erp.loc[df_erp[\"verif\"]== False]"
   ]
  },
  {
   "cell_type": "code",
   "execution_count": 23,
   "id": "1ca6060a",
   "metadata": {},
   "outputs": [],
   "source": [
    "#Si les colonnes ne sont absolument pas identiques ligne à ligne alors identifier la ligne en écart\n",
    "##Dans ce cas je vous ce lien pour apprendre à réaliser des filtres dans Pandas:\n",
    "##https://bitbucket.org/hrojas/learn-pandas/src/master/\n",
    "##Lesson 3\n"
   ]
  },
  {
   "cell_type": "code",
   "execution_count": 24,
   "id": "ce1b9704",
   "metadata": {},
   "outputs": [],
   "source": [
    "#Corriger la ou les données incohérentes\n",
    "df_erp[\"stock_status\"] = np.where(df_erp['stock_quantity'] <= 0, \"outofstock\", \"instock\")\n",
    "\n",
    "#Verification en utilisant le même code que plus haut pour afficher les problemes\n"
   ]
  },
  {
   "cell_type": "code",
   "execution_count": 25,
   "id": "70ad6575",
   "metadata": {},
   "outputs": [],
   "source": [
    "df_erp[\"verif\"] = np.where(df_erp[\"stock_status\"] == df_erp[\"stock_status_2\"], True, False)"
   ]
  },
  {
   "cell_type": "code",
   "execution_count": 26,
   "id": "fe9d308f",
   "metadata": {},
   "outputs": [
    {
     "data": {
      "text/plain": [
       "0"
      ]
     },
     "execution_count": 26,
     "metadata": {},
     "output_type": "execute_result"
    }
   ],
   "source": [
    "len(df_erp.loc[df_erp[\"verif\"]== False])"
   ]
  },
  {
   "cell_type": "code",
   "execution_count": 27,
   "id": "7b92718d",
   "metadata": {},
   "outputs": [
    {
     "data": {
      "text/plain": [
       "825"
      ]
     },
     "execution_count": 27,
     "metadata": {},
     "output_type": "execute_result"
    }
   ],
   "source": [
    "df_erp[\"verif\"].sum()"
   ]
  },
  {
   "cell_type": "markdown",
   "id": "08bd4b08",
   "metadata": {},
   "source": [
    "<div style=\"border: 1px solid RGB(51,165,182);\" >\n",
    "<h3 style=\"margin: auto; padding: 20px; color: RGB(51,165,182); \">2.1.1 - Analyse exploratoire de chaque variable du fichier erp.xlsx</h3>\n",
    "</div>"
   ]
  },
  {
   "cell_type": "markdown",
   "id": "3476df40",
   "metadata": {},
   "source": [
    "<div style=\"border: 1px solid RGB(51,165,182);\" >\n",
    "<h3 style=\"margin: auto; padding: 20px; color: RGB(51,165,182); \">2.1.1.1 - Analyse de la variable PRIX</h3>\n",
    "</div>"
   ]
  },
  {
   "cell_type": "code",
   "execution_count": 28,
   "id": "654efa76",
   "metadata": {},
   "outputs": [
    {
     "data": {
      "text/html": [
       "<div>\n",
       "<style scoped>\n",
       "    .dataframe tbody tr th:only-of-type {\n",
       "        vertical-align: middle;\n",
       "    }\n",
       "\n",
       "    .dataframe tbody tr th {\n",
       "        vertical-align: top;\n",
       "    }\n",
       "\n",
       "    .dataframe thead th {\n",
       "        text-align: right;\n",
       "    }\n",
       "</style>\n",
       "<table border=\"1\" class=\"dataframe\">\n",
       "  <thead>\n",
       "    <tr style=\"text-align: right;\">\n",
       "      <th></th>\n",
       "      <th>product_id</th>\n",
       "      <th>onsale_web</th>\n",
       "      <th>price</th>\n",
       "      <th>stock_quantity</th>\n",
       "      <th>stock_status</th>\n",
       "      <th>purchase_price</th>\n",
       "      <th>stock_status_2</th>\n",
       "      <th>verif</th>\n",
       "    </tr>\n",
       "  </thead>\n",
       "  <tbody>\n",
       "    <tr>\n",
       "      <th>0</th>\n",
       "      <td>3847</td>\n",
       "      <td>1</td>\n",
       "      <td>24.2</td>\n",
       "      <td>16</td>\n",
       "      <td>instock</td>\n",
       "      <td>12.88</td>\n",
       "      <td>instock</td>\n",
       "      <td>True</td>\n",
       "    </tr>\n",
       "    <tr>\n",
       "      <th>1</th>\n",
       "      <td>3849</td>\n",
       "      <td>1</td>\n",
       "      <td>34.3</td>\n",
       "      <td>10</td>\n",
       "      <td>instock</td>\n",
       "      <td>17.54</td>\n",
       "      <td>instock</td>\n",
       "      <td>True</td>\n",
       "    </tr>\n",
       "    <tr>\n",
       "      <th>2</th>\n",
       "      <td>3850</td>\n",
       "      <td>1</td>\n",
       "      <td>20.8</td>\n",
       "      <td>0</td>\n",
       "      <td>outofstock</td>\n",
       "      <td>10.64</td>\n",
       "      <td>outofstock</td>\n",
       "      <td>True</td>\n",
       "    </tr>\n",
       "    <tr>\n",
       "      <th>3</th>\n",
       "      <td>4032</td>\n",
       "      <td>1</td>\n",
       "      <td>14.1</td>\n",
       "      <td>26</td>\n",
       "      <td>instock</td>\n",
       "      <td>6.92</td>\n",
       "      <td>instock</td>\n",
       "      <td>True</td>\n",
       "    </tr>\n",
       "    <tr>\n",
       "      <th>4</th>\n",
       "      <td>4039</td>\n",
       "      <td>1</td>\n",
       "      <td>46.0</td>\n",
       "      <td>3</td>\n",
       "      <td>instock</td>\n",
       "      <td>23.77</td>\n",
       "      <td>instock</td>\n",
       "      <td>True</td>\n",
       "    </tr>\n",
       "  </tbody>\n",
       "</table>\n",
       "</div>"
      ],
      "text/plain": [
       "   product_id  onsale_web  price  stock_quantity stock_status  purchase_price  \\\n",
       "0        3847           1   24.2              16      instock           12.88   \n",
       "1        3849           1   34.3              10      instock           17.54   \n",
       "2        3850           1   20.8               0   outofstock           10.64   \n",
       "3        4032           1   14.1              26      instock            6.92   \n",
       "4        4039           1   46.0               3      instock           23.77   \n",
       "\n",
       "  stock_status_2  verif  \n",
       "0        instock   True  \n",
       "1        instock   True  \n",
       "2     outofstock   True  \n",
       "3        instock   True  \n",
       "4        instock   True  "
      ]
     },
     "execution_count": 28,
     "metadata": {},
     "output_type": "execute_result"
    }
   ],
   "source": [
    "df_erp.head()"
   ]
  },
  {
   "cell_type": "code",
   "execution_count": null,
   "id": "c626bbc5",
   "metadata": {},
   "outputs": [
    {
     "data": {
      "text/plain": [
       "0"
      ]
     },
     "execution_count": 119,
     "metadata": {},
     "output_type": "execute_result"
    }
   ],
   "source": [
    "df_erp.loc[(df_erp['price'].isna())]['price'].count()"
   ]
  },
  {
   "cell_type": "code",
   "execution_count": 144,
   "id": "40de095d",
   "metadata": {},
   "outputs": [
    {
     "data": {
      "text/plain": [
       "0"
      ]
     },
     "execution_count": 144,
     "metadata": {},
     "output_type": "execute_result"
    }
   ],
   "source": [
    "df_erp.loc[(df_erp['price'] <=0)]['price'].count()"
   ]
  },
  {
   "cell_type": "code",
   "execution_count": 138,
   "id": "471d19ac",
   "metadata": {},
   "outputs": [
    {
     "data": {
      "text/html": [
       "<div>\n",
       "<style scoped>\n",
       "    .dataframe tbody tr th:only-of-type {\n",
       "        vertical-align: middle;\n",
       "    }\n",
       "\n",
       "    .dataframe tbody tr th {\n",
       "        vertical-align: top;\n",
       "    }\n",
       "\n",
       "    .dataframe thead th {\n",
       "        text-align: right;\n",
       "    }\n",
       "</style>\n",
       "<table border=\"1\" class=\"dataframe\">\n",
       "  <thead>\n",
       "    <tr style=\"text-align: right;\">\n",
       "      <th></th>\n",
       "      <th>product_id</th>\n",
       "      <th>onsale_web</th>\n",
       "      <th>price</th>\n",
       "      <th>stock_quantity</th>\n",
       "      <th>stock_status</th>\n",
       "      <th>purchase_price</th>\n",
       "    </tr>\n",
       "  </thead>\n",
       "  <tbody>\n",
       "    <tr>\n",
       "      <th>151</th>\n",
       "      <td>4233</td>\n",
       "      <td>0</td>\n",
       "      <td>-20.0</td>\n",
       "      <td>0</td>\n",
       "      <td>outofstock</td>\n",
       "      <td>10.33</td>\n",
       "    </tr>\n",
       "    <tr>\n",
       "      <th>469</th>\n",
       "      <td>5017</td>\n",
       "      <td>0</td>\n",
       "      <td>-8.0</td>\n",
       "      <td>0</td>\n",
       "      <td>outofstock</td>\n",
       "      <td>4.34</td>\n",
       "    </tr>\n",
       "    <tr>\n",
       "      <th>739</th>\n",
       "      <td>6594</td>\n",
       "      <td>0</td>\n",
       "      <td>-9.1</td>\n",
       "      <td>19</td>\n",
       "      <td>instock</td>\n",
       "      <td>4.61</td>\n",
       "    </tr>\n",
       "  </tbody>\n",
       "</table>\n",
       "</div>"
      ],
      "text/plain": [
       "     product_id  onsale_web  price  stock_quantity stock_status  \\\n",
       "151        4233           0  -20.0               0   outofstock   \n",
       "469        5017           0   -8.0               0   outofstock   \n",
       "739        6594           0   -9.1              19      instock   \n",
       "\n",
       "     purchase_price  \n",
       "151           10.33  \n",
       "469            4.34  \n",
       "739            4.61  "
      ]
     },
     "execution_count": 138,
     "metadata": {},
     "output_type": "execute_result"
    }
   ],
   "source": [
    "#Affichier les prix inférieurs à 0 (qu'est ce qu'il faut en faire ?) : prendre l'opposé ? \n",
    "df_erp.loc[df_erp['price'] < 0]"
   ]
  },
  {
   "cell_type": "code",
   "execution_count": 139,
   "id": "72b90685",
   "metadata": {},
   "outputs": [],
   "source": [
    "df_erp[\"price\"] = np.where(df_erp['price'] < 0, df_erp['price']*(-1), df_erp['price'])"
   ]
  },
  {
   "cell_type": "code",
   "execution_count": 140,
   "id": "1a0f85af",
   "metadata": {},
   "outputs": [
    {
     "data": {
      "text/html": [
       "<div>\n",
       "<style scoped>\n",
       "    .dataframe tbody tr th:only-of-type {\n",
       "        vertical-align: middle;\n",
       "    }\n",
       "\n",
       "    .dataframe tbody tr th {\n",
       "        vertical-align: top;\n",
       "    }\n",
       "\n",
       "    .dataframe thead th {\n",
       "        text-align: right;\n",
       "    }\n",
       "</style>\n",
       "<table border=\"1\" class=\"dataframe\">\n",
       "  <thead>\n",
       "    <tr style=\"text-align: right;\">\n",
       "      <th></th>\n",
       "      <th>product_id</th>\n",
       "      <th>onsale_web</th>\n",
       "      <th>price</th>\n",
       "      <th>stock_quantity</th>\n",
       "      <th>stock_status</th>\n",
       "      <th>purchase_price</th>\n",
       "    </tr>\n",
       "  </thead>\n",
       "  <tbody>\n",
       "  </tbody>\n",
       "</table>\n",
       "</div>"
      ],
      "text/plain": [
       "Empty DataFrame\n",
       "Columns: [product_id, onsale_web, price, stock_quantity, stock_status, purchase_price]\n",
       "Index: []"
      ]
     },
     "execution_count": 140,
     "metadata": {},
     "output_type": "execute_result"
    }
   ],
   "source": [
    "df_erp.loc[df_erp['price'] < 0]"
   ]
  },
  {
   "cell_type": "code",
   "execution_count": 154,
   "id": "a7fc3384",
   "metadata": {},
   "outputs": [
    {
     "name": "stdout",
     "output_type": "stream",
     "text": [
      "Nombres d'article avec un prix non renseignés: 0\n"
     ]
    }
   ],
   "source": [
    "###############\n",
    "## LES PRIX  ##\n",
    "###############\n",
    "\n",
    "#Vérification des prix: Y a t-il des prix non renseignés, négatif ou nul?\n",
    "#Afficher le ou les prix non renseignés dans la colonne \"price\"\n",
    "print(\"Nombres d'article avec un prix non renseignés: {}\".format(df_erp['price'].isna().sum())) #Saisir l'instruction manquante dans la fonction format\n"
   ]
  },
  {
   "cell_type": "code",
   "execution_count": 141,
   "id": "78bee7e9",
   "metadata": {},
   "outputs": [
    {
     "data": {
      "text/plain": [
       "5.2"
      ]
     },
     "execution_count": 141,
     "metadata": {},
     "output_type": "execute_result"
    }
   ],
   "source": [
    "#Afficher le prix minimum de la colonne \"price\"\n",
    "df_erp[\"price\"].min()\n"
   ]
  },
  {
   "cell_type": "code",
   "execution_count": 143,
   "id": "b23e4d56",
   "metadata": {},
   "outputs": [
    {
     "data": {
      "text/plain": [
       "225.0"
      ]
     },
     "execution_count": 143,
     "metadata": {},
     "output_type": "execute_result"
    }
   ],
   "source": [
    "#Afficher le prix maximum de la colonne \"price\"\n",
    "df_erp[\"price\"].max()\n"
   ]
  },
  {
   "cell_type": "markdown",
   "id": "c5fce58c",
   "metadata": {},
   "source": [
    "<div style=\"border: 1px solid RGB(51,165,182);\" >\n",
    "<h3 style=\"margin: auto; padding: 20px; color: RGB(51,165,182); \">2.1.1.2 - Analyse de la variable STOCK</h3>\n",
    "</div>"
   ]
  },
  {
   "cell_type": "code",
   "execution_count": null,
   "id": "3d14c4a0",
   "metadata": {},
   "outputs": [
    {
     "data": {
      "text/plain": [
       "-10"
      ]
     },
     "execution_count": 70,
     "metadata": {},
     "output_type": "execute_result"
    }
   ],
   "source": [
    "#######################\n",
    "### stock_quantity  ###\n",
    "#######################\n",
    "\n",
    "#Vérification de la colonne stock quantity\n",
    "#Afficher la quantité minimum de la colonne \"stock_quantity\"\n",
    "df_erp[\"stock_quantity\"].min()\n"
   ]
  },
  {
   "cell_type": "code",
   "execution_count": null,
   "id": "b8c0a915",
   "metadata": {},
   "outputs": [
    {
     "data": {
      "text/plain": [
       "145"
      ]
     },
     "execution_count": 71,
     "metadata": {},
     "output_type": "execute_result"
    }
   ],
   "source": [
    "#Afficher la quantité maximum de la colonne \"stock_quantity\"\n",
    "df_erp[\"stock_quantity\"].max()\n"
   ]
  },
  {
   "cell_type": "code",
   "execution_count": null,
   "id": "a4508c4e",
   "metadata": {},
   "outputs": [
    {
     "data": {
      "text/html": [
       "<div>\n",
       "<style scoped>\n",
       "    .dataframe tbody tr th:only-of-type {\n",
       "        vertical-align: middle;\n",
       "    }\n",
       "\n",
       "    .dataframe tbody tr th {\n",
       "        vertical-align: top;\n",
       "    }\n",
       "\n",
       "    .dataframe thead th {\n",
       "        text-align: right;\n",
       "    }\n",
       "</style>\n",
       "<table border=\"1\" class=\"dataframe\">\n",
       "  <thead>\n",
       "    <tr style=\"text-align: right;\">\n",
       "      <th></th>\n",
       "      <th>product_id</th>\n",
       "      <th>onsale_web</th>\n",
       "      <th>price</th>\n",
       "      <th>stock_quantity</th>\n",
       "      <th>stock_status</th>\n",
       "      <th>purchase_price</th>\n",
       "      <th>stock_status_2</th>\n",
       "      <th>verif</th>\n",
       "    </tr>\n",
       "  </thead>\n",
       "  <tbody>\n",
       "    <tr>\n",
       "      <th>449</th>\n",
       "      <td>4973</td>\n",
       "      <td>0</td>\n",
       "      <td>10.0</td>\n",
       "      <td>-10</td>\n",
       "      <td>outofstock</td>\n",
       "      <td>4.96</td>\n",
       "      <td>outofstock</td>\n",
       "      <td>True</td>\n",
       "    </tr>\n",
       "    <tr>\n",
       "      <th>573</th>\n",
       "      <td>5700</td>\n",
       "      <td>1</td>\n",
       "      <td>44.5</td>\n",
       "      <td>-1</td>\n",
       "      <td>outofstock</td>\n",
       "      <td>22.30</td>\n",
       "      <td>outofstock</td>\n",
       "      <td>True</td>\n",
       "    </tr>\n",
       "  </tbody>\n",
       "</table>\n",
       "</div>"
      ],
      "text/plain": [
       "     product_id  onsale_web  price  stock_quantity stock_status  \\\n",
       "449        4973           0   10.0             -10   outofstock   \n",
       "573        5700           1   44.5              -1   outofstock   \n",
       "\n",
       "     purchase_price stock_status_2  verif  \n",
       "449            4.96     outofstock   True  \n",
       "573           22.30     outofstock   True  "
      ]
     },
     "execution_count": 72,
     "metadata": {},
     "output_type": "execute_result"
    }
   ],
   "source": [
    "#Affichier les stocks inférieurs à 0 (qu'est ce qu'il faut en faire ?): les remplacer par 0 ?\n",
    "df_erp.loc[df_erp[\"stock_quantity\"]<0]"
   ]
  },
  {
   "cell_type": "markdown",
   "id": "20e8c554",
   "metadata": {},
   "source": [
    "<div style=\"border: 1px solid RGB(51,165,182);\" >\n",
    "<h3 style=\"margin: auto; padding: 20px; color: RGB(51,165,182); \">2.1.1.3 - Analyse de la variable ONSALE_WEB</h3>\n",
    "</div>"
   ]
  },
  {
   "cell_type": "code",
   "execution_count": null,
   "id": "99b936ca",
   "metadata": {},
   "outputs": [
    {
     "data": {
      "text/plain": [
       "array([1, 0])"
      ]
     },
     "execution_count": 73,
     "metadata": {},
     "output_type": "execute_result"
    }
   ],
   "source": [
    "#Vérification de la colonne onsale_web et des valeurs qu'elle contient? Que signifient-elles? 0 si l'article n'est pas vendu sur le web, \n",
    "#1 s'il est vendu sur le web ?\n",
    "df_erp['onsale_web'].unique()"
   ]
  },
  {
   "cell_type": "code",
   "execution_count": 94,
   "id": "5a79444d",
   "metadata": {},
   "outputs": [
    {
     "data": {
      "text/plain": [
       "716"
      ]
     },
     "execution_count": 94,
     "metadata": {},
     "output_type": "execute_result"
    }
   ],
   "source": [
    "#Quelles sont les colonnes à conserver selon vous?\n",
    "df_erp.loc[df_erp['onsale_web'] == 1]['onsale_web'].count()"
   ]
  },
  {
   "cell_type": "code",
   "execution_count": 60,
   "id": "8053aeda",
   "metadata": {},
   "outputs": [],
   "source": [
    "#Supprimer la colonne comportant le libellé \"stock_status_2\" car elle est redondante \n",
    "#avec la colonne \"stock_status\".\n",
    "del df_erp[\"stock_status_2\"]\n"
   ]
  },
  {
   "cell_type": "code",
   "execution_count": 61,
   "id": "546f52a0",
   "metadata": {},
   "outputs": [],
   "source": [
    "del df_erp[\"verif\"]\n"
   ]
  },
  {
   "cell_type": "code",
   "execution_count": 62,
   "id": "b94bec3a",
   "metadata": {},
   "outputs": [
    {
     "data": {
      "text/html": [
       "<div>\n",
       "<style scoped>\n",
       "    .dataframe tbody tr th:only-of-type {\n",
       "        vertical-align: middle;\n",
       "    }\n",
       "\n",
       "    .dataframe tbody tr th {\n",
       "        vertical-align: top;\n",
       "    }\n",
       "\n",
       "    .dataframe thead th {\n",
       "        text-align: right;\n",
       "    }\n",
       "</style>\n",
       "<table border=\"1\" class=\"dataframe\">\n",
       "  <thead>\n",
       "    <tr style=\"text-align: right;\">\n",
       "      <th></th>\n",
       "      <th>product_id</th>\n",
       "      <th>onsale_web</th>\n",
       "      <th>price</th>\n",
       "      <th>stock_quantity</th>\n",
       "      <th>stock_status</th>\n",
       "      <th>purchase_price</th>\n",
       "    </tr>\n",
       "  </thead>\n",
       "  <tbody>\n",
       "    <tr>\n",
       "      <th>0</th>\n",
       "      <td>3847</td>\n",
       "      <td>1</td>\n",
       "      <td>24.2</td>\n",
       "      <td>16</td>\n",
       "      <td>instock</td>\n",
       "      <td>12.88</td>\n",
       "    </tr>\n",
       "    <tr>\n",
       "      <th>1</th>\n",
       "      <td>3849</td>\n",
       "      <td>1</td>\n",
       "      <td>34.3</td>\n",
       "      <td>10</td>\n",
       "      <td>instock</td>\n",
       "      <td>17.54</td>\n",
       "    </tr>\n",
       "    <tr>\n",
       "      <th>2</th>\n",
       "      <td>3850</td>\n",
       "      <td>1</td>\n",
       "      <td>20.8</td>\n",
       "      <td>0</td>\n",
       "      <td>outofstock</td>\n",
       "      <td>10.64</td>\n",
       "    </tr>\n",
       "    <tr>\n",
       "      <th>3</th>\n",
       "      <td>4032</td>\n",
       "      <td>1</td>\n",
       "      <td>14.1</td>\n",
       "      <td>26</td>\n",
       "      <td>instock</td>\n",
       "      <td>6.92</td>\n",
       "    </tr>\n",
       "    <tr>\n",
       "      <th>4</th>\n",
       "      <td>4039</td>\n",
       "      <td>1</td>\n",
       "      <td>46.0</td>\n",
       "      <td>3</td>\n",
       "      <td>instock</td>\n",
       "      <td>23.77</td>\n",
       "    </tr>\n",
       "  </tbody>\n",
       "</table>\n",
       "</div>"
      ],
      "text/plain": [
       "   product_id  onsale_web  price  stock_quantity stock_status  purchase_price\n",
       "0        3847           1   24.2              16      instock           12.88\n",
       "1        3849           1   34.3              10      instock           17.54\n",
       "2        3850           1   20.8               0   outofstock           10.64\n",
       "3        4032           1   14.1              26      instock            6.92\n",
       "4        4039           1   46.0               3      instock           23.77"
      ]
     },
     "execution_count": 62,
     "metadata": {},
     "output_type": "execute_result"
    }
   ],
   "source": [
    "df_erp.head()"
   ]
  },
  {
   "cell_type": "markdown",
   "id": "eca4fce9",
   "metadata": {},
   "source": [
    "<div style=\"border: 1px solid RGB(51,165,182);\" >\n",
    "<h3 style=\"margin: auto; padding: 20px; color: RGB(51,165,182); \">2.1.1.4 - Analyse de la variable prix d'achat</h3>\n",
    "</div>"
   ]
  },
  {
   "cell_type": "code",
   "execution_count": 147,
   "id": "6b85ba0d",
   "metadata": {},
   "outputs": [
    {
     "data": {
      "text/plain": [
       "0"
      ]
     },
     "execution_count": 147,
     "metadata": {},
     "output_type": "execute_result"
    }
   ],
   "source": [
    "######################\n",
    "##   prix d'achat   ##\n",
    "######################\n",
    "\n",
    "#Vérification de la colonne purchase_price : \n",
    "#Afficher le ou les prix non renseignés dans la colonne \"purchase_price\"\n",
    "df_erp[\"purchase_price\"].isna().sum()\n"
   ]
  },
  {
   "cell_type": "code",
   "execution_count": 145,
   "id": "7b22c7b3",
   "metadata": {},
   "outputs": [
    {
     "data": {
      "text/plain": [
       "2.74"
      ]
     },
     "execution_count": 145,
     "metadata": {},
     "output_type": "execute_result"
    }
   ],
   "source": [
    "#Afficher le prix minimum de la colonne \"purchase_price\"\n",
    "df_erp['purchase_price'].min()\n",
    "\n"
   ]
  },
  {
   "cell_type": "code",
   "execution_count": null,
   "id": "47a8888a",
   "metadata": {},
   "outputs": [
    {
     "data": {
      "text/plain": [
       "137.81"
      ]
     },
     "execution_count": 93,
     "metadata": {},
     "output_type": "execute_result"
    }
   ],
   "source": [
    "#Afficher le prix maximum de la colonne \"purchase_price\"\n",
    "df_erp['purchase_price'].max()\n"
   ]
  },
  {
   "cell_type": "markdown",
   "id": "a550f996",
   "metadata": {},
   "source": [
    "<div style=\"border: 1px solid RGB(51,165,182);\" >\n",
    "<h3 style=\"margin: auto; padding: 20px; color: RGB(51,165,182); \">2.2 - Analyse exploratoire du fichier web.xlsx</h3>\n",
    "</div>\n",
    " "
   ]
  },
  {
   "cell_type": "code",
   "execution_count": null,
   "id": "bb7e292c",
   "metadata": {},
   "outputs": [
    {
     "name": "stdout",
     "output_type": "stream",
     "text": [
      "Le tableau comporte 1513 observation(s) ou article(s)\n",
      "Le tableau comporte 29 colonne(s)\n"
     ]
    }
   ],
   "source": [
    "#Dimension du dataset\n",
    "print(\"Le tableau comporte {} observation(s) ou article(s)\".format(df_web.shape[0]))\n",
    "print(\"Le tableau comporte {} colonne(s)\".format(df_web.shape[1]))\n",
    "#Nombre d'observations\n",
    "\n",
    "#Nombre de caractéristiques\n",
    "\n"
   ]
  },
  {
   "cell_type": "code",
   "execution_count": null,
   "id": "0b70a8da",
   "metadata": {},
   "outputs": [
    {
     "name": "stdout",
     "output_type": "stream",
     "text": [
      "<class 'pandas.core.frame.DataFrame'>\n",
      "RangeIndex: 1513 entries, 0 to 1512\n",
      "Data columns (total 29 columns):\n",
      " #   Column                 Non-Null Count  Dtype         \n",
      "---  ------                 --------------  -----         \n",
      " 0   sku                    1428 non-null   object        \n",
      " 1   virtual                1513 non-null   int64         \n",
      " 2   downloadable           1513 non-null   int64         \n",
      " 3   rating_count           1513 non-null   int64         \n",
      " 4   average_rating         1430 non-null   float64       \n",
      " 5   total_sales            1430 non-null   float64       \n",
      " 6   tax_status             716 non-null    object        \n",
      " 7   tax_class              0 non-null      float64       \n",
      " 8   post_author            1430 non-null   float64       \n",
      " 9   post_date              1430 non-null   datetime64[ns]\n",
      " 10  post_date_gmt          1430 non-null   datetime64[ns]\n",
      " 11  post_content           0 non-null      float64       \n",
      " 12  product_type           1429 non-null   object        \n",
      " 13  post_title             1430 non-null   object        \n",
      " 14  post_excerpt           716 non-null    object        \n",
      " 15  post_status            1430 non-null   object        \n",
      " 16  comment_status         1430 non-null   object        \n",
      " 17  ping_status            1430 non-null   object        \n",
      " 18  post_password          0 non-null      float64       \n",
      " 19  post_name              1430 non-null   object        \n",
      " 20  post_modified          1430 non-null   datetime64[ns]\n",
      " 21  post_modified_gmt      1430 non-null   datetime64[ns]\n",
      " 22  post_content_filtered  0 non-null      float64       \n",
      " 23  post_parent            1430 non-null   float64       \n",
      " 24  guid                   1430 non-null   object        \n",
      " 25  menu_order             1430 non-null   float64       \n",
      " 26  post_type              1430 non-null   object        \n",
      " 27  post_mime_type         714 non-null    object        \n",
      " 28  comment_count          1430 non-null   float64       \n",
      "dtypes: datetime64[ns](4), float64(10), int64(3), object(12)\n",
      "memory usage: 342.9+ KB\n"
     ]
    }
   ],
   "source": [
    "#Consulter le nombre de colonnes\n",
    "#La nature des données dans chacune des colonnes\n",
    "#Le nombre de valeurs présentes dans chacune des colonnes\n",
    "df_web.info()"
   ]
  },
  {
   "cell_type": "code",
   "execution_count": 32,
   "id": "b0d2f149",
   "metadata": {},
   "outputs": [],
   "source": [
    "#Selon vous, quelles sont les colonnes à conserver ?\n",
    "#Si vous avez défini des colonnes à supprimer, effectuer l'opération\n",
    "# sku, total_sales, tax_status, post_date_gmt, product_type, post_name, post_modified_gmt, post_type\n",
    "\n",
    "\n",
    "web_conserved = df_web.drop(columns=['virtual', 'downloadable', 'rating_count', \n",
    "                                     'average_rating', 'tax_class', 'post_author', \n",
    "                                     'post_date', 'post_content', 'post_title', \n",
    "                                     'post_excerpt', 'post_status', 'comment_status',\n",
    "                                     'ping_status', 'post_password', 'post_modified',\n",
    "                                     'post_content_filtered', 'post_parent', 'guid',\n",
    "                                     'menu_order', 'post_mime_type', 'comment_count'])"
   ]
  },
  {
   "cell_type": "code",
   "execution_count": 155,
   "id": "3fa4cc15",
   "metadata": {},
   "outputs": [
    {
     "name": "stdout",
     "output_type": "stream",
     "text": [
      "798 doublons dans la table web.\n"
     ]
    }
   ],
   "source": [
    "print(df_web.duplicated(subset='sku', keep='first').sum(), \"doublons dans la table web.\")"
   ]
  },
  {
   "cell_type": "code",
   "execution_count": 35,
   "id": "cc6a8ad1",
   "metadata": {},
   "outputs": [
    {
     "name": "stdout",
     "output_type": "stream",
     "text": [
      "715 références produit web uniques sont présentes dans le fichier web.\n"
     ]
    }
   ],
   "source": [
    "print(len(df_web['sku'].unique()), \"références produit web uniques sont présentes dans le fichier web.\")"
   ]
  },
  {
   "cell_type": "code",
   "execution_count": null,
   "id": "1b965d06",
   "metadata": {},
   "outputs": [],
   "source": [
    "#Visualisation des valeurs de la colonne sku\n",
    "#Quelles sont les valeurs qui ne semblent pas respecter la règle de codification?: contient des caractères autre que chiffres ?\n"
   ]
  },
  {
   "cell_type": "code",
   "execution_count": null,
   "id": "1226dcfd",
   "metadata": {},
   "outputs": [],
   "source": [
    "#Si vous avez identifié des codes articles ne respectant pas la régle de codification, consultez-les?\n"
   ]
  },
  {
   "cell_type": "code",
   "execution_count": 184,
   "id": "967495da",
   "metadata": {},
   "outputs": [],
   "source": [
    "#Pour les codes articles identifiés, réalisé une analyse et définissez l'action à entreprendre\n",
    "identified_web_articles = web_conserved.dropna(subset=['sku']) "
   ]
  },
  {
   "cell_type": "code",
   "execution_count": 185,
   "id": "4453b9f3",
   "metadata": {},
   "outputs": [],
   "source": [
    "identified_web_articles = identified_web_articles.drop_duplicates(subset='sku', keep='first', inplace=False, ignore_index=False)"
   ]
  },
  {
   "cell_type": "code",
   "execution_count": 186,
   "id": "27bf30de",
   "metadata": {},
   "outputs": [
    {
     "data": {
      "text/plain": [
       "0"
      ]
     },
     "execution_count": 186,
     "metadata": {},
     "output_type": "execute_result"
    }
   ],
   "source": [
    "#La clé pour chaque ligne est-elle uniques? ou autrement dit, y a-t-il des doublons?\n",
    "identified_web_articles.duplicated(subset=None, keep='first').sum()"
   ]
  },
  {
   "cell_type": "code",
   "execution_count": 187,
   "id": "bf1616c7",
   "metadata": {},
   "outputs": [
    {
     "name": "stdout",
     "output_type": "stream",
     "text": [
      "<class 'pandas.core.frame.DataFrame'>\n",
      "Index: 714 entries, 0 to 1391\n",
      "Data columns (total 8 columns):\n",
      " #   Column             Non-Null Count  Dtype         \n",
      "---  ------             --------------  -----         \n",
      " 0   sku                714 non-null    object        \n",
      " 1   total_sales        714 non-null    float64       \n",
      " 2   tax_status         361 non-null    object        \n",
      " 3   post_date_gmt      714 non-null    datetime64[ns]\n",
      " 4   product_type       714 non-null    object        \n",
      " 5   post_name          714 non-null    object        \n",
      " 6   post_modified_gmt  714 non-null    datetime64[ns]\n",
      " 7   post_type          714 non-null    object        \n",
      "dtypes: datetime64[ns](2), float64(1), object(5)\n",
      "memory usage: 50.2+ KB\n"
     ]
    }
   ],
   "source": [
    "identified_web_articles.info()"
   ]
  },
  {
   "cell_type": "code",
   "execution_count": 1116,
   "id": "772a4dac",
   "metadata": {},
   "outputs": [
    {
     "data": {
      "text/html": [
       "<div>\n",
       "<style scoped>\n",
       "    .dataframe tbody tr th:only-of-type {\n",
       "        vertical-align: middle;\n",
       "    }\n",
       "\n",
       "    .dataframe tbody tr th {\n",
       "        vertical-align: top;\n",
       "    }\n",
       "\n",
       "    .dataframe thead th {\n",
       "        text-align: right;\n",
       "    }\n",
       "</style>\n",
       "<table border=\"1\" class=\"dataframe\">\n",
       "  <thead>\n",
       "    <tr style=\"text-align: right;\">\n",
       "      <th></th>\n",
       "      <th>sku</th>\n",
       "      <th>total_sales</th>\n",
       "      <th>tax_status</th>\n",
       "      <th>post_date_gmt</th>\n",
       "      <th>product_type</th>\n",
       "      <th>post_name</th>\n",
       "      <th>post_modified_gmt</th>\n",
       "      <th>post_type</th>\n",
       "    </tr>\n",
       "  </thead>\n",
       "  <tbody>\n",
       "    <tr>\n",
       "      <th>773</th>\n",
       "      <td>14736</td>\n",
       "      <td>8.0</td>\n",
       "      <td>NaN</td>\n",
       "      <td>2019-01-31 10:58:26</td>\n",
       "      <td>Vin</td>\n",
       "      <td>gilles-robin-crozes-hermitage-rouge-1920-2016-...</td>\n",
       "      <td>2020-04-21 08:45:03</td>\n",
       "      <td>attachment</td>\n",
       "    </tr>\n",
       "  </tbody>\n",
       "</table>\n",
       "</div>"
      ],
      "text/plain": [
       "       sku  total_sales tax_status       post_date_gmt product_type  \\\n",
       "773  14736          8.0        NaN 2019-01-31 10:58:26          Vin   \n",
       "\n",
       "                                             post_name   post_modified_gmt  \\\n",
       "773  gilles-robin-crozes-hermitage-rouge-1920-2016-... 2020-04-21 08:45:03   \n",
       "\n",
       "      post_type  \n",
       "773  attachment  "
      ]
     },
     "execution_count": 1116,
     "metadata": {},
     "output_type": "execute_result"
    }
   ],
   "source": [
    "identified_web_articles.loc[identified_web_articles[\"sku\"] == 14736]"
   ]
  },
  {
   "cell_type": "code",
   "execution_count": 41,
   "id": "8b81d617",
   "metadata": {},
   "outputs": [],
   "source": [
    "#Les lignes sans code article semble être toutes non renseignés\n",
    "#Pour s'en assurer réaliser les étapes suivantes:\n",
    "#1 - Créer un dataframe avec uniquement les lignes sans code article\n",
    "non_identified_articles = df_web.loc[df_web['sku'].isna()]\n",
    "\n"
   ]
  },
  {
   "cell_type": "code",
   "execution_count": null,
   "id": "d976ad97",
   "metadata": {},
   "outputs": [],
   "source": [
    "#2 - utiliser la fonction df.info() sur ce nouveau dataframe pour observer le nombre de valeur reseigner dans chacune des colonnes\n",
    "non_identified_articles.info()\n"
   ]
  },
  {
   "cell_type": "code",
   "execution_count": null,
   "id": "bfa5aa35",
   "metadata": {},
   "outputs": [],
   "source": [
    "non_identified_articles.head(43)\n",
    "non_identified_articles.tail(42)"
   ]
  },
  {
   "cell_type": "code",
   "execution_count": 42,
   "id": "7b673165",
   "metadata": {},
   "outputs": [
    {
     "data": {
      "text/html": [
       "<div>\n",
       "<style scoped>\n",
       "    .dataframe tbody tr th:only-of-type {\n",
       "        vertical-align: middle;\n",
       "    }\n",
       "\n",
       "    .dataframe tbody tr th {\n",
       "        vertical-align: top;\n",
       "    }\n",
       "\n",
       "    .dataframe thead th {\n",
       "        text-align: right;\n",
       "    }\n",
       "</style>\n",
       "<table border=\"1\" class=\"dataframe\">\n",
       "  <thead>\n",
       "    <tr style=\"text-align: right;\">\n",
       "      <th></th>\n",
       "      <th>sku</th>\n",
       "      <th>virtual</th>\n",
       "      <th>downloadable</th>\n",
       "      <th>rating_count</th>\n",
       "      <th>average_rating</th>\n",
       "      <th>total_sales</th>\n",
       "      <th>tax_status</th>\n",
       "      <th>tax_class</th>\n",
       "      <th>post_author</th>\n",
       "      <th>post_date</th>\n",
       "      <th>...</th>\n",
       "      <th>post_name</th>\n",
       "      <th>post_modified</th>\n",
       "      <th>post_modified_gmt</th>\n",
       "      <th>post_content_filtered</th>\n",
       "      <th>post_parent</th>\n",
       "      <th>guid</th>\n",
       "      <th>menu_order</th>\n",
       "      <th>post_type</th>\n",
       "      <th>post_mime_type</th>\n",
       "      <th>comment_count</th>\n",
       "    </tr>\n",
       "  </thead>\n",
       "  <tbody>\n",
       "    <tr>\n",
       "      <th>1084</th>\n",
       "      <td>NaN</td>\n",
       "      <td>0</td>\n",
       "      <td>0</td>\n",
       "      <td>0</td>\n",
       "      <td>0.0</td>\n",
       "      <td>-56.0</td>\n",
       "      <td>taxable</td>\n",
       "      <td>NaN</td>\n",
       "      <td>2.0</td>\n",
       "      <td>2018-08-08 11:23:43</td>\n",
       "      <td>...</td>\n",
       "      <td>pierre-jean-villa-condrieu-suspendu-2018</td>\n",
       "      <td>2019-11-02 13:24:01</td>\n",
       "      <td>2019-11-02 12:24:01</td>\n",
       "      <td>NaN</td>\n",
       "      <td>0.0</td>\n",
       "      <td>https://www.bottle-neck.fr/?post_type=product&amp;...</td>\n",
       "      <td>0.0</td>\n",
       "      <td>product</td>\n",
       "      <td>NaN</td>\n",
       "      <td>0.0</td>\n",
       "    </tr>\n",
       "    <tr>\n",
       "      <th>1087</th>\n",
       "      <td>NaN</td>\n",
       "      <td>0</td>\n",
       "      <td>0</td>\n",
       "      <td>0</td>\n",
       "      <td>0.0</td>\n",
       "      <td>-17.0</td>\n",
       "      <td>taxable</td>\n",
       "      <td>NaN</td>\n",
       "      <td>2.0</td>\n",
       "      <td>2018-07-31 12:07:23</td>\n",
       "      <td>...</td>\n",
       "      <td>pierre-jean-villa-cote-rotie-fongeant-2017</td>\n",
       "      <td>2019-11-02 13:24:15</td>\n",
       "      <td>2019-11-02 12:24:15</td>\n",
       "      <td>NaN</td>\n",
       "      <td>0.0</td>\n",
       "      <td>https://www.bottle-neck.fr/?post_type=product&amp;...</td>\n",
       "      <td>0.0</td>\n",
       "      <td>product</td>\n",
       "      <td>NaN</td>\n",
       "      <td>0.0</td>\n",
       "    </tr>\n",
       "  </tbody>\n",
       "</table>\n",
       "<p>2 rows × 29 columns</p>\n",
       "</div>"
      ],
      "text/plain": [
       "      sku  virtual  downloadable  rating_count  average_rating  total_sales  \\\n",
       "1084  NaN        0             0             0             0.0        -56.0   \n",
       "1087  NaN        0             0             0             0.0        -17.0   \n",
       "\n",
       "     tax_status  tax_class  post_author           post_date  ...  \\\n",
       "1084    taxable        NaN          2.0 2018-08-08 11:23:43  ...   \n",
       "1087    taxable        NaN          2.0 2018-07-31 12:07:23  ...   \n",
       "\n",
       "                                       post_name       post_modified  \\\n",
       "1084    pierre-jean-villa-condrieu-suspendu-2018 2019-11-02 13:24:01   \n",
       "1087  pierre-jean-villa-cote-rotie-fongeant-2017 2019-11-02 13:24:15   \n",
       "\n",
       "       post_modified_gmt post_content_filtered post_parent  \\\n",
       "1084 2019-11-02 12:24:01                   NaN         0.0   \n",
       "1087 2019-11-02 12:24:15                   NaN         0.0   \n",
       "\n",
       "                                                   guid menu_order post_type  \\\n",
       "1084  https://www.bottle-neck.fr/?post_type=product&...        0.0   product   \n",
       "1087  https://www.bottle-neck.fr/?post_type=product&...        0.0   product   \n",
       "\n",
       "      post_mime_type comment_count  \n",
       "1084             NaN           0.0  \n",
       "1087             NaN           0.0  \n",
       "\n",
       "[2 rows x 29 columns]"
      ]
     },
     "execution_count": 42,
     "metadata": {},
     "output_type": "execute_result"
    }
   ],
   "source": [
    "non_identified_articles.loc[non_identified_articles[\"total_sales\"]<0]"
   ]
  },
  {
   "cell_type": "code",
   "execution_count": null,
   "id": "ebf4e09e",
   "metadata": {},
   "outputs": [],
   "source": [
    "#3 - Que constatez-vous?\n",
    "#2 produits sans identifiants mais qui présentent des valeurs dans les colonnes total sales..."
   ]
  },
  {
   "cell_type": "markdown",
   "id": "dbff6403",
   "metadata": {},
   "source": [
    "<div style=\"border: 1px solid RGB(51,165,182);\" >\n",
    "<h3 style=\"margin: auto; padding: 20px; color: RGB(51,165,182); \">2.3 - Analyse exploratoire du fichier liaison.xlsx</h3>\n",
    "</div>"
   ]
  },
  {
   "cell_type": "code",
   "execution_count": null,
   "id": "de426b74",
   "metadata": {},
   "outputs": [
    {
     "name": "stdout",
     "output_type": "stream",
     "text": [
      "Le tableau comporte 825 observation(s) ou article(s)\n",
      "Le tableau comporte 2 colonne(s)\n"
     ]
    }
   ],
   "source": [
    "#Dimension du dataset\n",
    "print(\"Le tableau comporte {} observation(s) ou article(s)\".format(df_liaison.shape[0]))\n",
    "print(\"Le tableau comporte {} colonne(s)\".format(df_liaison.shape[1]))\n",
    "#Nombre d'observations\n",
    "\n",
    "#Nombre de caractéristiques\n"
   ]
  },
  {
   "cell_type": "code",
   "execution_count": null,
   "id": "9834ae33",
   "metadata": {},
   "outputs": [
    {
     "name": "stdout",
     "output_type": "stream",
     "text": [
      "<class 'pandas.core.frame.DataFrame'>\n",
      "RangeIndex: 825 entries, 0 to 824\n",
      "Data columns (total 2 columns):\n",
      " #   Column      Non-Null Count  Dtype \n",
      "---  ------      --------------  ----- \n",
      " 0   id_web      734 non-null    object\n",
      " 1   product_id  825 non-null    int64 \n",
      "dtypes: int64(1), object(1)\n",
      "memory usage: 13.0+ KB\n"
     ]
    }
   ],
   "source": [
    "#Consulter le nombre de colonnes\n",
    "#La nature des données dans chacune des colonnes\n",
    "#Le nombre de valeurs présentes dans chacune des colonnes\n",
    "df_liaison.info()\n"
   ]
  },
  {
   "cell_type": "code",
   "execution_count": 87,
   "id": "2b30d6b2",
   "metadata": {},
   "outputs": [
    {
     "data": {
      "text/plain": [
       "0"
      ]
     },
     "execution_count": 87,
     "metadata": {},
     "output_type": "execute_result"
    }
   ],
   "source": [
    "#Les valeurs de la colonne \"product_id\" sont elles toutes uniques?\n",
    "df_liaison.duplicated(subset='product_id', keep='first').sum()\n"
   ]
  },
  {
   "cell_type": "code",
   "execution_count": null,
   "id": "beb302dc",
   "metadata": {},
   "outputs": [
    {
     "data": {
      "text/plain": [
       "825"
      ]
     },
     "execution_count": 135,
     "metadata": {},
     "output_type": "execute_result"
    }
   ],
   "source": [
    "df_liaison['product_id'].unique().shape[0]"
   ]
  },
  {
   "cell_type": "code",
   "execution_count": 88,
   "id": "4d8ca13c",
   "metadata": {},
   "outputs": [
    {
     "data": {
      "text/plain": [
       "90"
      ]
     },
     "execution_count": 88,
     "metadata": {},
     "output_type": "execute_result"
    }
   ],
   "source": [
    "#Les valeurs de la colonne \"id_web\" sont-elles toutes uniques? NON \n",
    "df_liaison.duplicated(subset='id_web', keep='first').sum()\n",
    "\n"
   ]
  },
  {
   "cell_type": "code",
   "execution_count": 89,
   "id": "26512e24",
   "metadata": {},
   "outputs": [
    {
     "data": {
      "text/plain": [
       "735"
      ]
     },
     "execution_count": 89,
     "metadata": {},
     "output_type": "execute_result"
    }
   ],
   "source": [
    "df_liaison['id_web'].unique().shape[0]"
   ]
  },
  {
   "cell_type": "code",
   "execution_count": null,
   "id": "52f7c843",
   "metadata": {},
   "outputs": [],
   "source": [
    "#Avons-nous des articles sans correspondances? oui \n"
   ]
  },
  {
   "cell_type": "markdown",
   "id": "1a359137",
   "metadata": {},
   "source": [
    "<div style=\"background-color: RGB(51,165,182);\" >\n",
    "<h2 style=\"margin: auto; padding: 20px; color:#fff; \">Etape 3 - Jonction des fichiers</h2>\n",
    "</div>"
   ]
  },
  {
   "cell_type": "markdown",
   "id": "b7750c10",
   "metadata": {},
   "source": [
    "<div style=\"border: 1px solid RGB(51,165,182);\" >\n",
    "<h3 style=\"margin: auto; padding: 20px; color: RGB(51,165,182); \">Etape 3.1 - Jonction du fichier df_erp et df_liaison</h3>\n",
    "</div>"
   ]
  },
  {
   "cell_type": "code",
   "execution_count": 244,
   "id": "e756ec7d",
   "metadata": {},
   "outputs": [],
   "source": [
    "#Fusion des fichiers df_erp et df_liaison\n",
    "df_merge = pd.merge(df_erp, df_liaison, on = 'product_id', how = 'inner')"
   ]
  },
  {
   "cell_type": "code",
   "execution_count": 182,
   "id": "0db248ef",
   "metadata": {},
   "outputs": [
    {
     "name": "stdout",
     "output_type": "stream",
     "text": [
      "<class 'pandas.core.frame.DataFrame'>\n",
      "RangeIndex: 825 entries, 0 to 824\n",
      "Data columns (total 7 columns):\n",
      " #   Column          Non-Null Count  Dtype  \n",
      "---  ------          --------------  -----  \n",
      " 0   product_id      825 non-null    int64  \n",
      " 1   onsale_web      825 non-null    int64  \n",
      " 2   price           825 non-null    float64\n",
      " 3   stock_quantity  825 non-null    int64  \n",
      " 4   stock_status    825 non-null    object \n",
      " 5   purchase_price  825 non-null    float64\n",
      " 6   id_web          734 non-null    object \n",
      "dtypes: float64(2), int64(3), object(2)\n",
      "memory usage: 45.2+ KB\n"
     ]
    }
   ],
   "source": [
    "df_merge.info()"
   ]
  },
  {
   "cell_type": "code",
   "execution_count": null,
   "id": "b7e1da5e",
   "metadata": {},
   "outputs": [],
   "source": [
    "#Y a t-il des lignes ne \"matchant\" pas entre les 2 fichiers? non\n"
   ]
  },
  {
   "cell_type": "markdown",
   "id": "fe4c51d7",
   "metadata": {},
   "source": [
    "<div style=\"border: 1px solid RGB(51,165,182);\" >\n",
    "<h3 style=\"margin: auto; padding: 20px; color: RGB(51,165,182); \">Etape 3.2 - Jonction du fichier df_merge et df_web</h3>\n",
    "</div>"
   ]
  },
  {
   "cell_type": "code",
   "execution_count": 264,
   "id": "46d9382b",
   "metadata": {},
   "outputs": [],
   "source": [
    "#Fusionnez les datasets df_merge et df_web\n",
    "merge_web = pd.merge(identified_web_articles, df_merge, left_on = 'sku', right_on = 'id_web', how='right')"
   ]
  },
  {
   "cell_type": "code",
   "execution_count": 189,
   "id": "898057cb",
   "metadata": {},
   "outputs": [
    {
     "name": "stdout",
     "output_type": "stream",
     "text": [
      "<class 'pandas.core.frame.DataFrame'>\n",
      "RangeIndex: 825 entries, 0 to 824\n",
      "Data columns (total 15 columns):\n",
      " #   Column             Non-Null Count  Dtype         \n",
      "---  ------             --------------  -----         \n",
      " 0   sku                714 non-null    object        \n",
      " 1   total_sales        714 non-null    float64       \n",
      " 2   tax_status         361 non-null    object        \n",
      " 3   post_date_gmt      714 non-null    datetime64[ns]\n",
      " 4   product_type       714 non-null    object        \n",
      " 5   post_name          714 non-null    object        \n",
      " 6   post_modified_gmt  714 non-null    datetime64[ns]\n",
      " 7   post_type          714 non-null    object        \n",
      " 8   product_id         825 non-null    int64         \n",
      " 9   onsale_web         825 non-null    int64         \n",
      " 10  price              825 non-null    float64       \n",
      " 11  stock_quantity     825 non-null    int64         \n",
      " 12  stock_status       825 non-null    object        \n",
      " 13  purchase_price     825 non-null    float64       \n",
      " 14  id_web             734 non-null    object        \n",
      "dtypes: datetime64[ns](2), float64(3), int64(3), object(7)\n",
      "memory usage: 96.8+ KB\n"
     ]
    }
   ],
   "source": [
    "merge_web.info()"
   ]
  },
  {
   "cell_type": "code",
   "execution_count": 265,
   "id": "8a96e10c",
   "metadata": {},
   "outputs": [
    {
     "data": {
      "text/html": [
       "<div>\n",
       "<style scoped>\n",
       "    .dataframe tbody tr th:only-of-type {\n",
       "        vertical-align: middle;\n",
       "    }\n",
       "\n",
       "    .dataframe tbody tr th {\n",
       "        vertical-align: top;\n",
       "    }\n",
       "\n",
       "    .dataframe thead th {\n",
       "        text-align: right;\n",
       "    }\n",
       "</style>\n",
       "<table border=\"1\" class=\"dataframe\">\n",
       "  <thead>\n",
       "    <tr style=\"text-align: right;\">\n",
       "      <th></th>\n",
       "      <th>sku</th>\n",
       "      <th>total_sales</th>\n",
       "      <th>tax_status</th>\n",
       "      <th>post_date_gmt</th>\n",
       "      <th>product_type</th>\n",
       "      <th>post_name</th>\n",
       "      <th>post_modified_gmt</th>\n",
       "      <th>post_type</th>\n",
       "      <th>product_id</th>\n",
       "      <th>onsale_web</th>\n",
       "      <th>price</th>\n",
       "      <th>stock_quantity</th>\n",
       "      <th>stock_status</th>\n",
       "      <th>purchase_price</th>\n",
       "      <th>prix_deviation</th>\n",
       "      <th>id_web</th>\n",
       "    </tr>\n",
       "  </thead>\n",
       "  <tbody>\n",
       "    <tr>\n",
       "      <th>242</th>\n",
       "      <td>NaN</td>\n",
       "      <td>NaN</td>\n",
       "      <td>NaN</td>\n",
       "      <td>NaT</td>\n",
       "      <td>NaN</td>\n",
       "      <td>NaN</td>\n",
       "      <td>NaT</td>\n",
       "      <td>NaN</td>\n",
       "      <td>4594</td>\n",
       "      <td>1</td>\n",
       "      <td>144.0</td>\n",
       "      <td>0</td>\n",
       "      <td>outofstock</td>\n",
       "      <td>87.36</td>\n",
       "      <td>4.202</td>\n",
       "      <td>NaN</td>\n",
       "    </tr>\n",
       "    <tr>\n",
       "      <th>486</th>\n",
       "      <td>NaN</td>\n",
       "      <td>NaN</td>\n",
       "      <td>NaN</td>\n",
       "      <td>NaT</td>\n",
       "      <td>NaN</td>\n",
       "      <td>NaN</td>\n",
       "      <td>NaT</td>\n",
       "      <td>NaN</td>\n",
       "      <td>5070</td>\n",
       "      <td>1</td>\n",
       "      <td>84.7</td>\n",
       "      <td>0</td>\n",
       "      <td>outofstock</td>\n",
       "      <td>47.43</td>\n",
       "      <td>1.972</td>\n",
       "      <td>NaN</td>\n",
       "    </tr>\n",
       "    <tr>\n",
       "      <th>487</th>\n",
       "      <td>NaN</td>\n",
       "      <td>NaN</td>\n",
       "      <td>NaN</td>\n",
       "      <td>NaT</td>\n",
       "      <td>NaN</td>\n",
       "      <td>NaN</td>\n",
       "      <td>NaT</td>\n",
       "      <td>NaN</td>\n",
       "      <td>5075</td>\n",
       "      <td>1</td>\n",
       "      <td>43.3</td>\n",
       "      <td>0</td>\n",
       "      <td>outofstock</td>\n",
       "      <td>21.70</td>\n",
       "      <td>0.414</td>\n",
       "      <td>NaN</td>\n",
       "    </tr>\n",
       "  </tbody>\n",
       "</table>\n",
       "</div>"
      ],
      "text/plain": [
       "     sku  total_sales tax_status post_date_gmt product_type post_name  \\\n",
       "242  NaN          NaN        NaN           NaT          NaN       NaN   \n",
       "486  NaN          NaN        NaN           NaT          NaN       NaN   \n",
       "487  NaN          NaN        NaN           NaT          NaN       NaN   \n",
       "\n",
       "    post_modified_gmt post_type  product_id  onsale_web  price  \\\n",
       "242               NaT       NaN        4594           1  144.0   \n",
       "486               NaT       NaN        5070           1   84.7   \n",
       "487               NaT       NaN        5075           1   43.3   \n",
       "\n",
       "     stock_quantity stock_status  purchase_price  prix_deviation id_web  \n",
       "242               0   outofstock           87.36           4.202    NaN  \n",
       "486               0   outofstock           47.43           1.972    NaN  \n",
       "487               0   outofstock           21.70           0.414    NaN  "
      ]
     },
     "execution_count": 265,
     "metadata": {},
     "output_type": "execute_result"
    }
   ],
   "source": [
    "merge_web.loc[merge_web['onsale_web'] == 1].loc[merge_web[\"id_web\"].isna()] "
   ]
  },
  {
   "cell_type": "code",
   "execution_count": 266,
   "id": "548a5dff",
   "metadata": {},
   "outputs": [
    {
     "data": {
      "text/html": [
       "<div>\n",
       "<style scoped>\n",
       "    .dataframe tbody tr th:only-of-type {\n",
       "        vertical-align: middle;\n",
       "    }\n",
       "\n",
       "    .dataframe tbody tr th {\n",
       "        vertical-align: top;\n",
       "    }\n",
       "\n",
       "    .dataframe thead th {\n",
       "        text-align: right;\n",
       "    }\n",
       "</style>\n",
       "<table border=\"1\" class=\"dataframe\">\n",
       "  <thead>\n",
       "    <tr style=\"text-align: right;\">\n",
       "      <th></th>\n",
       "      <th>sku</th>\n",
       "      <th>total_sales</th>\n",
       "      <th>tax_status</th>\n",
       "      <th>post_date_gmt</th>\n",
       "      <th>product_type</th>\n",
       "      <th>post_name</th>\n",
       "      <th>post_modified_gmt</th>\n",
       "      <th>post_type</th>\n",
       "      <th>product_id</th>\n",
       "      <th>onsale_web</th>\n",
       "      <th>price</th>\n",
       "      <th>stock_quantity</th>\n",
       "      <th>stock_status</th>\n",
       "      <th>purchase_price</th>\n",
       "      <th>prix_deviation</th>\n",
       "      <th>id_web</th>\n",
       "    </tr>\n",
       "  </thead>\n",
       "  <tbody>\n",
       "    <tr>\n",
       "      <th>242</th>\n",
       "      <td>NaN</td>\n",
       "      <td>NaN</td>\n",
       "      <td>NaN</td>\n",
       "      <td>NaT</td>\n",
       "      <td>NaN</td>\n",
       "      <td>NaN</td>\n",
       "      <td>NaT</td>\n",
       "      <td>NaN</td>\n",
       "      <td>4594</td>\n",
       "      <td>1</td>\n",
       "      <td>144.0</td>\n",
       "      <td>0</td>\n",
       "      <td>outofstock</td>\n",
       "      <td>87.36</td>\n",
       "      <td>4.202</td>\n",
       "      <td>NaN</td>\n",
       "    </tr>\n",
       "    <tr>\n",
       "      <th>486</th>\n",
       "      <td>NaN</td>\n",
       "      <td>NaN</td>\n",
       "      <td>NaN</td>\n",
       "      <td>NaT</td>\n",
       "      <td>NaN</td>\n",
       "      <td>NaN</td>\n",
       "      <td>NaT</td>\n",
       "      <td>NaN</td>\n",
       "      <td>5070</td>\n",
       "      <td>1</td>\n",
       "      <td>84.7</td>\n",
       "      <td>0</td>\n",
       "      <td>outofstock</td>\n",
       "      <td>47.43</td>\n",
       "      <td>1.972</td>\n",
       "      <td>NaN</td>\n",
       "    </tr>\n",
       "    <tr>\n",
       "      <th>487</th>\n",
       "      <td>NaN</td>\n",
       "      <td>NaN</td>\n",
       "      <td>NaN</td>\n",
       "      <td>NaT</td>\n",
       "      <td>NaN</td>\n",
       "      <td>NaN</td>\n",
       "      <td>NaT</td>\n",
       "      <td>NaN</td>\n",
       "      <td>5075</td>\n",
       "      <td>1</td>\n",
       "      <td>43.3</td>\n",
       "      <td>0</td>\n",
       "      <td>outofstock</td>\n",
       "      <td>21.70</td>\n",
       "      <td>0.414</td>\n",
       "      <td>NaN</td>\n",
       "    </tr>\n",
       "  </tbody>\n",
       "</table>\n",
       "</div>"
      ],
      "text/plain": [
       "     sku  total_sales tax_status post_date_gmt product_type post_name  \\\n",
       "242  NaN          NaN        NaN           NaT          NaN       NaN   \n",
       "486  NaN          NaN        NaN           NaT          NaN       NaN   \n",
       "487  NaN          NaN        NaN           NaT          NaN       NaN   \n",
       "\n",
       "    post_modified_gmt post_type  product_id  onsale_web  price  \\\n",
       "242               NaT       NaN        4594           1  144.0   \n",
       "486               NaT       NaN        5070           1   84.7   \n",
       "487               NaT       NaN        5075           1   43.3   \n",
       "\n",
       "     stock_quantity stock_status  purchase_price  prix_deviation id_web  \n",
       "242               0   outofstock           87.36           4.202    NaN  \n",
       "486               0   outofstock           47.43           1.972    NaN  \n",
       "487               0   outofstock           21.70           0.414    NaN  "
      ]
     },
     "execution_count": 266,
     "metadata": {},
     "output_type": "execute_result"
    }
   ],
   "source": [
    "merge_web.loc[merge_web['onsale_web'] == 1].loc[merge_web['sku'].isna()]"
   ]
  },
  {
   "cell_type": "code",
   "execution_count": null,
   "id": "4da90059",
   "metadata": {},
   "outputs": [],
   "source": [
    "merge_web.loc[merge_web['onsale_web'] == 0].loc[merge_web[\"id_web\"].isna() == False]"
   ]
  },
  {
   "cell_type": "code",
   "execution_count": 268,
   "id": "cf39d69a",
   "metadata": {},
   "outputs": [
    {
     "data": {
      "text/html": [
       "<div>\n",
       "<style scoped>\n",
       "    .dataframe tbody tr th:only-of-type {\n",
       "        vertical-align: middle;\n",
       "    }\n",
       "\n",
       "    .dataframe tbody tr th {\n",
       "        vertical-align: top;\n",
       "    }\n",
       "\n",
       "    .dataframe thead th {\n",
       "        text-align: right;\n",
       "    }\n",
       "</style>\n",
       "<table border=\"1\" class=\"dataframe\">\n",
       "  <thead>\n",
       "    <tr style=\"text-align: right;\">\n",
       "      <th></th>\n",
       "      <th>sku</th>\n",
       "      <th>total_sales</th>\n",
       "      <th>tax_status</th>\n",
       "      <th>post_date_gmt</th>\n",
       "      <th>product_type</th>\n",
       "      <th>post_name</th>\n",
       "      <th>post_modified_gmt</th>\n",
       "      <th>post_type</th>\n",
       "      <th>product_id</th>\n",
       "      <th>onsale_web</th>\n",
       "      <th>price</th>\n",
       "      <th>stock_quantity</th>\n",
       "      <th>stock_status</th>\n",
       "      <th>purchase_price</th>\n",
       "      <th>prix_deviation</th>\n",
       "      <th>id_web</th>\n",
       "    </tr>\n",
       "  </thead>\n",
       "  <tbody>\n",
       "    <tr>\n",
       "      <th>123</th>\n",
       "      <td>16295</td>\n",
       "      <td>14.0</td>\n",
       "      <td>NaN</td>\n",
       "      <td>2018-02-15 13:05:06</td>\n",
       "      <td>Vin</td>\n",
       "      <td>moulin-de-gassac-igp-pays-dherault-guilhem-ros...</td>\n",
       "      <td>2020-08-27 16:55:03</td>\n",
       "      <td>attachment</td>\n",
       "      <td>4200</td>\n",
       "      <td>0</td>\n",
       "      <td>5.8</td>\n",
       "      <td>33</td>\n",
       "      <td>instock</td>\n",
       "      <td>3.12</td>\n",
       "      <td>-0.996</td>\n",
       "      <td>16295</td>\n",
       "    </tr>\n",
       "  </tbody>\n",
       "</table>\n",
       "</div>"
      ],
      "text/plain": [
       "       sku  total_sales tax_status       post_date_gmt product_type  \\\n",
       "123  16295         14.0        NaN 2018-02-15 13:05:06          Vin   \n",
       "\n",
       "                                             post_name   post_modified_gmt  \\\n",
       "123  moulin-de-gassac-igp-pays-dherault-guilhem-ros... 2020-08-27 16:55:03   \n",
       "\n",
       "      post_type  product_id  onsale_web  price  stock_quantity stock_status  \\\n",
       "123  attachment        4200           0    5.8              33      instock   \n",
       "\n",
       "     purchase_price  prix_deviation id_web  \n",
       "123            3.12          -0.996  16295  "
      ]
     },
     "execution_count": 268,
     "metadata": {},
     "output_type": "execute_result"
    }
   ],
   "source": [
    "merge_web.loc[merge_web['onsale_web'] == 0].loc[merge_web[\"id_web\"].isna() == False].loc[merge_web[\"sku\"].isna() == False]"
   ]
  },
  {
   "cell_type": "code",
   "execution_count": 257,
   "id": "43f7f37a",
   "metadata": {},
   "outputs": [
    {
     "data": {
      "text/html": [
       "<div>\n",
       "<style scoped>\n",
       "    .dataframe tbody tr th:only-of-type {\n",
       "        vertical-align: middle;\n",
       "    }\n",
       "\n",
       "    .dataframe tbody tr th {\n",
       "        vertical-align: top;\n",
       "    }\n",
       "\n",
       "    .dataframe thead th {\n",
       "        text-align: right;\n",
       "    }\n",
       "</style>\n",
       "<table border=\"1\" class=\"dataframe\">\n",
       "  <thead>\n",
       "    <tr style=\"text-align: right;\">\n",
       "      <th></th>\n",
       "      <th>sku</th>\n",
       "      <th>total_sales</th>\n",
       "      <th>tax_status</th>\n",
       "      <th>post_date_gmt</th>\n",
       "      <th>product_type</th>\n",
       "      <th>post_name</th>\n",
       "      <th>post_modified_gmt</th>\n",
       "      <th>post_type</th>\n",
       "      <th>product_id</th>\n",
       "      <th>onsale_web</th>\n",
       "      <th>price</th>\n",
       "      <th>stock_quantity</th>\n",
       "      <th>stock_status</th>\n",
       "      <th>purchase_price</th>\n",
       "      <th>prix_deviation</th>\n",
       "      <th>id_web</th>\n",
       "    </tr>\n",
       "  </thead>\n",
       "  <tbody>\n",
       "    <tr>\n",
       "      <th>0</th>\n",
       "      <td>15298</td>\n",
       "      <td>6.0</td>\n",
       "      <td>taxable</td>\n",
       "      <td>2018-02-08 11:58:52</td>\n",
       "      <td>Vin</td>\n",
       "      <td>pierre-jean-villa-saint-joseph-preface-2018</td>\n",
       "      <td>2019-12-30 08:30:29</td>\n",
       "      <td>product</td>\n",
       "      <td>3847</td>\n",
       "      <td>1</td>\n",
       "      <td>24.2</td>\n",
       "      <td>16</td>\n",
       "      <td>instock</td>\n",
       "      <td>12.88</td>\n",
       "      <td>-0.304</td>\n",
       "      <td>15298</td>\n",
       "    </tr>\n",
       "    <tr>\n",
       "      <th>1</th>\n",
       "      <td>15296</td>\n",
       "      <td>9.0</td>\n",
       "      <td>taxable</td>\n",
       "      <td>2018-02-08 12:49:41</td>\n",
       "      <td>Vin</td>\n",
       "      <td>pierre-jean-villa-saint-joseph-tilde-2017</td>\n",
       "      <td>2019-12-21 08:00:17</td>\n",
       "      <td>product</td>\n",
       "      <td>3849</td>\n",
       "      <td>1</td>\n",
       "      <td>34.3</td>\n",
       "      <td>10</td>\n",
       "      <td>instock</td>\n",
       "      <td>17.54</td>\n",
       "      <td>0.076</td>\n",
       "      <td>15296</td>\n",
       "    </tr>\n",
       "    <tr>\n",
       "      <th>2</th>\n",
       "      <td>15300</td>\n",
       "      <td>0.0</td>\n",
       "      <td>NaN</td>\n",
       "      <td>2018-02-08 13:08:36</td>\n",
       "      <td>Vin</td>\n",
       "      <td>pierre-jean-villa-croze-hermitage-accroche-coe...</td>\n",
       "      <td>2020-06-26 16:15:03</td>\n",
       "      <td>attachment</td>\n",
       "      <td>3850</td>\n",
       "      <td>1</td>\n",
       "      <td>20.8</td>\n",
       "      <td>0</td>\n",
       "      <td>outofstock</td>\n",
       "      <td>10.64</td>\n",
       "      <td>-0.432</td>\n",
       "      <td>15300</td>\n",
       "    </tr>\n",
       "    <tr>\n",
       "      <th>3</th>\n",
       "      <td>19814</td>\n",
       "      <td>12.0</td>\n",
       "      <td>NaN</td>\n",
       "      <td>2018-02-09 13:01:05</td>\n",
       "      <td>Vin</td>\n",
       "      <td>pierre-jean-villa-igp-gamine-2018</td>\n",
       "      <td>2020-01-04 15:36:01</td>\n",
       "      <td>attachment</td>\n",
       "      <td>4032</td>\n",
       "      <td>1</td>\n",
       "      <td>14.1</td>\n",
       "      <td>26</td>\n",
       "      <td>instock</td>\n",
       "      <td>6.92</td>\n",
       "      <td>-0.684</td>\n",
       "      <td>19814</td>\n",
       "    </tr>\n",
       "    <tr>\n",
       "      <th>4</th>\n",
       "      <td>19815</td>\n",
       "      <td>3.0</td>\n",
       "      <td>NaN</td>\n",
       "      <td>2018-02-12 08:04:37</td>\n",
       "      <td>Vin</td>\n",
       "      <td>pierre-jean-villa-cote-rotie-carmina-2017</td>\n",
       "      <td>2020-01-04 15:36:10</td>\n",
       "      <td>attachment</td>\n",
       "      <td>4039</td>\n",
       "      <td>1</td>\n",
       "      <td>46.0</td>\n",
       "      <td>3</td>\n",
       "      <td>instock</td>\n",
       "      <td>23.77</td>\n",
       "      <td>0.516</td>\n",
       "      <td>19815</td>\n",
       "    </tr>\n",
       "    <tr>\n",
       "      <th>...</th>\n",
       "      <td>...</td>\n",
       "      <td>...</td>\n",
       "      <td>...</td>\n",
       "      <td>...</td>\n",
       "      <td>...</td>\n",
       "      <td>...</td>\n",
       "      <td>...</td>\n",
       "      <td>...</td>\n",
       "      <td>...</td>\n",
       "      <td>...</td>\n",
       "      <td>...</td>\n",
       "      <td>...</td>\n",
       "      <td>...</td>\n",
       "      <td>...</td>\n",
       "      <td>...</td>\n",
       "      <td>...</td>\n",
       "    </tr>\n",
       "    <tr>\n",
       "      <th>787</th>\n",
       "      <td>16135</td>\n",
       "      <td>9.0</td>\n",
       "      <td>taxable</td>\n",
       "      <td>2020-04-25 11:22:38</td>\n",
       "      <td>Vin</td>\n",
       "      <td>mouthes-le-bihan-aime-chai-2015</td>\n",
       "      <td>2020-08-26 15:35:03</td>\n",
       "      <td>product</td>\n",
       "      <td>6930</td>\n",
       "      <td>1</td>\n",
       "      <td>8.4</td>\n",
       "      <td>28</td>\n",
       "      <td>instock</td>\n",
       "      <td>4.34</td>\n",
       "      <td>-0.898</td>\n",
       "      <td>16135</td>\n",
       "    </tr>\n",
       "    <tr>\n",
       "      <th>792</th>\n",
       "      <td>15891</td>\n",
       "      <td>9.0</td>\n",
       "      <td>NaN</td>\n",
       "      <td>2020-05-02 12:53:40</td>\n",
       "      <td>Vin</td>\n",
       "      <td>camin-larredya-jurancon-sec-la-virada-2018</td>\n",
       "      <td>2020-08-26 15:35:02</td>\n",
       "      <td>attachment</td>\n",
       "      <td>7023</td>\n",
       "      <td>1</td>\n",
       "      <td>27.5</td>\n",
       "      <td>23</td>\n",
       "      <td>instock</td>\n",
       "      <td>14.21</td>\n",
       "      <td>-0.180</td>\n",
       "      <td>15891</td>\n",
       "    </tr>\n",
       "    <tr>\n",
       "      <th>793</th>\n",
       "      <td>15887</td>\n",
       "      <td>5.0</td>\n",
       "      <td>NaN</td>\n",
       "      <td>2020-05-02 13:00:54</td>\n",
       "      <td>Vin</td>\n",
       "      <td>jamet-cote-rotie-fructus-voluptas-2018</td>\n",
       "      <td>2020-08-14 16:15:03</td>\n",
       "      <td>attachment</td>\n",
       "      <td>7025</td>\n",
       "      <td>1</td>\n",
       "      <td>69.0</td>\n",
       "      <td>8</td>\n",
       "      <td>instock</td>\n",
       "      <td>34.22</td>\n",
       "      <td>1.381</td>\n",
       "      <td>15887</td>\n",
       "    </tr>\n",
       "    <tr>\n",
       "      <th>822</th>\n",
       "      <td>13127-1</td>\n",
       "      <td>4.0</td>\n",
       "      <td>taxable</td>\n",
       "      <td>2020-06-09 13:42:04</td>\n",
       "      <td>Vin</td>\n",
       "      <td>clos-du-mont-olivet-chateauneuf-du-pape-2007-2</td>\n",
       "      <td>2020-07-20 15:09:06</td>\n",
       "      <td>product</td>\n",
       "      <td>7247</td>\n",
       "      <td>1</td>\n",
       "      <td>54.8</td>\n",
       "      <td>6</td>\n",
       "      <td>instock</td>\n",
       "      <td>27.18</td>\n",
       "      <td>0.847</td>\n",
       "      <td>13127-1</td>\n",
       "    </tr>\n",
       "    <tr>\n",
       "      <th>824</th>\n",
       "      <td>16230</td>\n",
       "      <td>13.0</td>\n",
       "      <td>NaN</td>\n",
       "      <td>2020-07-20 09:00:00</td>\n",
       "      <td>Vin</td>\n",
       "      <td>domaine-saint-nicolas-fiefs-vendeens-blanc-les...</td>\n",
       "      <td>2020-08-13 08:45:03</td>\n",
       "      <td>attachment</td>\n",
       "      <td>7338</td>\n",
       "      <td>1</td>\n",
       "      <td>16.3</td>\n",
       "      <td>40</td>\n",
       "      <td>instock</td>\n",
       "      <td>8.00</td>\n",
       "      <td>-0.601</td>\n",
       "      <td>16230</td>\n",
       "    </tr>\n",
       "  </tbody>\n",
       "</table>\n",
       "<p>716 rows × 16 columns</p>\n",
       "</div>"
      ],
      "text/plain": [
       "         sku  total_sales tax_status       post_date_gmt product_type  \\\n",
       "0      15298          6.0    taxable 2018-02-08 11:58:52          Vin   \n",
       "1      15296          9.0    taxable 2018-02-08 12:49:41          Vin   \n",
       "2      15300          0.0        NaN 2018-02-08 13:08:36          Vin   \n",
       "3      19814         12.0        NaN 2018-02-09 13:01:05          Vin   \n",
       "4      19815          3.0        NaN 2018-02-12 08:04:37          Vin   \n",
       "..       ...          ...        ...                 ...          ...   \n",
       "787    16135          9.0    taxable 2020-04-25 11:22:38          Vin   \n",
       "792    15891          9.0        NaN 2020-05-02 12:53:40          Vin   \n",
       "793    15887          5.0        NaN 2020-05-02 13:00:54          Vin   \n",
       "822  13127-1          4.0    taxable 2020-06-09 13:42:04          Vin   \n",
       "824    16230         13.0        NaN 2020-07-20 09:00:00          Vin   \n",
       "\n",
       "                                             post_name   post_modified_gmt  \\\n",
       "0          pierre-jean-villa-saint-joseph-preface-2018 2019-12-30 08:30:29   \n",
       "1            pierre-jean-villa-saint-joseph-tilde-2017 2019-12-21 08:00:17   \n",
       "2    pierre-jean-villa-croze-hermitage-accroche-coe... 2020-06-26 16:15:03   \n",
       "3                    pierre-jean-villa-igp-gamine-2018 2020-01-04 15:36:01   \n",
       "4            pierre-jean-villa-cote-rotie-carmina-2017 2020-01-04 15:36:10   \n",
       "..                                                 ...                 ...   \n",
       "787                    mouthes-le-bihan-aime-chai-2015 2020-08-26 15:35:03   \n",
       "792         camin-larredya-jurancon-sec-la-virada-2018 2020-08-26 15:35:02   \n",
       "793             jamet-cote-rotie-fructus-voluptas-2018 2020-08-14 16:15:03   \n",
       "822     clos-du-mont-olivet-chateauneuf-du-pape-2007-2 2020-07-20 15:09:06   \n",
       "824  domaine-saint-nicolas-fiefs-vendeens-blanc-les... 2020-08-13 08:45:03   \n",
       "\n",
       "      post_type  product_id  onsale_web  price  stock_quantity stock_status  \\\n",
       "0       product        3847           1   24.2              16      instock   \n",
       "1       product        3849           1   34.3              10      instock   \n",
       "2    attachment        3850           1   20.8               0   outofstock   \n",
       "3    attachment        4032           1   14.1              26      instock   \n",
       "4    attachment        4039           1   46.0               3      instock   \n",
       "..          ...         ...         ...    ...             ...          ...   \n",
       "787     product        6930           1    8.4              28      instock   \n",
       "792  attachment        7023           1   27.5              23      instock   \n",
       "793  attachment        7025           1   69.0               8      instock   \n",
       "822     product        7247           1   54.8               6      instock   \n",
       "824  attachment        7338           1   16.3              40      instock   \n",
       "\n",
       "     purchase_price  prix_deviation   id_web  \n",
       "0             12.88          -0.304    15298  \n",
       "1             17.54           0.076    15296  \n",
       "2             10.64          -0.432    15300  \n",
       "3              6.92          -0.684    19814  \n",
       "4             23.77           0.516    19815  \n",
       "..              ...             ...      ...  \n",
       "787            4.34          -0.898    16135  \n",
       "792           14.21          -0.180    15891  \n",
       "793           34.22           1.381    15887  \n",
       "822           27.18           0.847  13127-1  \n",
       "824            8.00          -0.601    16230  \n",
       "\n",
       "[716 rows x 16 columns]"
      ]
     },
     "execution_count": 257,
     "metadata": {},
     "output_type": "execute_result"
    }
   ],
   "source": [
    "merge_web.loc[merge_web['onsale_web'] == 1]"
   ]
  },
  {
   "cell_type": "code",
   "execution_count": null,
   "id": "03631e07",
   "metadata": {},
   "outputs": [],
   "source": [
    "merge_web.loc[merge_web[\"sku\"] == 16295, \"onsale_web\"] = 1"
   ]
  },
  {
   "cell_type": "code",
   "execution_count": 1066,
   "id": "6bac028e",
   "metadata": {},
   "outputs": [],
   "source": [
    "online_product = merge_web.loc[merge_web[\"onsale_web\"]== 1]"
   ]
  },
  {
   "cell_type": "code",
   "execution_count": 736,
   "id": "48540e6d",
   "metadata": {},
   "outputs": [
    {
     "name": "stdout",
     "output_type": "stream",
     "text": [
      "<class 'pandas.core.frame.DataFrame'>\n",
      "Index: 717 entries, 0 to 824\n",
      "Data columns (total 16 columns):\n",
      " #   Column             Non-Null Count  Dtype         \n",
      "---  ------             --------------  -----         \n",
      " 0   sku                714 non-null    object        \n",
      " 1   total_sales        714 non-null    float64       \n",
      " 2   tax_status         361 non-null    object        \n",
      " 3   post_date_gmt      714 non-null    datetime64[ns]\n",
      " 4   product_type       714 non-null    object        \n",
      " 5   post_name          714 non-null    object        \n",
      " 6   post_modified_gmt  714 non-null    datetime64[ns]\n",
      " 7   post_type          714 non-null    object        \n",
      " 8   product_id         717 non-null    int64         \n",
      " 9   onsale_web         717 non-null    int64         \n",
      " 10  price              717 non-null    float64       \n",
      " 11  stock_quantity     717 non-null    int64         \n",
      " 12  stock_status       717 non-null    object        \n",
      " 13  purchase_price     717 non-null    float64       \n",
      " 14  prix_deviation     717 non-null    float64       \n",
      " 15  id_web             714 non-null    object        \n",
      "dtypes: datetime64[ns](2), float64(4), int64(3), object(7)\n",
      "memory usage: 95.2+ KB\n"
     ]
    }
   ],
   "source": [
    "online_product.info()"
   ]
  },
  {
   "cell_type": "code",
   "execution_count": null,
   "id": "17a6de2a",
   "metadata": {},
   "outputs": [],
   "source": [
    "online_product.loc[merge_web[\"product_type\"]== \"Huile d'olive\"]"
   ]
  },
  {
   "cell_type": "markdown",
   "id": "13d81fd6",
   "metadata": {},
   "source": [
    "<div style=\"background-color: RGB(51,165,182);\" >\n",
    "<h2 style=\"margin: auto; padding: 20px; color:#fff; \">Etape 4 - Analyse univarié des prix</h2>\n",
    "</div>"
   ]
  },
  {
   "cell_type": "markdown",
   "id": "9c8d0615",
   "metadata": {},
   "source": [
    "<div style=\"border: 1px solid RGB(51,165,182);\" >\n",
    "<h3 style=\"margin: auto; padding: 20px; color: RGB(51,165,182); \">Etape 4.1 - Exploration par la visualisation de données</h3>\n",
    "</div>"
   ]
  },
  {
   "cell_type": "code",
   "execution_count": null,
   "id": "d29a15d9",
   "metadata": {},
   "outputs": [],
   "source": [
    "#Création d'une Boite à moustache de la répartition des prix grâce à Pandas\n",
    "#fig1 = sns.boxplot(data= df_erp.explode('price'), y='price', color='c')"
   ]
  },
  {
   "cell_type": "code",
   "execution_count": 594,
   "id": "88ab9287",
   "metadata": {},
   "outputs": [
    {
     "data": {
      "text/plain": [
       "<Axes: xlabel='price'>"
      ]
     },
     "execution_count": 594,
     "metadata": {},
     "output_type": "execute_result"
    },
    {
     "data": {
      "image/png": "[encoded data removed]",
      "text/plain": [
       "<Figure size 640x480 with 1 Axes>"
      ]
     },
     "metadata": {},
     "output_type": "display_data"
    }
   ],
   "source": [
    "sns.set_style('whitegrid')\n",
    "sns.boxplot(data=df_erp['price'], flierprops={\"marker\": \"1\"}, medianprops={\"color\" : \"y\"},\n",
    "            orient=\"h\", width=0.75, color=\"c\")\n",
    "\n",
    "\n"
   ]
  },
  {
   "cell_type": "code",
   "execution_count": 157,
   "id": "cbfe6346",
   "metadata": {},
   "outputs": [],
   "source": [
    "#Autre méthode avec plotly express\n",
    "fig = px.box(data_frame= df_erp, y='price')"
   ]
  },
  {
   "cell_type": "code",
   "execution_count": 158,
   "id": "ff4ebee8",
   "metadata": {},
   "outputs": [
    {
     "data": {
      "application/vnd.plotly.v1+json": {
       "config": {
        "plotlyServerURL": "https://plot.ly"
       },
       "data": [
        {
         "alignmentgroup": "True",
         "hovertemplate": "price=%{y}<extra></extra>",
         "legendgroup": "",
         "marker": {
          "color": "#636efa"
         },
         "name": "",
         "notched": false,
         "offsetgroup": "",
         "orientation": "v",
         "showlegend": false,
         "type": "box",
         "x0": " ",
         "xaxis": "x",
         "y": [
          24.2,
          34.3,
          20.8,
          14.1,
          46,
          34.3,
          32.7,
          31.2,
          60,
          42.6,
          80,
          18.3,
          22.8,
          19.3,
          21.8,
          7.7,
          33.7,
          44.3,
          71.6,
          86.1,
          12.7,
          8.7,
          8.7,
          8.7,
          11.9,
          11.9,
          14.5,
          14.4,
          19.5,
          20.8,
          22,
          16.6,
          60,
          23.4,
          33.2,
          32,
          77.8,
          12.7,
          14.7,
          14.05,
          22.9,
          44,
          37,
          39,
          17,
          23.2,
          19,
          16.4,
          14.4,
          73,
          47,
          13.7,
          12.6,
          22.8,
          12.8,
          22.1,
          12.8,
          15.8,
          15.8,
          16.3,
          16.3,
          9.7,
          6.8,
          12.6,
          35,
          31.7,
          100,
          23,
          88.4,
          29.8,
          25.7,
          77.4,
          39,
          53,
          49,
          29.5,
          33,
          37.5,
          69,
          59,
          13.7,
          19.2,
          29,
          9.8,
          14.5,
          20.35,
          12,
          18.5,
          9.3,
          9.3,
          11.6,
          14.3,
          10.8,
          7.6,
          12,
          20.5,
          14.3,
          18.2,
          9,
          7.8,
          5.7,
          5.7,
          5.7,
          13.5,
          13.5,
          11.5,
          24,
          24,
          11.9,
          16.7,
          21.4,
          16.6,
          13.3,
          9.5,
          12.1,
          9.3,
          17.8,
          13.5,
          10.8,
          14.1,
          27.2,
          9.4,
          5.8,
          5.8,
          38,
          38,
          9.9,
          11.3,
          23,
          6.7,
          7.6,
          73.5,
          79.8,
          48.5,
          39.8,
          58.8,
          26.5,
          13.4,
          17.1,
          16.7,
          11.6,
          12.8,
          8.9,
          9.7,
          17.2,
          16.9,
          12.6,
          29.9,
          9.6,
          11.1,
          11.1,
          20,
          17.1,
          28,
          28,
          8.9,
          8.6,
          13.5,
          8.9,
          15.3,
          14.8,
          19.5,
          14.1,
          59.6,
          26.9,
          24.4,
          31.7,
          32.1,
          12.2,
          9.9,
          15.8,
          15.8,
          17.8,
          9.6,
          19,
          15.2,
          10.2,
          15.5,
          16.6,
          9.2,
          12.9,
          14.9,
          17.6,
          24.8,
          21.5,
          10.8,
          18.9,
          11.6,
          27,
          41,
          69.8,
          38.6,
          26.7,
          22.8,
          19,
          23.2,
          39.1,
          44,
          17.5,
          30,
          8.1,
          10.7,
          10.9,
          49,
          35.5,
          83,
          59,
          79.5,
          225,
          79.5,
          12.65,
          51.6,
          39,
          77,
          85.6,
          49.5,
          49.5,
          49.5,
          57,
          59.8,
          27.5,
          62,
          59,
          59,
          59,
          44,
          62.5,
          176,
          108.5,
          68.1,
          157,
          104,
          28.1,
          21.7,
          30.5,
          28.5,
          21.5,
          67.2,
          49,
          40,
          109.6,
          32.3,
          144,
          43.9,
          61.6,
          41.8,
          36.9,
          26.5,
          16.1,
          31.5,
          31.5,
          49,
          32.2,
          50.1,
          13.4,
          11.8,
          13.1,
          26.2,
          20.6,
          16.9,
          19,
          24,
          57,
          67.5,
          30.6,
          59,
          11.9,
          16.5,
          52.4,
          52.9,
          58.3,
          39.6,
          52.4,
          62.4,
          76.8,
          50,
          52.4,
          41,
          62.4,
          50,
          21.5,
          28.5,
          24.3,
          16.5,
          25.3,
          49,
          36.2,
          33.4,
          40.2,
          43,
          43,
          48.8,
          23.6,
          20.8,
          16.4,
          14.4,
          21,
          12.3,
          20.2,
          17,
          21.9,
          17.8,
          19.8,
          19,
          10.7,
          12.9,
          9.5,
          29.8,
          13.2,
          6.3,
          7.1,
          9.1,
          9.1,
          18.1,
          14,
          30.1,
          12.8,
          12.8,
          12,
          18.5,
          34.5,
          20.5,
          23.8,
          19.8,
          18.2,
          31.6,
          16.8,
          22.8,
          32.6,
          44,
          55.4,
          15.8,
          18.4,
          13.3,
          11.1,
          18.6,
          23.4,
          18.2,
          12.5,
          15.9,
          20.2,
          13.7,
          29,
          23.4,
          12.7,
          26,
          29.5,
          8.6,
          14.3,
          22,
          16.8,
          15.3,
          13.5,
          7.4,
          9.7,
          12.4,
          13.8,
          14.5,
          11.9,
          16.4,
          27.9,
          12,
          7.4,
          26.5,
          24.3,
          16.9,
          6.8,
          13.9,
          7.8,
          13.7,
          9.8,
          29.5,
          28.5,
          10.1,
          12.1,
          12.3,
          11.1,
          11.1,
          13.6,
          21,
          18.7,
          41.6,
          12,
          78,
          12.7,
          14.9,
          6.5,
          8.7,
          8.5,
          9.9,
          8.2,
          8.3,
          9.8,
          9.9,
          17.2,
          9.3,
          14.6,
          22.8,
          18.7,
          28.4,
          27.9,
          25.3,
          17,
          27.9,
          20.1,
          27.9,
          21.2,
          20.8,
          41,
          46,
          102.3,
          137,
          22.9,
          53.2,
          25.9,
          17.3,
          23,
          25.9,
          28,
          25.9,
          25.9,
          37.2,
          24.4,
          24.4,
          13.8,
          21.5,
          7,
          12.8,
          23.2,
          7.9,
          6.5,
          7.9,
          16.7,
          17.5,
          27.8,
          25.7,
          18.4,
          22.2,
          11.1,
          9.9,
          12.5,
          12.9,
          20.5,
          25,
          11.3,
          7,
          12.1,
          7.1,
          49.5,
          10,
          23,
          23.7,
          16.45,
          16.3,
          18.5,
          26.5,
          78,
          78,
          78,
          27.3,
          217.5,
          64.9,
          48.7,
          59.4,
          48.7,
          105,
          105,
          55.6,
          9.3,
          8,
          15.4,
          19.8,
          10,
          17.1,
          45,
          112,
          86.8,
          62.1,
          22.5,
          7.5,
          52.6,
          45,
          67,
          59.9,
          59.9,
          65,
          84.7,
          43.3,
          15.2,
          19,
          11.1,
          18,
          22.8,
          19.5,
          28.8,
          16.1,
          24.2,
          35.3,
          10.7,
          12.7,
          17.1,
          24,
          39,
          13.2,
          23.6,
          15.5,
          16.3,
          16.2,
          7.2,
          54.8,
          42,
          19.8,
          10.2,
          10.4,
          11.5,
          17.9,
          21.6,
          33.4,
          49.5,
          43.5,
          43.5,
          26.5,
          13.8,
          10.1,
          18.2,
          12.9,
          38.6,
          48.4,
          60.4,
          38.6,
          12,
          61.6,
          65.9,
          15.2,
          24.6,
          48.8,
          34.3,
          36.3,
          57.7,
          38,
          27.9,
          47,
          58,
          58,
          30.8,
          92,
          27.5,
          19.9,
          22.5,
          34.7,
          59.6,
          83.7,
          30.5,
          38.6,
          18,
          63.4,
          124.8,
          19.2,
          19.2,
          56.4,
          38.4,
          27.8,
          71.3,
          71.3,
          25,
          10.3,
          28,
          44.6,
          13,
          12.7,
          6.5,
          17.5,
          29.9,
          44.5,
          29.4,
          16.9,
          19.8,
          10.3,
          10.8,
          31.7,
          25,
          57.6,
          13.7,
          7.1,
          14.9,
          11,
          14.6,
          10.7,
          73.3,
          42.1,
          57,
          24.5,
          10.1,
          42.2,
          13.1,
          19.5,
          12.9,
          35.6,
          175,
          35.6,
          33.6,
          34.4,
          38.4,
          29.7,
          32.8,
          5.7,
          5.8,
          5.8,
          21.7,
          23,
          12.5,
          17.2,
          40.2,
          32.3,
          24,
          23.8,
          17.1,
          25,
          29.2,
          17.4,
          27.3,
          34.2,
          17.9,
          24,
          16.6,
          16.9,
          57.6,
          63.5,
          56,
          63.5,
          41.2,
          55,
          57,
          19.3,
          19,
          191.3,
          26.6,
          15.4,
          24.7,
          28.1,
          18.25,
          35.1,
          27.3,
          18.8,
          43.9,
          19.8,
          17.7,
          57,
          36,
          36,
          93,
          122,
          114,
          48.5,
          49.5,
          14.1,
          59.9,
          46,
          74.5,
          42.5,
          47.5,
          18.8,
          27.3,
          17.2,
          39,
          8.7,
          15.4,
          12.7,
          30,
          13.5,
          16.3,
          56.3,
          71.5,
          69,
          17.9,
          48.5,
          71.7,
          8.5,
          10.9,
          21.8,
          38.5,
          9.3,
          13.6,
          24.5,
          12.6,
          13.4,
          29.8,
          12.9,
          36.9,
          40.7,
          33.2,
          34.8,
          74.8,
          62.4,
          46,
          39.2,
          14.2,
          135,
          10.6,
          10.6,
          5.2,
          46,
          105.6,
          116.4,
          31,
          20.2,
          25.2,
          25.2,
          115,
          121,
          99,
          115,
          121,
          23.5,
          26.4,
          26.7,
          20.4,
          20.4,
          40.2,
          9,
          45.9,
          10.4,
          78,
          40.5,
          92,
          27.9,
          28.5,
          22.4,
          28.4,
          72,
          29,
          29.2,
          44,
          68.3,
          41.8,
          40,
          13.5,
          19,
          24.4,
          9.1,
          32.8,
          15.4,
          9.9,
          13.5,
          51,
          35.2,
          42.2,
          33.2,
          41.8,
          32.2,
          37.7,
          47.2,
          52.7,
          22.4,
          50.4,
          35.6,
          27.7,
          48.5,
          15.4,
          46.5,
          46.5,
          28,
          28,
          24,
          18,
          40,
          40,
          40,
          40,
          46.5,
          42,
          21.8,
          30,
          26,
          30,
          20,
          31,
          27,
          31,
          21,
          31,
          27,
          31,
          21,
          50.5,
          49.9,
          19,
          8.4,
          40,
          40,
          47,
          45,
          27.5,
          69,
          45,
          45,
          30,
          26,
          30,
          20,
          45,
          45,
          45,
          45,
          45,
          31,
          21,
          27,
          31,
          31,
          45,
          45,
          45,
          31,
          27,
          31,
          21,
          31,
          31,
          31,
          45,
          45,
          54.8,
          26.5,
          16.3
         ],
         "y0": " ",
         "yaxis": "y"
        }
       ],
       "layout": {
        "boxmode": "group",
        "height": 600,
        "legend": {
         "tracegroupgap": 0
        },
        "margin": {
         "t": 60
        },
        "template": {
         "data": {
          "bar": [
           {
            "error_x": {
             "color": "#2a3f5f"
            },
            "error_y": {
             "color": "#2a3f5f"
            },
            "marker": {
             "line": {
              "color": "#E5ECF6",
              "width": 0.5
             },
             "pattern": {
              "fillmode": "overlay",
              "size": 10,
              "solidity": 0.2
             }
            },
            "type": "bar"
           }
          ],
          "barpolar": [
           {
            "marker": {
             "line": {
              "color": "#E5ECF6",
              "width": 0.5
             },
             "pattern": {
              "fillmode": "overlay",
              "size": 10,
              "solidity": 0.2
             }
            },
            "type": "barpolar"
           }
          ],
          "carpet": [
           {
            "aaxis": {
             "endlinecolor": "#2a3f5f",
             "gridcolor": "white",
             "linecolor": "white",
             "minorgridcolor": "white",
             "startlinecolor": "#2a3f5f"
            },
            "baxis": {
             "endlinecolor": "#2a3f5f",
             "gridcolor": "white",
             "linecolor": "white",
             "minorgridcolor": "white",
             "startlinecolor": "#2a3f5f"
            },
            "type": "carpet"
           }
          ],
          "choropleth": [
           {
            "colorbar": {
             "outlinewidth": 0,
             "ticks": ""
            },
            "type": "choropleth"
           }
          ],
          "contour": [
           {
            "colorbar": {
             "outlinewidth": 0,
             "ticks": ""
            },
            "colorscale": [
             [
              0,
              "#0d0887"
             ],
             [
              0.1111111111111111,
              "#46039f"
             ],
             [
              0.2222222222222222,
              "#7201a8"
             ],
             [
              0.3333333333333333,
              "#9c179e"
             ],
             [
              0.4444444444444444,
              "#bd3786"
             ],
             [
              0.5555555555555556,
              "#d8576b"
             ],
             [
              0.6666666666666666,
              "#ed7953"
             ],
             [
              0.7777777777777778,
              "#fb9f3a"
             ],
             [
              0.8888888888888888,
              "#fdca26"
             ],
             [
              1,
              "#f0f921"
             ]
            ],
            "type": "contour"
           }
          ],
          "contourcarpet": [
           {
            "colorbar": {
             "outlinewidth": 0,
             "ticks": ""
            },
            "type": "contourcarpet"
           }
          ],
          "heatmap": [
           {
            "colorbar": {
             "outlinewidth": 0,
             "ticks": ""
            },
            "colorscale": [
             [
              0,
              "#0d0887"
             ],
             [
              0.1111111111111111,
              "#46039f"
             ],
             [
              0.2222222222222222,
              "#7201a8"
             ],
             [
              0.3333333333333333,
              "#9c179e"
             ],
             [
              0.4444444444444444,
              "#bd3786"
             ],
             [
              0.5555555555555556,
              "#d8576b"
             ],
             [
              0.6666666666666666,
              "#ed7953"
             ],
             [
              0.7777777777777778,
              "#fb9f3a"
             ],
             [
              0.8888888888888888,
              "#fdca26"
             ],
             [
              1,
              "#f0f921"
             ]
            ],
            "type": "heatmap"
           }
          ],
          "heatmapgl": [
           {
            "colorbar": {
             "outlinewidth": 0,
             "ticks": ""
            },
            "colorscale": [
             [
              0,
              "#0d0887"
             ],
             [
              0.1111111111111111,
              "#46039f"
             ],
             [
              0.2222222222222222,
              "#7201a8"
             ],
             [
              0.3333333333333333,
              "#9c179e"
             ],
             [
              0.4444444444444444,
              "#bd3786"
             ],
             [
              0.5555555555555556,
              "#d8576b"
             ],
             [
              0.6666666666666666,
              "#ed7953"
             ],
             [
              0.7777777777777778,
              "#fb9f3a"
             ],
             [
              0.8888888888888888,
              "#fdca26"
             ],
             [
              1,
              "#f0f921"
             ]
            ],
            "type": "heatmapgl"
           }
          ],
          "histogram": [
           {
            "marker": {
             "pattern": {
              "fillmode": "overlay",
              "size": 10,
              "solidity": 0.2
             }
            },
            "type": "histogram"
           }
          ],
          "histogram2d": [
           {
            "colorbar": {
             "outlinewidth": 0,
             "ticks": ""
            },
            "colorscale": [
             [
              0,
              "#0d0887"
             ],
             [
              0.1111111111111111,
              "#46039f"
             ],
             [
              0.2222222222222222,
              "#7201a8"
             ],
             [
              0.3333333333333333,
              "#9c179e"
             ],
             [
              0.4444444444444444,
              "#bd3786"
             ],
             [
              0.5555555555555556,
              "#d8576b"
             ],
             [
              0.6666666666666666,
              "#ed7953"
             ],
             [
              0.7777777777777778,
              "#fb9f3a"
             ],
             [
              0.8888888888888888,
              "#fdca26"
             ],
             [
              1,
              "#f0f921"
             ]
            ],
            "type": "histogram2d"
           }
          ],
          "histogram2dcontour": [
           {
            "colorbar": {
             "outlinewidth": 0,
             "ticks": ""
            },
            "colorscale": [
             [
              0,
              "#0d0887"
             ],
             [
              0.1111111111111111,
              "#46039f"
             ],
             [
              0.2222222222222222,
              "#7201a8"
             ],
             [
              0.3333333333333333,
              "#9c179e"
             ],
             [
              0.4444444444444444,
              "#bd3786"
             ],
             [
              0.5555555555555556,
              "#d8576b"
             ],
             [
              0.6666666666666666,
              "#ed7953"
             ],
             [
              0.7777777777777778,
              "#fb9f3a"
             ],
             [
              0.8888888888888888,
              "#fdca26"
             ],
             [
              1,
              "#f0f921"
             ]
            ],
            "type": "histogram2dcontour"
           }
          ],
          "mesh3d": [
           {
            "colorbar": {
             "outlinewidth": 0,
             "ticks": ""
            },
            "type": "mesh3d"
           }
          ],
          "parcoords": [
           {
            "line": {
             "colorbar": {
              "outlinewidth": 0,
              "ticks": ""
             }
            },
            "type": "parcoords"
           }
          ],
          "pie": [
           {
            "automargin": true,
            "type": "pie"
           }
          ],
          "scatter": [
           {
            "fillpattern": {
             "fillmode": "overlay",
             "size": 10,
             "solidity": 0.2
            },
            "type": "scatter"
           }
          ],
          "scatter3d": [
           {
            "line": {
             "colorbar": {
              "outlinewidth": 0,
              "ticks": ""
             }
            },
            "marker": {
             "colorbar": {
              "outlinewidth": 0,
              "ticks": ""
             }
            },
            "type": "scatter3d"
           }
          ],
          "scattercarpet": [
           {
            "marker": {
             "colorbar": {
              "outlinewidth": 0,
              "ticks": ""
             }
            },
            "type": "scattercarpet"
           }
          ],
          "scattergeo": [
           {
            "marker": {
             "colorbar": {
              "outlinewidth": 0,
              "ticks": ""
             }
            },
            "type": "scattergeo"
           }
          ],
          "scattergl": [
           {
            "marker": {
             "colorbar": {
              "outlinewidth": 0,
              "ticks": ""
             }
            },
            "type": "scattergl"
           }
          ],
          "scattermapbox": [
           {
            "marker": {
             "colorbar": {
              "outlinewidth": 0,
              "ticks": ""
             }
            },
            "type": "scattermapbox"
           }
          ],
          "scatterpolar": [
           {
            "marker": {
             "colorbar": {
              "outlinewidth": 0,
              "ticks": ""
             }
            },
            "type": "scatterpolar"
           }
          ],
          "scatterpolargl": [
           {
            "marker": {
             "colorbar": {
              "outlinewidth": 0,
              "ticks": ""
             }
            },
            "type": "scatterpolargl"
           }
          ],
          "scatterternary": [
           {
            "marker": {
             "colorbar": {
              "outlinewidth": 0,
              "ticks": ""
             }
            },
            "type": "scatterternary"
           }
          ],
          "surface": [
           {
            "colorbar": {
             "outlinewidth": 0,
             "ticks": ""
            },
            "colorscale": [
             [
              0,
              "#0d0887"
             ],
             [
              0.1111111111111111,
              "#46039f"
             ],
             [
              0.2222222222222222,
              "#7201a8"
             ],
             [
              0.3333333333333333,
              "#9c179e"
             ],
             [
              0.4444444444444444,
              "#bd3786"
             ],
             [
              0.5555555555555556,
              "#d8576b"
             ],
             [
              0.6666666666666666,
              "#ed7953"
             ],
             [
              0.7777777777777778,
              "#fb9f3a"
             ],
             [
              0.8888888888888888,
              "#fdca26"
             ],
             [
              1,
              "#f0f921"
             ]
            ],
            "type": "surface"
           }
          ],
          "table": [
           {
            "cells": {
             "fill": {
              "color": "#EBF0F8"
             },
             "line": {
              "color": "white"
             }
            },
            "header": {
             "fill": {
              "color": "#C8D4E3"
             },
             "line": {
              "color": "white"
             }
            },
            "type": "table"
           }
          ]
         },
         "layout": {
          "annotationdefaults": {
           "arrowcolor": "#2a3f5f",
           "arrowhead": 0,
           "arrowwidth": 1
          },
          "autotypenumbers": "strict",
          "coloraxis": {
           "colorbar": {
            "outlinewidth": 0,
            "ticks": ""
           }
          },
          "colorscale": {
           "diverging": [
            [
             0,
             "#8e0152"
            ],
            [
             0.1,
             "#c51b7d"
            ],
            [
             0.2,
             "#de77ae"
            ],
            [
             0.3,
             "#f1b6da"
            ],
            [
             0.4,
             "#fde0ef"
            ],
            [
             0.5,
             "#f7f7f7"
            ],
            [
             0.6,
             "#e6f5d0"
            ],
            [
             0.7,
             "#b8e186"
            ],
            [
             0.8,
             "#7fbc41"
            ],
            [
             0.9,
             "#4d9221"
            ],
            [
             1,
             "#276419"
            ]
           ],
           "sequential": [
            [
             0,
             "#0d0887"
            ],
            [
             0.1111111111111111,
             "#46039f"
            ],
            [
             0.2222222222222222,
             "#7201a8"
            ],
            [
             0.3333333333333333,
             "#9c179e"
            ],
            [
             0.4444444444444444,
             "#bd3786"
            ],
            [
             0.5555555555555556,
             "#d8576b"
            ],
            [
             0.6666666666666666,
             "#ed7953"
            ],
            [
             0.7777777777777778,
             "#fb9f3a"
            ],
            [
             0.8888888888888888,
             "#fdca26"
            ],
            [
             1,
             "#f0f921"
            ]
           ],
           "sequentialminus": [
            [
             0,
             "#0d0887"
            ],
            [
             0.1111111111111111,
             "#46039f"
            ],
            [
             0.2222222222222222,
             "#7201a8"
            ],
            [
             0.3333333333333333,
             "#9c179e"
            ],
            [
             0.4444444444444444,
             "#bd3786"
            ],
            [
             0.5555555555555556,
             "#d8576b"
            ],
            [
             0.6666666666666666,
             "#ed7953"
            ],
            [
             0.7777777777777778,
             "#fb9f3a"
            ],
            [
             0.8888888888888888,
             "#fdca26"
            ],
            [
             1,
             "#f0f921"
            ]
           ]
          },
          "colorway": [
           "#636efa",
           "#EF553B",
           "#00cc96",
           "#ab63fa",
           "#FFA15A",
           "#19d3f3",
           "#FF6692",
           "#B6E880",
           "#FF97FF",
           "#FECB52"
          ],
          "font": {
           "color": "#2a3f5f"
          },
          "geo": {
           "bgcolor": "white",
           "lakecolor": "white",
           "landcolor": "#E5ECF6",
           "showlakes": true,
           "showland": true,
           "subunitcolor": "white"
          },
          "hoverlabel": {
           "align": "left"
          },
          "hovermode": "closest",
          "mapbox": {
           "style": "light"
          },
          "paper_bgcolor": "white",
          "plot_bgcolor": "#E5ECF6",
          "polar": {
           "angularaxis": {
            "gridcolor": "white",
            "linecolor": "white",
            "ticks": ""
           },
           "bgcolor": "#E5ECF6",
           "radialaxis": {
            "gridcolor": "white",
            "linecolor": "white",
            "ticks": ""
           }
          },
          "scene": {
           "xaxis": {
            "backgroundcolor": "#E5ECF6",
            "gridcolor": "white",
            "gridwidth": 2,
            "linecolor": "white",
            "showbackground": true,
            "ticks": "",
            "zerolinecolor": "white"
           },
           "yaxis": {
            "backgroundcolor": "#E5ECF6",
            "gridcolor": "white",
            "gridwidth": 2,
            "linecolor": "white",
            "showbackground": true,
            "ticks": "",
            "zerolinecolor": "white"
           },
           "zaxis": {
            "backgroundcolor": "#E5ECF6",
            "gridcolor": "white",
            "gridwidth": 2,
            "linecolor": "white",
            "showbackground": true,
            "ticks": "",
            "zerolinecolor": "white"
           }
          },
          "shapedefaults": {
           "line": {
            "color": "#2a3f5f"
           }
          },
          "ternary": {
           "aaxis": {
            "gridcolor": "white",
            "linecolor": "white",
            "ticks": ""
           },
           "baxis": {
            "gridcolor": "white",
            "linecolor": "white",
            "ticks": ""
           },
           "bgcolor": "#E5ECF6",
           "caxis": {
            "gridcolor": "white",
            "linecolor": "white",
            "ticks": ""
           }
          },
          "title": {
           "x": 0.05
          },
          "xaxis": {
           "automargin": true,
           "gridcolor": "white",
           "linecolor": "white",
           "ticks": "",
           "title": {
            "standoff": 15
           },
           "zerolinecolor": "white",
           "zerolinewidth": 2
          },
          "yaxis": {
           "automargin": true,
           "gridcolor": "white",
           "linecolor": "white",
           "ticks": "",
           "title": {
            "standoff": 15
           },
           "zerolinecolor": "white",
           "zerolinewidth": 2
          }
         }
        },
        "width": 300,
        "xaxis": {
         "anchor": "y",
         "domain": [
          0,
          1
         ]
        },
        "yaxis": {
         "anchor": "x",
         "domain": [
          0,
          1
         ],
         "title": {
          "text": "price"
         }
        }
       }
      }
     },
     "metadata": {},
     "output_type": "display_data"
    }
   ],
   "source": [
    "fig.update_layout(height=600, width=300)"
   ]
  },
  {
   "cell_type": "markdown",
   "id": "79e2f2eb",
   "metadata": {},
   "source": [
    "<div style=\"border: 1px solid RGB(51,165,182);\" >\n",
    "<h3 style=\"margin: auto; padding: 20px; color: RGB(51,165,182); \">Etape 4.2 - Exploration par l'utisation de méthodes statistique</h3>\n",
    "</div>"
   ]
  },
  {
   "cell_type": "markdown",
   "id": "0735c3b2",
   "metadata": {},
   "source": [
    "<div style=\"border: 1px solid RGB(51,165,182);\" >\n",
    "<h3 style=\"margin: auto; padding: 20px; color: RGB(51,165,182); \">Etape 4.2.1 - Identification par le Z-index</h3>\n",
    "</div>"
   ]
  },
  {
   "cell_type": "code",
   "execution_count": null,
   "id": "5272d761",
   "metadata": {},
   "outputs": [],
   "source": [
    "#representation des prix sous forme de diagramme en barre pour montrer que çà ne suit pas la loi normale\n",
    "\n",
    "plt.xlabel('quantité en stock', fontweight='bold', fontsize='12')\n",
    "plt.ylabel('Nombre de vins', fontweight='bold', fontsize='12')\n",
    "n = df_erp['stock_quantity'].count()\n",
    "K1 = np.percentile(df_erp['stock_quantity'], 25)\n",
    "K3 = np.percentile(df_erp['stock_quantity'], 75)\n",
    "# calculate bin width for histogram (Freedman-Diaconis rule)\n",
    "bin_width = 2*((K3-K1)/np.cbrt(n))\n",
    "# calculate number of bins for histogram\n",
    "nb_bins = round(((df_erp['stock_quantity'].max() - df_erp['stock_quantity'].min())/ bin_width))\n",
    "plt.pyplot.hist(df_erp['stock_quantity'], bins=nb_bins, color='tomato')\n",
    "plt.pyplot.xlabel('Prix de vente en €', fontsize='12')\n",
    "plt.pyplot.ylabel('Nombre de produits vendus', fontsize='12')"
   ]
  },
  {
   "cell_type": "code",
   "execution_count": 737,
   "id": "1950ef8d",
   "metadata": {},
   "outputs": [],
   "source": [
    "#Calculer la moyenne du prix \n",
    "moy_prix = round(df_erp['price'].mean(),2)\n",
    "\n"
   ]
  },
  {
   "cell_type": "code",
   "execution_count": 220,
   "id": "cb88a171",
   "metadata": {},
   "outputs": [],
   "source": [
    "#Calculer l'écart-type du prix\n",
    "ecart_type_prix = round(np.std(df_erp['price']),3)\n"
   ]
  },
  {
   "cell_type": "code",
   "execution_count": 224,
   "id": "3e245c5c",
   "metadata": {},
   "outputs": [],
   "source": [
    "#Calculer le Z-score : de chaque valeur de prix \n",
    "df_erp[\"prix_deviation\"] = round(((df_erp[\"price\"] - moy_prix)/ecart_type_prix),3)"
   ]
  },
  {
   "cell_type": "code",
   "execution_count": 225,
   "id": "a3d5ba91",
   "metadata": {},
   "outputs": [
    {
     "data": {
      "text/html": [
       "<div>\n",
       "<style scoped>\n",
       "    .dataframe tbody tr th:only-of-type {\n",
       "        vertical-align: middle;\n",
       "    }\n",
       "\n",
       "    .dataframe tbody tr th {\n",
       "        vertical-align: top;\n",
       "    }\n",
       "\n",
       "    .dataframe thead th {\n",
       "        text-align: right;\n",
       "    }\n",
       "</style>\n",
       "<table border=\"1\" class=\"dataframe\">\n",
       "  <thead>\n",
       "    <tr style=\"text-align: right;\">\n",
       "      <th></th>\n",
       "      <th>product_id</th>\n",
       "      <th>onsale_web</th>\n",
       "      <th>price</th>\n",
       "      <th>stock_quantity</th>\n",
       "      <th>stock_status</th>\n",
       "      <th>purchase_price</th>\n",
       "      <th>prix_deviation</th>\n",
       "    </tr>\n",
       "  </thead>\n",
       "  <tbody>\n",
       "    <tr>\n",
       "      <th>208</th>\n",
       "      <td>4352</td>\n",
       "      <td>1</td>\n",
       "      <td>225.0</td>\n",
       "      <td>0</td>\n",
       "      <td>outofstock</td>\n",
       "      <td>137.81</td>\n",
       "      <td>7.249</td>\n",
       "    </tr>\n",
       "    <tr>\n",
       "      <th>227</th>\n",
       "      <td>4402</td>\n",
       "      <td>1</td>\n",
       "      <td>176.0</td>\n",
       "      <td>11</td>\n",
       "      <td>instock</td>\n",
       "      <td>78.25</td>\n",
       "      <td>5.406</td>\n",
       "    </tr>\n",
       "    <tr>\n",
       "      <th>230</th>\n",
       "      <td>4406</td>\n",
       "      <td>1</td>\n",
       "      <td>157.0</td>\n",
       "      <td>12</td>\n",
       "      <td>instock</td>\n",
       "      <td>69.08</td>\n",
       "      <td>4.691</td>\n",
       "    </tr>\n",
       "    <tr>\n",
       "      <th>242</th>\n",
       "      <td>4594</td>\n",
       "      <td>1</td>\n",
       "      <td>144.0</td>\n",
       "      <td>0</td>\n",
       "      <td>outofstock</td>\n",
       "      <td>87.36</td>\n",
       "      <td>4.202</td>\n",
       "    </tr>\n",
       "    <tr>\n",
       "      <th>411</th>\n",
       "      <td>4904</td>\n",
       "      <td>1</td>\n",
       "      <td>137.0</td>\n",
       "      <td>9</td>\n",
       "      <td>instock</td>\n",
       "      <td>67.95</td>\n",
       "      <td>3.939</td>\n",
       "    </tr>\n",
       "    <tr>\n",
       "      <th>460</th>\n",
       "      <td>5001</td>\n",
       "      <td>1</td>\n",
       "      <td>217.5</td>\n",
       "      <td>18</td>\n",
       "      <td>instock</td>\n",
       "      <td>116.87</td>\n",
       "      <td>6.967</td>\n",
       "    </tr>\n",
       "    <tr>\n",
       "      <th>556</th>\n",
       "      <td>5612</td>\n",
       "      <td>1</td>\n",
       "      <td>124.8</td>\n",
       "      <td>19</td>\n",
       "      <td>instock</td>\n",
       "      <td>66.41</td>\n",
       "      <td>3.480</td>\n",
       "    </tr>\n",
       "    <tr>\n",
       "      <th>598</th>\n",
       "      <td>5767</td>\n",
       "      <td>1</td>\n",
       "      <td>175.0</td>\n",
       "      <td>12</td>\n",
       "      <td>instock</td>\n",
       "      <td>90.42</td>\n",
       "      <td>5.368</td>\n",
       "    </tr>\n",
       "    <tr>\n",
       "      <th>635</th>\n",
       "      <td>5892</td>\n",
       "      <td>1</td>\n",
       "      <td>191.3</td>\n",
       "      <td>98</td>\n",
       "      <td>instock</td>\n",
       "      <td>116.06</td>\n",
       "      <td>5.981</td>\n",
       "    </tr>\n",
       "    <tr>\n",
       "      <th>651</th>\n",
       "      <td>5917</td>\n",
       "      <td>1</td>\n",
       "      <td>122.0</td>\n",
       "      <td>12</td>\n",
       "      <td>instock</td>\n",
       "      <td>54.24</td>\n",
       "      <td>3.375</td>\n",
       "    </tr>\n",
       "    <tr>\n",
       "      <th>652</th>\n",
       "      <td>5918</td>\n",
       "      <td>1</td>\n",
       "      <td>114.0</td>\n",
       "      <td>12</td>\n",
       "      <td>instock</td>\n",
       "      <td>52.25</td>\n",
       "      <td>3.074</td>\n",
       "    </tr>\n",
       "    <tr>\n",
       "      <th>697</th>\n",
       "      <td>6126</td>\n",
       "      <td>1</td>\n",
       "      <td>135.0</td>\n",
       "      <td>138</td>\n",
       "      <td>instock</td>\n",
       "      <td>80.33</td>\n",
       "      <td>3.864</td>\n",
       "    </tr>\n",
       "    <tr>\n",
       "      <th>703</th>\n",
       "      <td>6202</td>\n",
       "      <td>1</td>\n",
       "      <td>116.4</td>\n",
       "      <td>12</td>\n",
       "      <td>instock</td>\n",
       "      <td>63.15</td>\n",
       "      <td>3.164</td>\n",
       "    </tr>\n",
       "    <tr>\n",
       "      <th>708</th>\n",
       "      <td>6212</td>\n",
       "      <td>1</td>\n",
       "      <td>115.0</td>\n",
       "      <td>16</td>\n",
       "      <td>instock</td>\n",
       "      <td>59.42</td>\n",
       "      <td>3.111</td>\n",
       "    </tr>\n",
       "    <tr>\n",
       "      <th>709</th>\n",
       "      <td>6213</td>\n",
       "      <td>1</td>\n",
       "      <td>121.0</td>\n",
       "      <td>9</td>\n",
       "      <td>instock</td>\n",
       "      <td>63.14</td>\n",
       "      <td>3.337</td>\n",
       "    </tr>\n",
       "    <tr>\n",
       "      <th>711</th>\n",
       "      <td>6215</td>\n",
       "      <td>1</td>\n",
       "      <td>115.0</td>\n",
       "      <td>14</td>\n",
       "      <td>instock</td>\n",
       "      <td>56.45</td>\n",
       "      <td>3.111</td>\n",
       "    </tr>\n",
       "    <tr>\n",
       "      <th>712</th>\n",
       "      <td>6216</td>\n",
       "      <td>1</td>\n",
       "      <td>121.0</td>\n",
       "      <td>14</td>\n",
       "      <td>instock</td>\n",
       "      <td>60.02</td>\n",
       "      <td>3.337</td>\n",
       "    </tr>\n",
       "  </tbody>\n",
       "</table>\n",
       "</div>"
      ],
      "text/plain": [
       "     product_id  onsale_web  price  stock_quantity stock_status  \\\n",
       "208        4352           1  225.0               0   outofstock   \n",
       "227        4402           1  176.0              11      instock   \n",
       "230        4406           1  157.0              12      instock   \n",
       "242        4594           1  144.0               0   outofstock   \n",
       "411        4904           1  137.0               9      instock   \n",
       "460        5001           1  217.5              18      instock   \n",
       "556        5612           1  124.8              19      instock   \n",
       "598        5767           1  175.0              12      instock   \n",
       "635        5892           1  191.3              98      instock   \n",
       "651        5917           1  122.0              12      instock   \n",
       "652        5918           1  114.0              12      instock   \n",
       "697        6126           1  135.0             138      instock   \n",
       "703        6202           1  116.4              12      instock   \n",
       "708        6212           1  115.0              16      instock   \n",
       "709        6213           1  121.0               9      instock   \n",
       "711        6215           1  115.0              14      instock   \n",
       "712        6216           1  121.0              14      instock   \n",
       "\n",
       "     purchase_price  prix_deviation  \n",
       "208          137.81           7.249  \n",
       "227           78.25           5.406  \n",
       "230           69.08           4.691  \n",
       "242           87.36           4.202  \n",
       "411           67.95           3.939  \n",
       "460          116.87           6.967  \n",
       "556           66.41           3.480  \n",
       "598           90.42           5.368  \n",
       "635          116.06           5.981  \n",
       "651           54.24           3.375  \n",
       "652           52.25           3.074  \n",
       "697           80.33           3.864  \n",
       "703           63.15           3.164  \n",
       "708           59.42           3.111  \n",
       "709           63.14           3.337  \n",
       "711           56.45           3.111  \n",
       "712           60.02           3.337  "
      ]
     },
     "execution_count": 225,
     "metadata": {},
     "output_type": "execute_result"
    }
   ],
   "source": [
    "df_erp.loc[df_erp[\"prix_deviation\"]>3]"
   ]
  },
  {
   "cell_type": "code",
   "execution_count": 226,
   "id": "6e3e5be5",
   "metadata": {},
   "outputs": [
    {
     "data": {
      "text/plain": [
       "17"
      ]
     },
     "execution_count": 226,
     "metadata": {},
     "output_type": "execute_result"
    }
   ],
   "source": [
    "len(df_erp.loc[df_erp[\"prix_deviation\"]>3])"
   ]
  },
  {
   "cell_type": "code",
   "execution_count": 230,
   "id": "9c2f435f",
   "metadata": {},
   "outputs": [],
   "source": [
    "#Quel est le seuil prix dont z-score est supérieur à 3? : z = 3 ==> ((prix_seuil - moy_prix) / ecart_type_prix) = 3\n",
    "#==> prix_seuil = 3 * ecart_type_prix + moy_prix\n",
    "\n",
    "prix_seuil = (3 * ecart_type_prix) + moy_prix"
   ]
  },
  {
   "cell_type": "code",
   "execution_count": 672,
   "id": "b3d3b17d",
   "metadata": {},
   "outputs": [
    {
     "name": "stdout",
     "output_type": "stream",
     "text": [
      "112.041\n"
     ]
    }
   ],
   "source": [
    "print(prix_seuil)\n"
   ]
  },
  {
   "cell_type": "markdown",
   "id": "750f54f3",
   "metadata": {},
   "source": [
    "<div style=\"border: 1px solid RGB(51,165,182);\" >\n",
    "<h3 style=\"margin: auto; padding: 20px; color: RGB(51,165,182); \">Etape 4.2.2 - Identification par l'interval interquartile</h3>\n",
    "</div>"
   ]
  },
  {
   "cell_type": "code",
   "execution_count": 212,
   "id": "6c0db8c0",
   "metadata": {},
   "outputs": [
    {
     "data": {
      "text/html": [
       "<div>\n",
       "<style scoped>\n",
       "    .dataframe tbody tr th:only-of-type {\n",
       "        vertical-align: middle;\n",
       "    }\n",
       "\n",
       "    .dataframe tbody tr th {\n",
       "        vertical-align: top;\n",
       "    }\n",
       "\n",
       "    .dataframe thead th {\n",
       "        text-align: right;\n",
       "    }\n",
       "</style>\n",
       "<table border=\"1\" class=\"dataframe\">\n",
       "  <thead>\n",
       "    <tr style=\"text-align: right;\">\n",
       "      <th></th>\n",
       "      <th>product_id</th>\n",
       "      <th>onsale_web</th>\n",
       "      <th>price</th>\n",
       "      <th>stock_quantity</th>\n",
       "      <th>purchase_price</th>\n",
       "    </tr>\n",
       "  </thead>\n",
       "  <tbody>\n",
       "    <tr>\n",
       "      <th>count</th>\n",
       "      <td>825.000000</td>\n",
       "      <td>825.000000</td>\n",
       "      <td>825.000000</td>\n",
       "      <td>825.000000</td>\n",
       "      <td>825.000000</td>\n",
       "    </tr>\n",
       "    <tr>\n",
       "      <th>mean</th>\n",
       "      <td>5162.597576</td>\n",
       "      <td>0.867879</td>\n",
       "      <td>32.277636</td>\n",
       "      <td>21.589091</td>\n",
       "      <td>16.940582</td>\n",
       "    </tr>\n",
       "    <tr>\n",
       "      <th>std</th>\n",
       "      <td>902.644635</td>\n",
       "      <td>0.338828</td>\n",
       "      <td>26.603196</td>\n",
       "      <td>21.933807</td>\n",
       "      <td>14.561840</td>\n",
       "    </tr>\n",
       "    <tr>\n",
       "      <th>min</th>\n",
       "      <td>3847.000000</td>\n",
       "      <td>0.000000</td>\n",
       "      <td>5.200000</td>\n",
       "      <td>-10.000000</td>\n",
       "      <td>2.740000</td>\n",
       "    </tr>\n",
       "    <tr>\n",
       "      <th>25%</th>\n",
       "      <td>4348.000000</td>\n",
       "      <td>1.000000</td>\n",
       "      <td>14.500000</td>\n",
       "      <td>7.000000</td>\n",
       "      <td>7.590000</td>\n",
       "    </tr>\n",
       "    <tr>\n",
       "      <th>50%</th>\n",
       "      <td>4907.000000</td>\n",
       "      <td>1.000000</td>\n",
       "      <td>24.300000</td>\n",
       "      <td>18.000000</td>\n",
       "      <td>12.710000</td>\n",
       "    </tr>\n",
       "    <tr>\n",
       "      <th>75%</th>\n",
       "      <td>5805.000000</td>\n",
       "      <td>1.000000</td>\n",
       "      <td>42.000000</td>\n",
       "      <td>30.000000</td>\n",
       "      <td>22.020000</td>\n",
       "    </tr>\n",
       "    <tr>\n",
       "      <th>max</th>\n",
       "      <td>7338.000000</td>\n",
       "      <td>1.000000</td>\n",
       "      <td>225.000000</td>\n",
       "      <td>145.000000</td>\n",
       "      <td>137.810000</td>\n",
       "    </tr>\n",
       "  </tbody>\n",
       "</table>\n",
       "</div>"
      ],
      "text/plain": [
       "        product_id  onsale_web       price  stock_quantity  purchase_price\n",
       "count   825.000000  825.000000  825.000000      825.000000      825.000000\n",
       "mean   5162.597576    0.867879   32.277636       21.589091       16.940582\n",
       "std     902.644635    0.338828   26.603196       21.933807       14.561840\n",
       "min    3847.000000    0.000000    5.200000      -10.000000        2.740000\n",
       "25%    4348.000000    1.000000   14.500000        7.000000        7.590000\n",
       "50%    4907.000000    1.000000   24.300000       18.000000       12.710000\n",
       "75%    5805.000000    1.000000   42.000000       30.000000       22.020000\n",
       "max    7338.000000    1.000000  225.000000      145.000000      137.810000"
      ]
     },
     "execution_count": 212,
     "metadata": {},
     "output_type": "execute_result"
    }
   ],
   "source": [
    "#Utilisation de la fonction describe de Pandas pour l'etude des mesures de dispersions\n",
    "df_erp.describe()"
   ]
  },
  {
   "cell_type": "code",
   "execution_count": 196,
   "id": "d072210b",
   "metadata": {},
   "outputs": [],
   "source": [
    "Q1 = np.percentile(df_erp['price'], 25)\n"
   ]
  },
  {
   "cell_type": "code",
   "execution_count": 197,
   "id": "5dbdcadf",
   "metadata": {},
   "outputs": [
    {
     "data": {
      "text/plain": [
       "14.5"
      ]
     },
     "execution_count": 197,
     "metadata": {},
     "output_type": "execute_result"
    }
   ],
   "source": [
    "np.percentile(df_erp['price'], 25)"
   ]
  },
  {
   "cell_type": "code",
   "execution_count": 200,
   "id": "2a308bc9",
   "metadata": {},
   "outputs": [],
   "source": [
    "Q3 = np.percentile(df_erp['price'], 75)\n",
    "\n"
   ]
  },
  {
   "cell_type": "code",
   "execution_count": 198,
   "id": "54ca4231",
   "metadata": {},
   "outputs": [
    {
     "data": {
      "text/plain": [
       "42.0"
      ]
     },
     "execution_count": 198,
     "metadata": {},
     "output_type": "execute_result"
    }
   ],
   "source": [
    "np.percentile(df_erp['price'], 75)"
   ]
  },
  {
   "cell_type": "code",
   "execution_count": 201,
   "id": "9f2c9ebe",
   "metadata": {},
   "outputs": [],
   "source": [
    "IQ = Q3 - Q1"
   ]
  },
  {
   "cell_type": "code",
   "execution_count": 214,
   "id": "c24a61c8",
   "metadata": {},
   "outputs": [
    {
     "name": "stdout",
     "output_type": "stream",
     "text": [
      "La valeur maximale de la boite moustache: 83.25 €\n"
     ]
    }
   ],
   "source": [
    "#Définissez un seuil pour les articles \"outliers\" en prix\n",
    "top_whisker = Q3 + IQ*1.5\n",
    "print(\"La valeur maximale de la boite moustache:\", top_whisker, \"€\")"
   ]
  },
  {
   "cell_type": "code",
   "execution_count": 207,
   "id": "7a3d70a7",
   "metadata": {},
   "outputs": [],
   "source": [
    "#Définissez le nombre d'articles et la proportion de l'ensemble du catalogue \"outliers\"\n",
    "\n",
    "erp_outliers = df_erp.loc[df_erp['price'] > top_whisker]\n"
   ]
  },
  {
   "cell_type": "code",
   "execution_count": 689,
   "id": "9241b058",
   "metadata": {},
   "outputs": [
    {
     "data": {
      "text/plain": [
       "36"
      ]
     },
     "execution_count": 689,
     "metadata": {},
     "output_type": "execute_result"
    }
   ],
   "source": [
    "len(erp_outliers)"
   ]
  },
  {
   "cell_type": "code",
   "execution_count": null,
   "id": "06138432",
   "metadata": {},
   "outputs": [],
   "source": [
    "#Selon vous, ces outliers sont-ils justifiés ? Comment le démontrer si cela est possible ?\n"
   ]
  },
  {
   "cell_type": "markdown",
   "id": "640da2c8",
   "metadata": {},
   "source": [
    "<div style=\"background-color: RGB(51,165,182);\" >\n",
    "<h2 style=\"margin: auto; padding: 20px; color:#fff; \">Etape 5 - Analyse univarié du CA, des quantités vendues, des stocks et de la marge ainsi qu'une analyse multivarié  </h2>\n",
    "</div>"
   ]
  },
  {
   "cell_type": "markdown",
   "id": "5871c808",
   "metadata": {},
   "source": [
    "<div style=\"border: 1px solid RGB(51,165,182);\" >\n",
    "<h3 style=\"margin: auto; padding: 20px; color: RGB(51,165,182); \">Etape 5.1 - Analyse des ventes en CA</h3>\n",
    "</div>"
   ]
  },
  {
   "cell_type": "code",
   "execution_count": 275,
   "id": "331856c6",
   "metadata": {},
   "outputs": [
    {
     "name": "stdout",
     "output_type": "stream",
     "text": [
      "<class 'pandas.core.frame.DataFrame'>\n",
      "Index: 717 entries, 0 to 824\n",
      "Data columns (total 16 columns):\n",
      " #   Column             Non-Null Count  Dtype         \n",
      "---  ------             --------------  -----         \n",
      " 0   sku                714 non-null    object        \n",
      " 1   total_sales        714 non-null    float64       \n",
      " 2   tax_status         361 non-null    object        \n",
      " 3   post_date_gmt      714 non-null    datetime64[ns]\n",
      " 4   product_type       714 non-null    object        \n",
      " 5   post_name          714 non-null    object        \n",
      " 6   post_modified_gmt  714 non-null    datetime64[ns]\n",
      " 7   post_type          714 non-null    object        \n",
      " 8   product_id         717 non-null    int64         \n",
      " 9   onsale_web         717 non-null    int64         \n",
      " 10  price              717 non-null    float64       \n",
      " 11  stock_quantity     717 non-null    int64         \n",
      " 12  stock_status       717 non-null    object        \n",
      " 13  purchase_price     717 non-null    float64       \n",
      " 14  prix_deviation     717 non-null    float64       \n",
      " 15  id_web             714 non-null    object        \n",
      "dtypes: datetime64[ns](2), float64(4), int64(3), object(7)\n",
      "memory usage: 95.2+ KB\n"
     ]
    }
   ],
   "source": [
    "online_product.info()"
   ]
  },
  {
   "cell_type": "code",
   "execution_count": 1115,
   "id": "3cc2e89a",
   "metadata": {},
   "outputs": [
    {
     "data": {
      "text/html": [
       "<div>\n",
       "<style scoped>\n",
       "    .dataframe tbody tr th:only-of-type {\n",
       "        vertical-align: middle;\n",
       "    }\n",
       "\n",
       "    .dataframe tbody tr th {\n",
       "        vertical-align: top;\n",
       "    }\n",
       "\n",
       "    .dataframe thead th {\n",
       "        text-align: right;\n",
       "    }\n",
       "</style>\n",
       "<table border=\"1\" class=\"dataframe\">\n",
       "  <thead>\n",
       "    <tr style=\"text-align: right;\">\n",
       "      <th></th>\n",
       "      <th>sku</th>\n",
       "      <th>total_sales</th>\n",
       "      <th>tax_status</th>\n",
       "      <th>post_date_gmt</th>\n",
       "      <th>product_type</th>\n",
       "      <th>post_name</th>\n",
       "      <th>post_modified_gmt</th>\n",
       "      <th>post_type</th>\n",
       "      <th>product_id</th>\n",
       "      <th>onsale_web</th>\n",
       "      <th>...</th>\n",
       "      <th>stock_quantity</th>\n",
       "      <th>stock_status</th>\n",
       "      <th>purchase_price</th>\n",
       "      <th>prix_deviation</th>\n",
       "      <th>id_web</th>\n",
       "      <th>product_repres_color</th>\n",
       "      <th>ca_par_article</th>\n",
       "      <th>duree_stockage_en_mois</th>\n",
       "      <th>PVHT</th>\n",
       "      <th>taux_marge_%</th>\n",
       "    </tr>\n",
       "  </thead>\n",
       "  <tbody>\n",
       "    <tr>\n",
       "      <th>709</th>\n",
       "      <td>7033</td>\n",
       "      <td>5.0</td>\n",
       "      <td>NaN</td>\n",
       "      <td>2019-03-13 12:44:44</td>\n",
       "      <td>Huile d'olive</td>\n",
       "      <td>huile-olive-planeta-3l</td>\n",
       "      <td>2020-08-27 12:55:02</td>\n",
       "      <td>attachment</td>\n",
       "      <td>5756</td>\n",
       "      <td>1</td>\n",
       "      <td>...</td>\n",
       "      <td>9</td>\n",
       "      <td>instock</td>\n",
       "      <td>25.85</td>\n",
       "      <td>0.373</td>\n",
       "      <td>7033</td>\n",
       "      <td>olive</td>\n",
       "      <td>211.0</td>\n",
       "      <td>2.0</td>\n",
       "      <td>35.17</td>\n",
       "      <td>26.50</td>\n",
       "    </tr>\n",
       "    <tr>\n",
       "      <th>710</th>\n",
       "      <td>11258</td>\n",
       "      <td>7.0</td>\n",
       "      <td>NaN</td>\n",
       "      <td>2019-03-13 13:02:06</td>\n",
       "      <td>Huile d'olive</td>\n",
       "      <td>huile-dolive-extra-vierge-planeta-50cl</td>\n",
       "      <td>2020-08-19 08:55:02</td>\n",
       "      <td>attachment</td>\n",
       "      <td>5760</td>\n",
       "      <td>1</td>\n",
       "      <td>...</td>\n",
       "      <td>24</td>\n",
       "      <td>instock</td>\n",
       "      <td>8.43</td>\n",
       "      <td>-0.721</td>\n",
       "      <td>11258</td>\n",
       "      <td>olive</td>\n",
       "      <td>91.7</td>\n",
       "      <td>3.0</td>\n",
       "      <td>10.92</td>\n",
       "      <td>22.80</td>\n",
       "    </tr>\n",
       "    <tr>\n",
       "      <th>711</th>\n",
       "      <td>13849</td>\n",
       "      <td>10.0</td>\n",
       "      <td>taxable</td>\n",
       "      <td>2019-03-13 13:05:40</td>\n",
       "      <td>Huile d'olive</td>\n",
       "      <td>huile-dolive-extra-vierge-planeta-3x-10cl</td>\n",
       "      <td>2019-05-28 15:00:02</td>\n",
       "      <td>product</td>\n",
       "      <td>5761</td>\n",
       "      <td>1</td>\n",
       "      <td>...</td>\n",
       "      <td>125</td>\n",
       "      <td>instock</td>\n",
       "      <td>12.07</td>\n",
       "      <td>-0.481</td>\n",
       "      <td>13849</td>\n",
       "      <td>olive</td>\n",
       "      <td>195.0</td>\n",
       "      <td>12.0</td>\n",
       "      <td>16.25</td>\n",
       "      <td>25.72</td>\n",
       "    </tr>\n",
       "  </tbody>\n",
       "</table>\n",
       "<p>3 rows × 21 columns</p>\n",
       "</div>"
      ],
      "text/plain": [
       "       sku  total_sales tax_status       post_date_gmt   product_type  \\\n",
       "709   7033          5.0        NaN 2019-03-13 12:44:44  Huile d'olive   \n",
       "710  11258          7.0        NaN 2019-03-13 13:02:06  Huile d'olive   \n",
       "711  13849         10.0    taxable 2019-03-13 13:05:40  Huile d'olive   \n",
       "\n",
       "                                     post_name   post_modified_gmt  \\\n",
       "709                     huile-olive-planeta-3l 2020-08-27 12:55:02   \n",
       "710     huile-dolive-extra-vierge-planeta-50cl 2020-08-19 08:55:02   \n",
       "711  huile-dolive-extra-vierge-planeta-3x-10cl 2019-05-28 15:00:02   \n",
       "\n",
       "      post_type  product_id  onsale_web  ...  stock_quantity  stock_status  \\\n",
       "709  attachment        5756           1  ...               9       instock   \n",
       "710  attachment        5760           1  ...              24       instock   \n",
       "711     product        5761           1  ...             125       instock   \n",
       "\n",
       "    purchase_price  prix_deviation  id_web product_repres_color  \\\n",
       "709          25.85           0.373    7033                olive   \n",
       "710           8.43          -0.721   11258                olive   \n",
       "711          12.07          -0.481   13849                olive   \n",
       "\n",
       "    ca_par_article  duree_stockage_en_mois   PVHT  taux_marge_%  \n",
       "709          211.0                     2.0  35.17         26.50  \n",
       "710           91.7                     3.0  10.92         22.80  \n",
       "711          195.0                    12.0  16.25         25.72  \n",
       "\n",
       "[3 rows x 21 columns]"
      ]
     },
     "execution_count": 1115,
     "metadata": {},
     "output_type": "execute_result"
    }
   ],
   "source": [
    "online_product.loc[online_product[\"product_type\"] == \"Huile d'olive\"]"
   ]
  },
  {
   "cell_type": "code",
   "execution_count": 1065,
   "id": "3a070b83",
   "metadata": {},
   "outputs": [],
   "source": [
    "#Definir une couleur pour chaque produit qui sera utilisé comme code couleur dans les graphes \n",
    "list = [[\"Vin\", \"peachpuff\"], [\"Champagne\", \"burlywood\"], \n",
    "        [\"Cognac\", \"firebrick\"], [\"Gin\", \"cornflowerblue\"], [\"Huile d'olive\", \"olive\"],\n",
    "        [\"Whisky\", \"sandybrown\"], [\"Autre\", \"cadetblue\"]]\n",
    "new_df = pd.DataFrame(list, columns =['product_type', 'product_repres_color'], dtype = 'string')"
   ]
  },
  {
   "cell_type": "code",
   "execution_count": 1067,
   "id": "7b234aef",
   "metadata": {},
   "outputs": [],
   "source": [
    "online_product = pd.merge(online_product, new_df, on= 'product_type', how='inner')"
   ]
  },
  {
   "cell_type": "code",
   "execution_count": 1068,
   "id": "bbf73925",
   "metadata": {},
   "outputs": [],
   "source": [
    "#online_product[\"post_name\"] = online_product[\"post_name\"].astype('string')"
   ]
  },
  {
   "cell_type": "code",
   "execution_count": 1069,
   "id": "da0d5834",
   "metadata": {},
   "outputs": [],
   "source": [
    "##############################\n",
    "# Calculer le CA sur site web #\n",
    "##############################\n",
    "\n",
    "#Créez une colonne calculant le CA par article\n",
    "online_product[\"ca_par_article\"] = online_product[\"total_sales\"] * online_product[\"price\"]"
   ]
  },
  {
   "cell_type": "code",
   "execution_count": 1022,
   "id": "a1ec2f51",
   "metadata": {},
   "outputs": [
    {
     "name": "stdout",
     "output_type": "stream",
     "text": [
      "les ventes du sites web ont réalisé un CA de 153748.1\n"
     ]
    }
   ],
   "source": [
    "#Calculez la somme de la colonne \"ca_par_article\"\n",
    "chiffre_affaire = round(online_product[\"ca_par_article\"].sum(), 2)\n",
    "print(\"les ventes du sites web ont réalisé un CA de\", chiffre_affaire)\n",
    "#Ce résultat correspond au chiffre d'affaire du site web\n",
    "# on utilise la table online_product: \n"
   ]
  },
  {
   "cell_type": "code",
   "execution_count": 1070,
   "id": "4040ced7",
   "metadata": {},
   "outputs": [],
   "source": [
    "###############################\n",
    "# Palmares des articles en CA #\n",
    "###############################\n",
    "\n",
    "#Effectuer le tri dans l'ordre décroissant du CA du dataset df_merge\n",
    "\n",
    "sorted_online_product = online_product.sort_values(by=\"ca_par_article\", ascending=False)"
   ]
  },
  {
   "cell_type": "code",
   "execution_count": 1071,
   "id": "7208d50f",
   "metadata": {},
   "outputs": [
    {
     "data": {
      "text/html": [
       "<div>\n",
       "<style scoped>\n",
       "    .dataframe tbody tr th:only-of-type {\n",
       "        vertical-align: middle;\n",
       "    }\n",
       "\n",
       "    .dataframe tbody tr th {\n",
       "        vertical-align: top;\n",
       "    }\n",
       "\n",
       "    .dataframe thead th {\n",
       "        text-align: right;\n",
       "    }\n",
       "</style>\n",
       "<table border=\"1\" class=\"dataframe\">\n",
       "  <thead>\n",
       "    <tr style=\"text-align: right;\">\n",
       "      <th></th>\n",
       "      <th>index</th>\n",
       "      <th>sku</th>\n",
       "      <th>total_sales</th>\n",
       "      <th>tax_status</th>\n",
       "      <th>post_date_gmt</th>\n",
       "      <th>product_type</th>\n",
       "      <th>post_name</th>\n",
       "      <th>post_modified_gmt</th>\n",
       "      <th>post_type</th>\n",
       "      <th>product_id</th>\n",
       "      <th>onsale_web</th>\n",
       "      <th>price</th>\n",
       "      <th>stock_quantity</th>\n",
       "      <th>stock_status</th>\n",
       "      <th>purchase_price</th>\n",
       "      <th>prix_deviation</th>\n",
       "      <th>id_web</th>\n",
       "      <th>product_repres_color</th>\n",
       "      <th>ca_par_article</th>\n",
       "    </tr>\n",
       "  </thead>\n",
       "  <tbody>\n",
       "    <tr>\n",
       "      <th>0</th>\n",
       "      <td>665</td>\n",
       "      <td>1366</td>\n",
       "      <td>116.0</td>\n",
       "      <td>NaN</td>\n",
       "      <td>2018-02-13 12:45:31</td>\n",
       "      <td>Champagne</td>\n",
       "      <td>champagne-mailly-grand-cru-intemporelle-2010</td>\n",
       "      <td>2020-08-26 16:05:02</td>\n",
       "      <td>attachment</td>\n",
       "      <td>4150</td>\n",
       "      <td>1</td>\n",
       "      <td>59.0</td>\n",
       "      <td>123</td>\n",
       "      <td>instock</td>\n",
       "      <td>35.45</td>\n",
       "      <td>1.005</td>\n",
       "      <td>1366</td>\n",
       "      <td>burlywood</td>\n",
       "      <td>6844.0</td>\n",
       "    </tr>\n",
       "    <tr>\n",
       "      <th>1</th>\n",
       "      <td>671</td>\n",
       "      <td>15940</td>\n",
       "      <td>11.0</td>\n",
       "      <td>NaN</td>\n",
       "      <td>2018-03-02 09:30:04</td>\n",
       "      <td>Champagne</td>\n",
       "      <td>champagne-egly-ouriet-grand-cru-millesime-2008</td>\n",
       "      <td>2020-03-07 10:18:45</td>\n",
       "      <td>attachment</td>\n",
       "      <td>4352</td>\n",
       "      <td>1</td>\n",
       "      <td>225.0</td>\n",
       "      <td>0</td>\n",
       "      <td>outofstock</td>\n",
       "      <td>137.81</td>\n",
       "      <td>7.249</td>\n",
       "      <td>15940</td>\n",
       "      <td>burlywood</td>\n",
       "      <td>2475.0</td>\n",
       "    </tr>\n",
       "    <tr>\n",
       "      <th>2</th>\n",
       "      <td>284</td>\n",
       "      <td>14950</td>\n",
       "      <td>122.0</td>\n",
       "      <td>NaN</td>\n",
       "      <td>2018-04-18 09:53:51</td>\n",
       "      <td>Vin</td>\n",
       "      <td>francois-baur-pinot-noir-schlittweg-2017</td>\n",
       "      <td>2020-05-06 09:35:01</td>\n",
       "      <td>attachment</td>\n",
       "      <td>4726</td>\n",
       "      <td>1</td>\n",
       "      <td>12.7</td>\n",
       "      <td>0</td>\n",
       "      <td>outofstock</td>\n",
       "      <td>6.82</td>\n",
       "      <td>-0.736</td>\n",
       "      <td>14950</td>\n",
       "      <td>peachpuff</td>\n",
       "      <td>1549.4</td>\n",
       "    </tr>\n",
       "    <tr>\n",
       "      <th>3</th>\n",
       "      <td>401</td>\n",
       "      <td>15346</td>\n",
       "      <td>22.0</td>\n",
       "      <td>NaN</td>\n",
       "      <td>2018-07-31 09:49:05</td>\n",
       "      <td>Vin</td>\n",
       "      <td>albert-mann-pinot-noir-grand-h-2017</td>\n",
       "      <td>2020-02-13 16:00:01</td>\n",
       "      <td>attachment</td>\n",
       "      <td>5067</td>\n",
       "      <td>1</td>\n",
       "      <td>59.9</td>\n",
       "      <td>3</td>\n",
       "      <td>instock</td>\n",
       "      <td>30.95</td>\n",
       "      <td>1.039</td>\n",
       "      <td>15346</td>\n",
       "      <td>peachpuff</td>\n",
       "      <td>1317.8</td>\n",
       "    </tr>\n",
       "    <tr>\n",
       "      <th>4</th>\n",
       "      <td>406</td>\n",
       "      <td>14561</td>\n",
       "      <td>111.0</td>\n",
       "      <td>NaN</td>\n",
       "      <td>2018-09-01 13:34:55</td>\n",
       "      <td>Vin</td>\n",
       "      <td>argentine-mendoza-alamos-torrontes-2017</td>\n",
       "      <td>2020-07-11 12:00:03</td>\n",
       "      <td>attachment</td>\n",
       "      <td>5379</td>\n",
       "      <td>1</td>\n",
       "      <td>11.1</td>\n",
       "      <td>33</td>\n",
       "      <td>instock</td>\n",
       "      <td>5.68</td>\n",
       "      <td>-0.797</td>\n",
       "      <td>14561</td>\n",
       "      <td>peachpuff</td>\n",
       "      <td>1232.1</td>\n",
       "    </tr>\n",
       "    <tr>\n",
       "      <th>...</th>\n",
       "      <td>...</td>\n",
       "      <td>...</td>\n",
       "      <td>...</td>\n",
       "      <td>...</td>\n",
       "      <td>...</td>\n",
       "      <td>...</td>\n",
       "      <td>...</td>\n",
       "      <td>...</td>\n",
       "      <td>...</td>\n",
       "      <td>...</td>\n",
       "      <td>...</td>\n",
       "      <td>...</td>\n",
       "      <td>...</td>\n",
       "      <td>...</td>\n",
       "      <td>...</td>\n",
       "      <td>...</td>\n",
       "      <td>...</td>\n",
       "      <td>...</td>\n",
       "      <td>...</td>\n",
       "    </tr>\n",
       "    <tr>\n",
       "      <th>709</th>\n",
       "      <td>410</td>\n",
       "      <td>14149</td>\n",
       "      <td>0.0</td>\n",
       "      <td>NaN</td>\n",
       "      <td>2018-09-01 13:58:23</td>\n",
       "      <td>Vin</td>\n",
       "      <td>liban-vallee-de-la-bekaa-chateau-marsyas-2012</td>\n",
       "      <td>2020-04-01 07:30:06</td>\n",
       "      <td>attachment</td>\n",
       "      <td>5384</td>\n",
       "      <td>1</td>\n",
       "      <td>28.8</td>\n",
       "      <td>0</td>\n",
       "      <td>outofstock</td>\n",
       "      <td>15.18</td>\n",
       "      <td>-0.131</td>\n",
       "      <td>14149</td>\n",
       "      <td>peachpuff</td>\n",
       "      <td>0.0</td>\n",
       "    </tr>\n",
       "    <tr>\n",
       "      <th>710</th>\n",
       "      <td>492</td>\n",
       "      <td>14241</td>\n",
       "      <td>0.0</td>\n",
       "      <td>NaN</td>\n",
       "      <td>2019-01-31 13:57:35</td>\n",
       "      <td>Vin</td>\n",
       "      <td>albert-mann-gewurztraminer-vendanges-tardives-...</td>\n",
       "      <td>2019-08-09 09:50:03</td>\n",
       "      <td>attachment</td>\n",
       "      <td>5712</td>\n",
       "      <td>1</td>\n",
       "      <td>57.6</td>\n",
       "      <td>0</td>\n",
       "      <td>outofstock</td>\n",
       "      <td>30.36</td>\n",
       "      <td>0.952</td>\n",
       "      <td>14241</td>\n",
       "      <td>peachpuff</td>\n",
       "      <td>0.0</td>\n",
       "    </tr>\n",
       "    <tr>\n",
       "      <th>711</th>\n",
       "      <td>211</td>\n",
       "      <td>14372</td>\n",
       "      <td>0.0</td>\n",
       "      <td>taxable</td>\n",
       "      <td>2018-04-13 14:03:28</td>\n",
       "      <td>Vin</td>\n",
       "      <td>alphonse-mellot-sancerre-rouge-la-moussiere-2014</td>\n",
       "      <td>2020-08-27 07:30:05</td>\n",
       "      <td>product</td>\n",
       "      <td>4618</td>\n",
       "      <td>1</td>\n",
       "      <td>30.6</td>\n",
       "      <td>0</td>\n",
       "      <td>outofstock</td>\n",
       "      <td>16.44</td>\n",
       "      <td>-0.063</td>\n",
       "      <td>14372</td>\n",
       "      <td>peachpuff</td>\n",
       "      <td>0.0</td>\n",
       "    </tr>\n",
       "    <tr>\n",
       "      <th>712</th>\n",
       "      <td>200</td>\n",
       "      <td>15149</td>\n",
       "      <td>0.0</td>\n",
       "      <td>NaN</td>\n",
       "      <td>2018-04-13 12:19:27</td>\n",
       "      <td>Vin</td>\n",
       "      <td>catherine-et-claude-marechal-volnay-2017</td>\n",
       "      <td>2020-06-13 13:55:03</td>\n",
       "      <td>attachment</td>\n",
       "      <td>4606</td>\n",
       "      <td>1</td>\n",
       "      <td>50.1</td>\n",
       "      <td>0</td>\n",
       "      <td>outofstock</td>\n",
       "      <td>24.59</td>\n",
       "      <td>0.670</td>\n",
       "      <td>15149</td>\n",
       "      <td>peachpuff</td>\n",
       "      <td>0.0</td>\n",
       "    </tr>\n",
       "    <tr>\n",
       "      <th>713</th>\n",
       "      <td>567</td>\n",
       "      <td>15318</td>\n",
       "      <td>0.0</td>\n",
       "      <td>taxable</td>\n",
       "      <td>2019-04-25 07:47:47</td>\n",
       "      <td>Vin</td>\n",
       "      <td>i-fabbri-chianti-classico-gran-selezione-2015</td>\n",
       "      <td>2020-08-24 14:25:02</td>\n",
       "      <td>product</td>\n",
       "      <td>6038</td>\n",
       "      <td>1</td>\n",
       "      <td>48.5</td>\n",
       "      <td>0</td>\n",
       "      <td>outofstock</td>\n",
       "      <td>25.31</td>\n",
       "      <td>0.610</td>\n",
       "      <td>15318</td>\n",
       "      <td>peachpuff</td>\n",
       "      <td>0.0</td>\n",
       "    </tr>\n",
       "  </tbody>\n",
       "</table>\n",
       "<p>714 rows × 19 columns</p>\n",
       "</div>"
      ],
      "text/plain": [
       "     index    sku  total_sales tax_status       post_date_gmt product_type  \\\n",
       "0      665   1366        116.0        NaN 2018-02-13 12:45:31    Champagne   \n",
       "1      671  15940         11.0        NaN 2018-03-02 09:30:04    Champagne   \n",
       "2      284  14950        122.0        NaN 2018-04-18 09:53:51          Vin   \n",
       "3      401  15346         22.0        NaN 2018-07-31 09:49:05          Vin   \n",
       "4      406  14561        111.0        NaN 2018-09-01 13:34:55          Vin   \n",
       "..     ...    ...          ...        ...                 ...          ...   \n",
       "709    410  14149          0.0        NaN 2018-09-01 13:58:23          Vin   \n",
       "710    492  14241          0.0        NaN 2019-01-31 13:57:35          Vin   \n",
       "711    211  14372          0.0    taxable 2018-04-13 14:03:28          Vin   \n",
       "712    200  15149          0.0        NaN 2018-04-13 12:19:27          Vin   \n",
       "713    567  15318          0.0    taxable 2019-04-25 07:47:47          Vin   \n",
       "\n",
       "                                             post_name   post_modified_gmt  \\\n",
       "0         champagne-mailly-grand-cru-intemporelle-2010 2020-08-26 16:05:02   \n",
       "1       champagne-egly-ouriet-grand-cru-millesime-2008 2020-03-07 10:18:45   \n",
       "2             francois-baur-pinot-noir-schlittweg-2017 2020-05-06 09:35:01   \n",
       "3                  albert-mann-pinot-noir-grand-h-2017 2020-02-13 16:00:01   \n",
       "4              argentine-mendoza-alamos-torrontes-2017 2020-07-11 12:00:03   \n",
       "..                                                 ...                 ...   \n",
       "709      liban-vallee-de-la-bekaa-chateau-marsyas-2012 2020-04-01 07:30:06   \n",
       "710  albert-mann-gewurztraminer-vendanges-tardives-... 2019-08-09 09:50:03   \n",
       "711   alphonse-mellot-sancerre-rouge-la-moussiere-2014 2020-08-27 07:30:05   \n",
       "712           catherine-et-claude-marechal-volnay-2017 2020-06-13 13:55:03   \n",
       "713      i-fabbri-chianti-classico-gran-selezione-2015 2020-08-24 14:25:02   \n",
       "\n",
       "      post_type  product_id  onsale_web  price  stock_quantity stock_status  \\\n",
       "0    attachment        4150           1   59.0             123      instock   \n",
       "1    attachment        4352           1  225.0               0   outofstock   \n",
       "2    attachment        4726           1   12.7               0   outofstock   \n",
       "3    attachment        5067           1   59.9               3      instock   \n",
       "4    attachment        5379           1   11.1              33      instock   \n",
       "..          ...         ...         ...    ...             ...          ...   \n",
       "709  attachment        5384           1   28.8               0   outofstock   \n",
       "710  attachment        5712           1   57.6               0   outofstock   \n",
       "711     product        4618           1   30.6               0   outofstock   \n",
       "712  attachment        4606           1   50.1               0   outofstock   \n",
       "713     product        6038           1   48.5               0   outofstock   \n",
       "\n",
       "     purchase_price  prix_deviation id_web product_repres_color  \\\n",
       "0             35.45           1.005   1366            burlywood   \n",
       "1            137.81           7.249  15940            burlywood   \n",
       "2              6.82          -0.736  14950            peachpuff   \n",
       "3             30.95           1.039  15346            peachpuff   \n",
       "4              5.68          -0.797  14561            peachpuff   \n",
       "..              ...             ...    ...                  ...   \n",
       "709           15.18          -0.131  14149            peachpuff   \n",
       "710           30.36           0.952  14241            peachpuff   \n",
       "711           16.44          -0.063  14372            peachpuff   \n",
       "712           24.59           0.670  15149            peachpuff   \n",
       "713           25.31           0.610  15318            peachpuff   \n",
       "\n",
       "     ca_par_article  \n",
       "0            6844.0  \n",
       "1            2475.0  \n",
       "2            1549.4  \n",
       "3            1317.8  \n",
       "4            1232.1  \n",
       "..              ...  \n",
       "709             0.0  \n",
       "710             0.0  \n",
       "711             0.0  \n",
       "712             0.0  \n",
       "713             0.0  \n",
       "\n",
       "[714 rows x 19 columns]"
      ]
     },
     "execution_count": 1071,
     "metadata": {},
     "output_type": "execute_result"
    }
   ],
   "source": [
    "#Réinitialiser l'index du dataset par un reset_index\n",
    "sorted_online_product.reset_index()"
   ]
  },
  {
   "cell_type": "code",
   "execution_count": 1072,
   "id": "961d2d8d",
   "metadata": {},
   "outputs": [],
   "source": [
    "#Afficher les 20 premier articles en CA\n",
    "sorted_online_product_20 = sorted_online_product.head(20)\n"
   ]
  },
  {
   "cell_type": "code",
   "execution_count": null,
   "id": "7f6f7dfc",
   "metadata": {},
   "outputs": [],
   "source": [
    "#Graphique en barre des 20 premiers articles avec plotly express\n",
    "fig = px.bar(sorted_online_product_20, x= range(1,21), y=\"ca_par_article\", title='Top 20 des produits qui réalisent les meilleurs CA', color=range(1,21))\n",
    "fig.update_traces(texttemplate = sorted_online_product_20[\"product_type\"], textposition = \"inside\", textfont=dict(size=12),\n",
    "                  marker_color='mediumseagreen')\n",
    "fig.update_layout(xaxis_title=\"Produit\", width=800, height=500, bargap=0.05)\n",
    "fig.show()\n"
   ]
  },
  {
   "cell_type": "code",
   "execution_count": 1114,
   "id": "f412a608",
   "metadata": {},
   "outputs": [
    {
     "data": {
      "application/vnd.plotly.v1+json": {
       "config": {
        "plotlyServerURL": "https://plot.ly"
       },
       "data": [
        {
         "marker": {
          "color": [
           "burlywood",
           "burlywood",
           "peachpuff",
           "peachpuff",
           "peachpuff",
           "burlywood",
           "burlywood",
           "peachpuff",
           "peachpuff",
           "burlywood",
           "peachpuff",
           "peachpuff",
           "burlywood",
           "burlywood",
           "peachpuff",
           "firebrick",
           "peachpuff",
           "burlywood",
           "burlywood",
           "peachpuff"
          ]
         },
         "type": "bar",
         "x": [
          "champagne-mailly-grand-cru-intemporelle-2010",
          "champagne-egly-ouriet-grand-cru-millesime-2008",
          "francois-baur-pinot-noir-schlittweg-2017",
          "albert-mann-pinot-noir-grand-h-2017",
          "argentine-mendoza-alamos-torrontes-2017",
          "coteaux-champenois-egly-ouriet-ambonnay-rouge-2016",
          "champagne-egly-ouriet-grand-cru-brut-rose",
          "agnes-levet-amethyste-2017",
          "domaine-des-comtes-lafon-volnay-1er-cru-santenots-du-milieu-2015",
          "champagne-agrapart-fils-mineral-extra-brut-blanc-de-blancs-grand-cru-2012",
          "domaine-des-comtes-lafon-volnay-1er-cru-santenots-du-milieu-2013",
          "camille-giroud-clos-de-vougeot-2016",
          "champagne-gosset-celebris-vintage-2007",
          "champagne-agrapart-fils-lavizoise-grand-cru-2012-extra-brut-blanc-de-blancs",
          "david-duband-chambolle-musigny-1er-cru-les-sentiers-2016",
          "cognac-frapin-chateau-de-fontpinot-1989-20-ans",
          "bernard-baudry-chinon-rouge-croix-boissee-2017",
          "champagne-larmandier-bernier-vieilles-vignes-levant-2008",
          "champagne-larmandier-bernier-grand-cru-vieilles-chemins-avize-2011",
          "domaine-des-comtes-lafon-volnay-1er-cru-champans-2013"
         ],
         "y": [
          6844,
          2475,
          1549.3999999999999,
          1317.8,
          1232.1,
          1147.8000000000002,
          1113,
          824,
          805,
          781.1999999999999,
          735,
          700,
          675,
          672,
          633.5999999999999,
          628,
          627,
          616,
          599.1999999999999,
          594
         ]
        }
       ],
       "layout": {
        "height": 600,
        "legend": {
         "title": {
          "text": "Product Legend"
         }
        },
        "template": {
         "data": {
          "bar": [
           {
            "error_x": {
             "color": "#2a3f5f"
            },
            "error_y": {
             "color": "#2a3f5f"
            },
            "marker": {
             "line": {
              "color": "#E5ECF6",
              "width": 0.5
             },
             "pattern": {
              "fillmode": "overlay",
              "size": 10,
              "solidity": 0.2
             }
            },
            "type": "bar"
           }
          ],
          "barpolar": [
           {
            "marker": {
             "line": {
              "color": "#E5ECF6",
              "width": 0.5
             },
             "pattern": {
              "fillmode": "overlay",
              "size": 10,
              "solidity": 0.2
             }
            },
            "type": "barpolar"
           }
          ],
          "carpet": [
           {
            "aaxis": {
             "endlinecolor": "#2a3f5f",
             "gridcolor": "white",
             "linecolor": "white",
             "minorgridcolor": "white",
             "startlinecolor": "#2a3f5f"
            },
            "baxis": {
             "endlinecolor": "#2a3f5f",
             "gridcolor": "white",
             "linecolor": "white",
             "minorgridcolor": "white",
             "startlinecolor": "#2a3f5f"
            },
            "type": "carpet"
           }
          ],
          "choropleth": [
           {
            "colorbar": {
             "outlinewidth": 0,
             "ticks": ""
            },
            "type": "choropleth"
           }
          ],
          "contour": [
           {
            "colorbar": {
             "outlinewidth": 0,
             "ticks": ""
            },
            "colorscale": [
             [
              0,
              "#0d0887"
             ],
             [
              0.1111111111111111,
              "#46039f"
             ],
             [
              0.2222222222222222,
              "#7201a8"
             ],
             [
              0.3333333333333333,
              "#9c179e"
             ],
             [
              0.4444444444444444,
              "#bd3786"
             ],
             [
              0.5555555555555556,
              "#d8576b"
             ],
             [
              0.6666666666666666,
              "#ed7953"
             ],
             [
              0.7777777777777778,
              "#fb9f3a"
             ],
             [
              0.8888888888888888,
              "#fdca26"
             ],
             [
              1,
              "#f0f921"
             ]
            ],
            "type": "contour"
           }
          ],
          "contourcarpet": [
           {
            "colorbar": {
             "outlinewidth": 0,
             "ticks": ""
            },
            "type": "contourcarpet"
           }
          ],
          "heatmap": [
           {
            "colorbar": {
             "outlinewidth": 0,
             "ticks": ""
            },
            "colorscale": [
             [
              0,
              "#0d0887"
             ],
             [
              0.1111111111111111,
              "#46039f"
             ],
             [
              0.2222222222222222,
              "#7201a8"
             ],
             [
              0.3333333333333333,
              "#9c179e"
             ],
             [
              0.4444444444444444,
              "#bd3786"
             ],
             [
              0.5555555555555556,
              "#d8576b"
             ],
             [
              0.6666666666666666,
              "#ed7953"
             ],
             [
              0.7777777777777778,
              "#fb9f3a"
             ],
             [
              0.8888888888888888,
              "#fdca26"
             ],
             [
              1,
              "#f0f921"
             ]
            ],
            "type": "heatmap"
           }
          ],
          "heatmapgl": [
           {
            "colorbar": {
             "outlinewidth": 0,
             "ticks": ""
            },
            "colorscale": [
             [
              0,
              "#0d0887"
             ],
             [
              0.1111111111111111,
              "#46039f"
             ],
             [
              0.2222222222222222,
              "#7201a8"
             ],
             [
              0.3333333333333333,
              "#9c179e"
             ],
             [
              0.4444444444444444,
              "#bd3786"
             ],
             [
              0.5555555555555556,
              "#d8576b"
             ],
             [
              0.6666666666666666,
              "#ed7953"
             ],
             [
              0.7777777777777778,
              "#fb9f3a"
             ],
             [
              0.8888888888888888,
              "#fdca26"
             ],
             [
              1,
              "#f0f921"
             ]
            ],
            "type": "heatmapgl"
           }
          ],
          "histogram": [
           {
            "marker": {
             "pattern": {
              "fillmode": "overlay",
              "size": 10,
              "solidity": 0.2
             }
            },
            "type": "histogram"
           }
          ],
          "histogram2d": [
           {
            "colorbar": {
             "outlinewidth": 0,
             "ticks": ""
            },
            "colorscale": [
             [
              0,
              "#0d0887"
             ],
             [
              0.1111111111111111,
              "#46039f"
             ],
             [
              0.2222222222222222,
              "#7201a8"
             ],
             [
              0.3333333333333333,
              "#9c179e"
             ],
             [
              0.4444444444444444,
              "#bd3786"
             ],
             [
              0.5555555555555556,
              "#d8576b"
             ],
             [
              0.6666666666666666,
              "#ed7953"
             ],
             [
              0.7777777777777778,
              "#fb9f3a"
             ],
             [
              0.8888888888888888,
              "#fdca26"
             ],
             [
              1,
              "#f0f921"
             ]
            ],
            "type": "histogram2d"
           }
          ],
          "histogram2dcontour": [
           {
            "colorbar": {
             "outlinewidth": 0,
             "ticks": ""
            },
            "colorscale": [
             [
              0,
              "#0d0887"
             ],
             [
              0.1111111111111111,
              "#46039f"
             ],
             [
              0.2222222222222222,
              "#7201a8"
             ],
             [
              0.3333333333333333,
              "#9c179e"
             ],
             [
              0.4444444444444444,
              "#bd3786"
             ],
             [
              0.5555555555555556,
              "#d8576b"
             ],
             [
              0.6666666666666666,
              "#ed7953"
             ],
             [
              0.7777777777777778,
              "#fb9f3a"
             ],
             [
              0.8888888888888888,
              "#fdca26"
             ],
             [
              1,
              "#f0f921"
             ]
            ],
            "type": "histogram2dcontour"
           }
          ],
          "mesh3d": [
           {
            "colorbar": {
             "outlinewidth": 0,
             "ticks": ""
            },
            "type": "mesh3d"
           }
          ],
          "parcoords": [
           {
            "line": {
             "colorbar": {
              "outlinewidth": 0,
              "ticks": ""
             }
            },
            "type": "parcoords"
           }
          ],
          "pie": [
           {
            "automargin": true,
            "type": "pie"
           }
          ],
          "scatter": [
           {
            "fillpattern": {
             "fillmode": "overlay",
             "size": 10,
             "solidity": 0.2
            },
            "type": "scatter"
           }
          ],
          "scatter3d": [
           {
            "line": {
             "colorbar": {
              "outlinewidth": 0,
              "ticks": ""
             }
            },
            "marker": {
             "colorbar": {
              "outlinewidth": 0,
              "ticks": ""
             }
            },
            "type": "scatter3d"
           }
          ],
          "scattercarpet": [
           {
            "marker": {
             "colorbar": {
              "outlinewidth": 0,
              "ticks": ""
             }
            },
            "type": "scattercarpet"
           }
          ],
          "scattergeo": [
           {
            "marker": {
             "colorbar": {
              "outlinewidth": 0,
              "ticks": ""
             }
            },
            "type": "scattergeo"
           }
          ],
          "scattergl": [
           {
            "marker": {
             "colorbar": {
              "outlinewidth": 0,
              "ticks": ""
             }
            },
            "type": "scattergl"
           }
          ],
          "scattermapbox": [
           {
            "marker": {
             "colorbar": {
              "outlinewidth": 0,
              "ticks": ""
             }
            },
            "type": "scattermapbox"
           }
          ],
          "scatterpolar": [
           {
            "marker": {
             "colorbar": {
              "outlinewidth": 0,
              "ticks": ""
             }
            },
            "type": "scatterpolar"
           }
          ],
          "scatterpolargl": [
           {
            "marker": {
             "colorbar": {
              "outlinewidth": 0,
              "ticks": ""
             }
            },
            "type": "scatterpolargl"
           }
          ],
          "scatterternary": [
           {
            "marker": {
             "colorbar": {
              "outlinewidth": 0,
              "ticks": ""
             }
            },
            "type": "scatterternary"
           }
          ],
          "surface": [
           {
            "colorbar": {
             "outlinewidth": 0,
             "ticks": ""
            },
            "colorscale": [
             [
              0,
              "#0d0887"
             ],
             [
              0.1111111111111111,
              "#46039f"
             ],
             [
              0.2222222222222222,
              "#7201a8"
             ],
             [
              0.3333333333333333,
              "#9c179e"
             ],
             [
              0.4444444444444444,
              "#bd3786"
             ],
             [
              0.5555555555555556,
              "#d8576b"
             ],
             [
              0.6666666666666666,
              "#ed7953"
             ],
             [
              0.7777777777777778,
              "#fb9f3a"
             ],
             [
              0.8888888888888888,
              "#fdca26"
             ],
             [
              1,
              "#f0f921"
             ]
            ],
            "type": "surface"
           }
          ],
          "table": [
           {
            "cells": {
             "fill": {
              "color": "#EBF0F8"
             },
             "line": {
              "color": "white"
             }
            },
            "header": {
             "fill": {
              "color": "#C8D4E3"
             },
             "line": {
              "color": "white"
             }
            },
            "type": "table"
           }
          ]
         },
         "layout": {
          "annotationdefaults": {
           "arrowcolor": "#2a3f5f",
           "arrowhead": 0,
           "arrowwidth": 1
          },
          "autotypenumbers": "strict",
          "coloraxis": {
           "colorbar": {
            "outlinewidth": 0,
            "ticks": ""
           }
          },
          "colorscale": {
           "diverging": [
            [
             0,
             "#8e0152"
            ],
            [
             0.1,
             "#c51b7d"
            ],
            [
             0.2,
             "#de77ae"
            ],
            [
             0.3,
             "#f1b6da"
            ],
            [
             0.4,
             "#fde0ef"
            ],
            [
             0.5,
             "#f7f7f7"
            ],
            [
             0.6,
             "#e6f5d0"
            ],
            [
             0.7,
             "#b8e186"
            ],
            [
             0.8,
             "#7fbc41"
            ],
            [
             0.9,
             "#4d9221"
            ],
            [
             1,
             "#276419"
            ]
           ],
           "sequential": [
            [
             0,
             "#0d0887"
            ],
            [
             0.1111111111111111,
             "#46039f"
            ],
            [
             0.2222222222222222,
             "#7201a8"
            ],
            [
             0.3333333333333333,
             "#9c179e"
            ],
            [
             0.4444444444444444,
             "#bd3786"
            ],
            [
             0.5555555555555556,
             "#d8576b"
            ],
            [
             0.6666666666666666,
             "#ed7953"
            ],
            [
             0.7777777777777778,
             "#fb9f3a"
            ],
            [
             0.8888888888888888,
             "#fdca26"
            ],
            [
             1,
             "#f0f921"
            ]
           ],
           "sequentialminus": [
            [
             0,
             "#0d0887"
            ],
            [
             0.1111111111111111,
             "#46039f"
            ],
            [
             0.2222222222222222,
             "#7201a8"
            ],
            [
             0.3333333333333333,
             "#9c179e"
            ],
            [
             0.4444444444444444,
             "#bd3786"
            ],
            [
             0.5555555555555556,
             "#d8576b"
            ],
            [
             0.6666666666666666,
             "#ed7953"
            ],
            [
             0.7777777777777778,
             "#fb9f3a"
            ],
            [
             0.8888888888888888,
             "#fdca26"
            ],
            [
             1,
             "#f0f921"
            ]
           ]
          },
          "colorway": [
           "#636efa",
           "#EF553B",
           "#00cc96",
           "#ab63fa",
           "#FFA15A",
           "#19d3f3",
           "#FF6692",
           "#B6E880",
           "#FF97FF",
           "#FECB52"
          ],
          "font": {
           "color": "#2a3f5f"
          },
          "geo": {
           "bgcolor": "white",
           "lakecolor": "white",
           "landcolor": "#E5ECF6",
           "showlakes": true,
           "showland": true,
           "subunitcolor": "white"
          },
          "hoverlabel": {
           "align": "left"
          },
          "hovermode": "closest",
          "mapbox": {
           "style": "light"
          },
          "paper_bgcolor": "white",
          "plot_bgcolor": "#E5ECF6",
          "polar": {
           "angularaxis": {
            "gridcolor": "white",
            "linecolor": "white",
            "ticks": ""
           },
           "bgcolor": "#E5ECF6",
           "radialaxis": {
            "gridcolor": "white",
            "linecolor": "white",
            "ticks": ""
           }
          },
          "scene": {
           "xaxis": {
            "backgroundcolor": "#E5ECF6",
            "gridcolor": "white",
            "gridwidth": 2,
            "linecolor": "white",
            "showbackground": true,
            "ticks": "",
            "zerolinecolor": "white"
           },
           "yaxis": {
            "backgroundcolor": "#E5ECF6",
            "gridcolor": "white",
            "gridwidth": 2,
            "linecolor": "white",
            "showbackground": true,
            "ticks": "",
            "zerolinecolor": "white"
           },
           "zaxis": {
            "backgroundcolor": "#E5ECF6",
            "gridcolor": "white",
            "gridwidth": 2,
            "linecolor": "white",
            "showbackground": true,
            "ticks": "",
            "zerolinecolor": "white"
           }
          },
          "shapedefaults": {
           "line": {
            "color": "#2a3f5f"
           }
          },
          "ternary": {
           "aaxis": {
            "gridcolor": "white",
            "linecolor": "white",
            "ticks": ""
           },
           "baxis": {
            "gridcolor": "white",
            "linecolor": "white",
            "ticks": ""
           },
           "bgcolor": "#E5ECF6",
           "caxis": {
            "gridcolor": "white",
            "linecolor": "white",
            "ticks": ""
           }
          },
          "title": {
           "x": 0.05
          },
          "xaxis": {
           "automargin": true,
           "gridcolor": "white",
           "linecolor": "white",
           "ticks": "",
           "title": {
            "standoff": 15
           },
           "zerolinecolor": "white",
           "zerolinewidth": 2
          },
          "yaxis": {
           "automargin": true,
           "gridcolor": "white",
           "linecolor": "white",
           "ticks": "",
           "title": {
            "standoff": 15
           },
           "zerolinecolor": "white",
           "zerolinewidth": 2
          }
         }
        },
        "title": {
         "text": "Top 20 des produits qui réalisent les meilleurs CA"
        },
        "width": 800,
        "xaxis": {
         "tickfont": {
          "size": 9
         }
        },
        "yaxis": {
         "title": {
          "text": "Chiffre d'affaire par produit"
         }
        }
       }
      }
     },
     "metadata": {},
     "output_type": "display_data"
    }
   ],
   "source": [
    "fig4 = go.Figure(data=go.Bar(\n",
    "    x=sorted_online_product_20['post_name'],\n",
    "    y=sorted_online_product_20['ca_par_article'],\n",
    "    marker=dict(\n",
    "        color=sorted_online_product_20['product_repres_color'],  # Color based on the 'product_type' column     \n",
    "   )),\n",
    "                 layout_title_text=\"Top 20 des produits qui réalisent les meilleurs CA\")\n",
    "\n",
    "fig4.update_layout(\n",
    "        width=800,\n",
    "        height=600)\n",
    "fig4.update_layout(\n",
    "xaxis = dict(\n",
    "tickfont = dict(size=9)))\n",
    "fig4.update_yaxes(title_text=\"Chiffre d'affaire par produit\")\n",
    "fig4.update_layout()\n",
    "\n"
   ]
  },
  {
   "cell_type": "code",
   "execution_count": 1074,
   "id": "d7e5e87b",
   "metadata": {},
   "outputs": [],
   "source": [
    "#############################\n",
    "# Calculer le 20 / 80 en CA #\n",
    "#############################\n",
    "\n",
    "#Créer une colonne calculant la part du CA de la ligne dans le dataset\n",
    "sorted_online_product[\"part_CA\"] = sorted_online_product[\"ca_par_article\"] / chiffre_affaire"
   ]
  },
  {
   "cell_type": "code",
   "execution_count": 1075,
   "id": "1cf4f306",
   "metadata": {},
   "outputs": [],
   "source": [
    "#Créer une colonne réalisant la somme cumulative de la colonne précedemment créée\n",
    "sorted_online_product[\"somme_cumul\"] = sorted_online_product[\"part_CA\"].cumsum()\n"
   ]
  },
  {
   "cell_type": "code",
   "execution_count": 1076,
   "id": "9001fdcb",
   "metadata": {},
   "outputs": [
    {
     "name": "stdout",
     "output_type": "stream",
     "text": [
      "les articles dont les ventes représentent 80% du CA sont au nombre de 420\n"
     ]
    }
   ],
   "source": [
    "#Grâce au deux colonnes créées précedemment, calculer le nombre d'articles représentant 80% du CA\n",
    "len(sorted_online_product.loc[sorted_online_product[\"somme_cumul\"]<=0.8])\n",
    "print(\"les articles dont les ventes représentent 80% du CA sont au nombre de\", len(sorted_online_product.loc[sorted_online_product[\"somme_cumul\"]<=0.8]))\n"
   ]
  },
  {
   "cell_type": "code",
   "execution_count": 1077,
   "id": "e50b3852",
   "metadata": {},
   "outputs": [
    {
     "data": {
      "text/plain": [
       "0.59"
      ]
     },
     "execution_count": 1077,
     "metadata": {},
     "output_type": "execute_result"
    }
   ],
   "source": [
    "#Afficher la proportion que représente ce groupe d'articles dans le catalogue entier du site web\n",
    "round(len(sorted_online_product.loc[sorted_online_product[\"somme_cumul\"]<=0.8])/len(online_product), 2)"
   ]
  },
  {
   "cell_type": "markdown",
   "id": "8de7af87",
   "metadata": {},
   "source": [
    "<div style=\"border: 1px solid RGB(51,165,182);\" >\n",
    "<h3 style=\"margin: auto; padding: 20px; color: RGB(51,165,182); \">Etape 5.2 - Analyse des ventes en Quantités</h3>\n",
    "</div>"
   ]
  },
  {
   "cell_type": "code",
   "execution_count": null,
   "id": "ab222e08",
   "metadata": {},
   "outputs": [],
   "source": [
    "#####################################\n",
    "# Palmares des articles en quantité #\n",
    "#####################################\n",
    "online_product.info()\n"
   ]
  },
  {
   "cell_type": "code",
   "execution_count": 1078,
   "id": "9fcd9360",
   "metadata": {},
   "outputs": [],
   "source": [
    "#Effectuer le tri dans l'ordre décroissant de quantités vendues du dataset df_merge\n",
    "sorted_product_quantity = online_product.sort_values(by=\"total_sales\", ascending=False)\n"
   ]
  },
  {
   "cell_type": "code",
   "execution_count": 1079,
   "id": "819dbd89",
   "metadata": {},
   "outputs": [],
   "source": [
    "#Réinitialiser l'index du dataset par un reset_index\n",
    "sorted_product_quantity = sorted_product_quantity.reset_index()\n"
   ]
  },
  {
   "cell_type": "code",
   "execution_count": 1080,
   "id": "81df89c8",
   "metadata": {},
   "outputs": [
    {
     "data": {
      "text/html": [
       "<div>\n",
       "<style scoped>\n",
       "    .dataframe tbody tr th:only-of-type {\n",
       "        vertical-align: middle;\n",
       "    }\n",
       "\n",
       "    .dataframe tbody tr th {\n",
       "        vertical-align: top;\n",
       "    }\n",
       "\n",
       "    .dataframe thead th {\n",
       "        text-align: right;\n",
       "    }\n",
       "</style>\n",
       "<table border=\"1\" class=\"dataframe\">\n",
       "  <thead>\n",
       "    <tr style=\"text-align: right;\">\n",
       "      <th></th>\n",
       "      <th>index</th>\n",
       "      <th>sku</th>\n",
       "      <th>total_sales</th>\n",
       "      <th>tax_status</th>\n",
       "      <th>post_date_gmt</th>\n",
       "      <th>product_type</th>\n",
       "      <th>post_name</th>\n",
       "      <th>post_modified_gmt</th>\n",
       "      <th>post_type</th>\n",
       "      <th>product_id</th>\n",
       "      <th>onsale_web</th>\n",
       "      <th>price</th>\n",
       "      <th>stock_quantity</th>\n",
       "      <th>stock_status</th>\n",
       "      <th>purchase_price</th>\n",
       "      <th>prix_deviation</th>\n",
       "      <th>id_web</th>\n",
       "      <th>product_repres_color</th>\n",
       "      <th>ca_par_article</th>\n",
       "    </tr>\n",
       "  </thead>\n",
       "  <tbody>\n",
       "    <tr>\n",
       "      <th>0</th>\n",
       "      <td>284</td>\n",
       "      <td>14950</td>\n",
       "      <td>122.0</td>\n",
       "      <td>NaN</td>\n",
       "      <td>2018-04-18 09:53:51</td>\n",
       "      <td>Vin</td>\n",
       "      <td>francois-baur-pinot-noir-schlittweg-2017</td>\n",
       "      <td>2020-05-06 09:35:01</td>\n",
       "      <td>attachment</td>\n",
       "      <td>4726</td>\n",
       "      <td>1</td>\n",
       "      <td>12.7</td>\n",
       "      <td>0</td>\n",
       "      <td>outofstock</td>\n",
       "      <td>6.82</td>\n",
       "      <td>-0.736</td>\n",
       "      <td>14950</td>\n",
       "      <td>peachpuff</td>\n",
       "      <td>1549.4</td>\n",
       "    </tr>\n",
       "    <tr>\n",
       "      <th>1</th>\n",
       "      <td>665</td>\n",
       "      <td>1366</td>\n",
       "      <td>116.0</td>\n",
       "      <td>NaN</td>\n",
       "      <td>2018-02-13 12:45:31</td>\n",
       "      <td>Champagne</td>\n",
       "      <td>champagne-mailly-grand-cru-intemporelle-2010</td>\n",
       "      <td>2020-08-26 16:05:02</td>\n",
       "      <td>attachment</td>\n",
       "      <td>4150</td>\n",
       "      <td>1</td>\n",
       "      <td>59.0</td>\n",
       "      <td>123</td>\n",
       "      <td>instock</td>\n",
       "      <td>35.45</td>\n",
       "      <td>1.005</td>\n",
       "      <td>1366</td>\n",
       "      <td>burlywood</td>\n",
       "      <td>6844.0</td>\n",
       "    </tr>\n",
       "    <tr>\n",
       "      <th>2</th>\n",
       "      <td>406</td>\n",
       "      <td>14561</td>\n",
       "      <td>111.0</td>\n",
       "      <td>NaN</td>\n",
       "      <td>2018-09-01 13:34:55</td>\n",
       "      <td>Vin</td>\n",
       "      <td>argentine-mendoza-alamos-torrontes-2017</td>\n",
       "      <td>2020-07-11 12:00:03</td>\n",
       "      <td>attachment</td>\n",
       "      <td>5379</td>\n",
       "      <td>1</td>\n",
       "      <td>11.1</td>\n",
       "      <td>33</td>\n",
       "      <td>instock</td>\n",
       "      <td>5.68</td>\n",
       "      <td>-0.797</td>\n",
       "      <td>14561</td>\n",
       "      <td>peachpuff</td>\n",
       "      <td>1232.1</td>\n",
       "    </tr>\n",
       "    <tr>\n",
       "      <th>3</th>\n",
       "      <td>328</td>\n",
       "      <td>16148</td>\n",
       "      <td>36.0</td>\n",
       "      <td>taxable</td>\n",
       "      <td>2018-05-03 11:20:05</td>\n",
       "      <td>Vin</td>\n",
       "      <td>chateau-de-la-selve-igp-coteaux-de-lardeche-ma...</td>\n",
       "      <td>2020-08-27 07:30:15</td>\n",
       "      <td>product</td>\n",
       "      <td>4867</td>\n",
       "      <td>1</td>\n",
       "      <td>9.9</td>\n",
       "      <td>121</td>\n",
       "      <td>instock</td>\n",
       "      <td>4.86</td>\n",
       "      <td>-0.842</td>\n",
       "      <td>16148</td>\n",
       "      <td>peachpuff</td>\n",
       "      <td>356.4</td>\n",
       "    </tr>\n",
       "    <tr>\n",
       "      <th>4</th>\n",
       "      <td>114</td>\n",
       "      <td>15415</td>\n",
       "      <td>27.0</td>\n",
       "      <td>taxable</td>\n",
       "      <td>2018-02-15 13:33:42</td>\n",
       "      <td>Vin</td>\n",
       "      <td>mas-laval-igp-pays-herault-pampres-blanc-2018</td>\n",
       "      <td>2020-07-11 14:45:03</td>\n",
       "      <td>product</td>\n",
       "      <td>4203</td>\n",
       "      <td>1</td>\n",
       "      <td>9.9</td>\n",
       "      <td>74</td>\n",
       "      <td>instock</td>\n",
       "      <td>5.01</td>\n",
       "      <td>-0.842</td>\n",
       "      <td>15415</td>\n",
       "      <td>peachpuff</td>\n",
       "      <td>267.3</td>\n",
       "    </tr>\n",
       "    <tr>\n",
       "      <th>5</th>\n",
       "      <td>167</td>\n",
       "      <td>14864</td>\n",
       "      <td>24.0</td>\n",
       "      <td>taxable</td>\n",
       "      <td>2018-02-27 12:33:54</td>\n",
       "      <td>Vin</td>\n",
       "      <td>i-fabbri-chianti-classico-lamole-2017</td>\n",
       "      <td>2020-08-22 12:35:02</td>\n",
       "      <td>product</td>\n",
       "      <td>4275</td>\n",
       "      <td>1</td>\n",
       "      <td>14.9</td>\n",
       "      <td>62</td>\n",
       "      <td>instock</td>\n",
       "      <td>7.78</td>\n",
       "      <td>-0.654</td>\n",
       "      <td>14864</td>\n",
       "      <td>peachpuff</td>\n",
       "      <td>357.6</td>\n",
       "    </tr>\n",
       "    <tr>\n",
       "      <th>6</th>\n",
       "      <td>228</td>\n",
       "      <td>16525</td>\n",
       "      <td>22.0</td>\n",
       "      <td>taxable</td>\n",
       "      <td>2018-04-17 07:28:58</td>\n",
       "      <td>Vin</td>\n",
       "      <td>bernard-baudry-chinon-rouge-croix-boissee-2017</td>\n",
       "      <td>2020-07-31 07:31:39</td>\n",
       "      <td>product</td>\n",
       "      <td>4647</td>\n",
       "      <td>1</td>\n",
       "      <td>28.5</td>\n",
       "      <td>45</td>\n",
       "      <td>instock</td>\n",
       "      <td>14.14</td>\n",
       "      <td>-0.142</td>\n",
       "      <td>16525</td>\n",
       "      <td>peachpuff</td>\n",
       "      <td>627.0</td>\n",
       "    </tr>\n",
       "    <tr>\n",
       "      <th>7</th>\n",
       "      <td>401</td>\n",
       "      <td>15346</td>\n",
       "      <td>22.0</td>\n",
       "      <td>NaN</td>\n",
       "      <td>2018-07-31 09:49:05</td>\n",
       "      <td>Vin</td>\n",
       "      <td>albert-mann-pinot-noir-grand-h-2017</td>\n",
       "      <td>2020-02-13 16:00:01</td>\n",
       "      <td>attachment</td>\n",
       "      <td>5067</td>\n",
       "      <td>1</td>\n",
       "      <td>59.9</td>\n",
       "      <td>3</td>\n",
       "      <td>instock</td>\n",
       "      <td>30.95</td>\n",
       "      <td>1.039</td>\n",
       "      <td>15346</td>\n",
       "      <td>peachpuff</td>\n",
       "      <td>1317.8</td>\n",
       "    </tr>\n",
       "    <tr>\n",
       "      <th>8</th>\n",
       "      <td>589</td>\n",
       "      <td>14570</td>\n",
       "      <td>20.0</td>\n",
       "      <td>taxable</td>\n",
       "      <td>2019-06-28 16:01:06</td>\n",
       "      <td>Vin</td>\n",
       "      <td>moulin-de-gassac-igp-pays-dherault-guilhem-bla...</td>\n",
       "      <td>2020-08-26 13:55:02</td>\n",
       "      <td>product</td>\n",
       "      <td>6129</td>\n",
       "      <td>1</td>\n",
       "      <td>5.2</td>\n",
       "      <td>68</td>\n",
       "      <td>instock</td>\n",
       "      <td>2.74</td>\n",
       "      <td>-1.019</td>\n",
       "      <td>14570</td>\n",
       "      <td>peachpuff</td>\n",
       "      <td>104.0</td>\n",
       "    </tr>\n",
       "    <tr>\n",
       "      <th>9</th>\n",
       "      <td>535</td>\n",
       "      <td>15325</td>\n",
       "      <td>20.0</td>\n",
       "      <td>NaN</td>\n",
       "      <td>2019-03-27 16:59:49</td>\n",
       "      <td>Vin</td>\n",
       "      <td>agnes-levet-amethyste-2017</td>\n",
       "      <td>2020-05-21 12:00:02</td>\n",
       "      <td>attachment</td>\n",
       "      <td>5826</td>\n",
       "      <td>1</td>\n",
       "      <td>41.2</td>\n",
       "      <td>34</td>\n",
       "      <td>instock</td>\n",
       "      <td>21.71</td>\n",
       "      <td>0.336</td>\n",
       "      <td>15325</td>\n",
       "      <td>peachpuff</td>\n",
       "      <td>824.0</td>\n",
       "    </tr>\n",
       "    <tr>\n",
       "      <th>10</th>\n",
       "      <td>127</td>\n",
       "      <td>15758</td>\n",
       "      <td>18.0</td>\n",
       "      <td>NaN</td>\n",
       "      <td>2018-02-16 09:54:27</td>\n",
       "      <td>Vin</td>\n",
       "      <td>frissant-chenin-pierres-2018</td>\n",
       "      <td>2020-08-27 09:45:02</td>\n",
       "      <td>attachment</td>\n",
       "      <td>4220</td>\n",
       "      <td>1</td>\n",
       "      <td>11.6</td>\n",
       "      <td>48</td>\n",
       "      <td>instock</td>\n",
       "      <td>5.75</td>\n",
       "      <td>-0.778</td>\n",
       "      <td>15758</td>\n",
       "      <td>peachpuff</td>\n",
       "      <td>208.8</td>\n",
       "    </tr>\n",
       "    <tr>\n",
       "      <th>11</th>\n",
       "      <td>617</td>\n",
       "      <td>15705</td>\n",
       "      <td>17.0</td>\n",
       "      <td>taxable</td>\n",
       "      <td>2020-01-03 15:39:53</td>\n",
       "      <td>Vin</td>\n",
       "      <td>decelle-villa-chorey-beaune-2016</td>\n",
       "      <td>2020-07-27 09:55:02</td>\n",
       "      <td>product</td>\n",
       "      <td>6569</td>\n",
       "      <td>1</td>\n",
       "      <td>29.0</td>\n",
       "      <td>58</td>\n",
       "      <td>instock</td>\n",
       "      <td>15.28</td>\n",
       "      <td>-0.123</td>\n",
       "      <td>15705</td>\n",
       "      <td>peachpuff</td>\n",
       "      <td>493.0</td>\n",
       "    </tr>\n",
       "    <tr>\n",
       "      <th>12</th>\n",
       "      <td>523</td>\n",
       "      <td>13572</td>\n",
       "      <td>17.0</td>\n",
       "      <td>NaN</td>\n",
       "      <td>2019-03-19 10:33:39</td>\n",
       "      <td>Vin</td>\n",
       "      <td>tour-haut-caussan-medoc-2015</td>\n",
       "      <td>2020-08-26 14:55:02</td>\n",
       "      <td>attachment</td>\n",
       "      <td>5803</td>\n",
       "      <td>1</td>\n",
       "      <td>17.1</td>\n",
       "      <td>47</td>\n",
       "      <td>instock</td>\n",
       "      <td>9.19</td>\n",
       "      <td>-0.571</td>\n",
       "      <td>13572</td>\n",
       "      <td>peachpuff</td>\n",
       "      <td>290.7</td>\n",
       "    </tr>\n",
       "    <tr>\n",
       "      <th>13</th>\n",
       "      <td>514</td>\n",
       "      <td>15561</td>\n",
       "      <td>17.0</td>\n",
       "      <td>taxable</td>\n",
       "      <td>2019-03-15 09:20:59</td>\n",
       "      <td>Vin</td>\n",
       "      <td>maurel-pays-d-oc-merot-2018</td>\n",
       "      <td>2020-08-14 08:55:02</td>\n",
       "      <td>product</td>\n",
       "      <td>5778</td>\n",
       "      <td>1</td>\n",
       "      <td>5.8</td>\n",
       "      <td>44</td>\n",
       "      <td>instock</td>\n",
       "      <td>3.09</td>\n",
       "      <td>-0.996</td>\n",
       "      <td>15561</td>\n",
       "      <td>peachpuff</td>\n",
       "      <td>98.6</td>\n",
       "    </tr>\n",
       "    <tr>\n",
       "      <th>14</th>\n",
       "      <td>513</td>\n",
       "      <td>14338</td>\n",
       "      <td>16.0</td>\n",
       "      <td>taxable</td>\n",
       "      <td>2019-03-15 09:13:30</td>\n",
       "      <td>Vin</td>\n",
       "      <td>maurel-pays-d-oc-cabernet-sauvignon-2017</td>\n",
       "      <td>2020-03-11 08:30:06</td>\n",
       "      <td>product</td>\n",
       "      <td>5777</td>\n",
       "      <td>1</td>\n",
       "      <td>5.7</td>\n",
       "      <td>51</td>\n",
       "      <td>instock</td>\n",
       "      <td>3.03</td>\n",
       "      <td>-1.000</td>\n",
       "      <td>14338</td>\n",
       "      <td>peachpuff</td>\n",
       "      <td>91.2</td>\n",
       "    </tr>\n",
       "    <tr>\n",
       "      <th>15</th>\n",
       "      <td>22</td>\n",
       "      <td>16275</td>\n",
       "      <td>16.0</td>\n",
       "      <td>NaN</td>\n",
       "      <td>2018-02-12 11:12:28</td>\n",
       "      <td>Vin</td>\n",
       "      <td>mourgues-du-gres-costieres-de-nimes-galets-ros...</td>\n",
       "      <td>2020-08-27 07:30:16</td>\n",
       "      <td>attachment</td>\n",
       "      <td>4059</td>\n",
       "      <td>1</td>\n",
       "      <td>8.7</td>\n",
       "      <td>34</td>\n",
       "      <td>instock</td>\n",
       "      <td>4.32</td>\n",
       "      <td>-0.887</td>\n",
       "      <td>16275</td>\n",
       "      <td>peachpuff</td>\n",
       "      <td>139.2</td>\n",
       "    </tr>\n",
       "    <tr>\n",
       "      <th>16</th>\n",
       "      <td>329</td>\n",
       "      <td>16149</td>\n",
       "      <td>16.0</td>\n",
       "      <td>NaN</td>\n",
       "      <td>2018-05-03 11:45:43</td>\n",
       "      <td>Vin</td>\n",
       "      <td>triennes-igp-mediterranee-rose-2019</td>\n",
       "      <td>2020-08-27 15:25:03</td>\n",
       "      <td>attachment</td>\n",
       "      <td>4870</td>\n",
       "      <td>1</td>\n",
       "      <td>9.3</td>\n",
       "      <td>0</td>\n",
       "      <td>outofstock</td>\n",
       "      <td>4.81</td>\n",
       "      <td>-0.864</td>\n",
       "      <td>16149</td>\n",
       "      <td>peachpuff</td>\n",
       "      <td>148.8</td>\n",
       "    </tr>\n",
       "    <tr>\n",
       "      <th>17</th>\n",
       "      <td>59</td>\n",
       "      <td>16504</td>\n",
       "      <td>16.0</td>\n",
       "      <td>taxable</td>\n",
       "      <td>2018-02-13 09:31:33</td>\n",
       "      <td>Vin</td>\n",
       "      <td>emile-boeckel-sylvaner-vieilles-vignes-2019</td>\n",
       "      <td>2020-08-27 07:28:39</td>\n",
       "      <td>product</td>\n",
       "      <td>4105</td>\n",
       "      <td>1</td>\n",
       "      <td>6.8</td>\n",
       "      <td>45</td>\n",
       "      <td>instock</td>\n",
       "      <td>3.51</td>\n",
       "      <td>-0.958</td>\n",
       "      <td>16504</td>\n",
       "      <td>peachpuff</td>\n",
       "      <td>108.8</td>\n",
       "    </tr>\n",
       "    <tr>\n",
       "      <th>18</th>\n",
       "      <td>326</td>\n",
       "      <td>16255</td>\n",
       "      <td>16.0</td>\n",
       "      <td>taxable</td>\n",
       "      <td>2018-05-03 10:58:34</td>\n",
       "      <td>Vin</td>\n",
       "      <td>chateau-ollieux-romanis-corbieres-rose-classiq...</td>\n",
       "      <td>2020-07-20 15:47:47</td>\n",
       "      <td>product</td>\n",
       "      <td>4863</td>\n",
       "      <td>1</td>\n",
       "      <td>8.2</td>\n",
       "      <td>54</td>\n",
       "      <td>instock</td>\n",
       "      <td>4.11</td>\n",
       "      <td>-0.906</td>\n",
       "      <td>16255</td>\n",
       "      <td>peachpuff</td>\n",
       "      <td>131.2</td>\n",
       "    </tr>\n",
       "    <tr>\n",
       "      <th>19</th>\n",
       "      <td>102</td>\n",
       "      <td>16265</td>\n",
       "      <td>16.0</td>\n",
       "      <td>taxable</td>\n",
       "      <td>2018-02-15 09:18:39</td>\n",
       "      <td>Vin</td>\n",
       "      <td>liquiere-languedoc-amandiers-blancs-2019</td>\n",
       "      <td>2020-08-25 16:25:03</td>\n",
       "      <td>product</td>\n",
       "      <td>4188</td>\n",
       "      <td>1</td>\n",
       "      <td>9.5</td>\n",
       "      <td>51</td>\n",
       "      <td>instock</td>\n",
       "      <td>5.06</td>\n",
       "      <td>-0.857</td>\n",
       "      <td>16265</td>\n",
       "      <td>peachpuff</td>\n",
       "      <td>152.0</td>\n",
       "    </tr>\n",
       "  </tbody>\n",
       "</table>\n",
       "</div>"
      ],
      "text/plain": [
       "    index    sku  total_sales tax_status       post_date_gmt product_type  \\\n",
       "0     284  14950        122.0        NaN 2018-04-18 09:53:51          Vin   \n",
       "1     665   1366        116.0        NaN 2018-02-13 12:45:31    Champagne   \n",
       "2     406  14561        111.0        NaN 2018-09-01 13:34:55          Vin   \n",
       "3     328  16148         36.0    taxable 2018-05-03 11:20:05          Vin   \n",
       "4     114  15415         27.0    taxable 2018-02-15 13:33:42          Vin   \n",
       "5     167  14864         24.0    taxable 2018-02-27 12:33:54          Vin   \n",
       "6     228  16525         22.0    taxable 2018-04-17 07:28:58          Vin   \n",
       "7     401  15346         22.0        NaN 2018-07-31 09:49:05          Vin   \n",
       "8     589  14570         20.0    taxable 2019-06-28 16:01:06          Vin   \n",
       "9     535  15325         20.0        NaN 2019-03-27 16:59:49          Vin   \n",
       "10    127  15758         18.0        NaN 2018-02-16 09:54:27          Vin   \n",
       "11    617  15705         17.0    taxable 2020-01-03 15:39:53          Vin   \n",
       "12    523  13572         17.0        NaN 2019-03-19 10:33:39          Vin   \n",
       "13    514  15561         17.0    taxable 2019-03-15 09:20:59          Vin   \n",
       "14    513  14338         16.0    taxable 2019-03-15 09:13:30          Vin   \n",
       "15     22  16275         16.0        NaN 2018-02-12 11:12:28          Vin   \n",
       "16    329  16149         16.0        NaN 2018-05-03 11:45:43          Vin   \n",
       "17     59  16504         16.0    taxable 2018-02-13 09:31:33          Vin   \n",
       "18    326  16255         16.0    taxable 2018-05-03 10:58:34          Vin   \n",
       "19    102  16265         16.0    taxable 2018-02-15 09:18:39          Vin   \n",
       "\n",
       "                                            post_name   post_modified_gmt  \\\n",
       "0            francois-baur-pinot-noir-schlittweg-2017 2020-05-06 09:35:01   \n",
       "1        champagne-mailly-grand-cru-intemporelle-2010 2020-08-26 16:05:02   \n",
       "2             argentine-mendoza-alamos-torrontes-2017 2020-07-11 12:00:03   \n",
       "3   chateau-de-la-selve-igp-coteaux-de-lardeche-ma... 2020-08-27 07:30:15   \n",
       "4       mas-laval-igp-pays-herault-pampres-blanc-2018 2020-07-11 14:45:03   \n",
       "5               i-fabbri-chianti-classico-lamole-2017 2020-08-22 12:35:02   \n",
       "6      bernard-baudry-chinon-rouge-croix-boissee-2017 2020-07-31 07:31:39   \n",
       "7                 albert-mann-pinot-noir-grand-h-2017 2020-02-13 16:00:01   \n",
       "8   moulin-de-gassac-igp-pays-dherault-guilhem-bla... 2020-08-26 13:55:02   \n",
       "9                          agnes-levet-amethyste-2017 2020-05-21 12:00:02   \n",
       "10                       frissant-chenin-pierres-2018 2020-08-27 09:45:02   \n",
       "11                   decelle-villa-chorey-beaune-2016 2020-07-27 09:55:02   \n",
       "12                       tour-haut-caussan-medoc-2015 2020-08-26 14:55:02   \n",
       "13                        maurel-pays-d-oc-merot-2018 2020-08-14 08:55:02   \n",
       "14           maurel-pays-d-oc-cabernet-sauvignon-2017 2020-03-11 08:30:06   \n",
       "15  mourgues-du-gres-costieres-de-nimes-galets-ros... 2020-08-27 07:30:16   \n",
       "16                triennes-igp-mediterranee-rose-2019 2020-08-27 15:25:03   \n",
       "17        emile-boeckel-sylvaner-vieilles-vignes-2019 2020-08-27 07:28:39   \n",
       "18  chateau-ollieux-romanis-corbieres-rose-classiq... 2020-07-20 15:47:47   \n",
       "19           liquiere-languedoc-amandiers-blancs-2019 2020-08-25 16:25:03   \n",
       "\n",
       "     post_type  product_id  onsale_web  price  stock_quantity stock_status  \\\n",
       "0   attachment        4726           1   12.7               0   outofstock   \n",
       "1   attachment        4150           1   59.0             123      instock   \n",
       "2   attachment        5379           1   11.1              33      instock   \n",
       "3      product        4867           1    9.9             121      instock   \n",
       "4      product        4203           1    9.9              74      instock   \n",
       "5      product        4275           1   14.9              62      instock   \n",
       "6      product        4647           1   28.5              45      instock   \n",
       "7   attachment        5067           1   59.9               3      instock   \n",
       "8      product        6129           1    5.2              68      instock   \n",
       "9   attachment        5826           1   41.2              34      instock   \n",
       "10  attachment        4220           1   11.6              48      instock   \n",
       "11     product        6569           1   29.0              58      instock   \n",
       "12  attachment        5803           1   17.1              47      instock   \n",
       "13     product        5778           1    5.8              44      instock   \n",
       "14     product        5777           1    5.7              51      instock   \n",
       "15  attachment        4059           1    8.7              34      instock   \n",
       "16  attachment        4870           1    9.3               0   outofstock   \n",
       "17     product        4105           1    6.8              45      instock   \n",
       "18     product        4863           1    8.2              54      instock   \n",
       "19     product        4188           1    9.5              51      instock   \n",
       "\n",
       "    purchase_price  prix_deviation id_web product_repres_color  ca_par_article  \n",
       "0             6.82          -0.736  14950            peachpuff          1549.4  \n",
       "1            35.45           1.005   1366            burlywood          6844.0  \n",
       "2             5.68          -0.797  14561            peachpuff          1232.1  \n",
       "3             4.86          -0.842  16148            peachpuff           356.4  \n",
       "4             5.01          -0.842  15415            peachpuff           267.3  \n",
       "5             7.78          -0.654  14864            peachpuff           357.6  \n",
       "6            14.14          -0.142  16525            peachpuff           627.0  \n",
       "7            30.95           1.039  15346            peachpuff          1317.8  \n",
       "8             2.74          -1.019  14570            peachpuff           104.0  \n",
       "9            21.71           0.336  15325            peachpuff           824.0  \n",
       "10            5.75          -0.778  15758            peachpuff           208.8  \n",
       "11           15.28          -0.123  15705            peachpuff           493.0  \n",
       "12            9.19          -0.571  13572            peachpuff           290.7  \n",
       "13            3.09          -0.996  15561            peachpuff            98.6  \n",
       "14            3.03          -1.000  14338            peachpuff            91.2  \n",
       "15            4.32          -0.887  16275            peachpuff           139.2  \n",
       "16            4.81          -0.864  16149            peachpuff           148.8  \n",
       "17            3.51          -0.958  16504            peachpuff           108.8  \n",
       "18            4.11          -0.906  16255            peachpuff           131.2  \n",
       "19            5.06          -0.857  16265            peachpuff           152.0  "
      ]
     },
     "execution_count": 1080,
     "metadata": {},
     "output_type": "execute_result"
    }
   ],
   "source": [
    "#Afficher les 20 premier articles en quantité\n",
    "sorted_product_quantity.head(20)\n"
   ]
  },
  {
   "cell_type": "code",
   "execution_count": 1081,
   "id": "65b6b226",
   "metadata": {},
   "outputs": [],
   "source": [
    "sorted_product_quantity_20 = sorted_product_quantity.head(20)"
   ]
  },
  {
   "cell_type": "code",
   "execution_count": 1082,
   "id": "ea09e2ac",
   "metadata": {},
   "outputs": [
    {
     "data": {
      "application/vnd.plotly.v1+json": {
       "config": {
        "plotlyServerURL": "https://plot.ly"
       },
       "data": [
        {
         "marker": {
          "color": [
           "peachpuff",
           "burlywood",
           "peachpuff",
           "peachpuff",
           "peachpuff",
           "peachpuff",
           "peachpuff",
           "peachpuff",
           "peachpuff",
           "peachpuff",
           "peachpuff",
           "peachpuff",
           "peachpuff",
           "peachpuff",
           "peachpuff",
           "peachpuff",
           "peachpuff",
           "peachpuff",
           "peachpuff",
           "peachpuff"
          ]
         },
         "type": "bar",
         "x": [
          "francois-baur-pinot-noir-schlittweg-2017",
          "champagne-mailly-grand-cru-intemporelle-2010",
          "argentine-mendoza-alamos-torrontes-2017",
          "chateau-de-la-selve-igp-coteaux-de-lardeche-maguelonne-rose-2019",
          "mas-laval-igp-pays-herault-pampres-blanc-2018",
          "i-fabbri-chianti-classico-lamole-2017",
          "bernard-baudry-chinon-rouge-croix-boissee-2017",
          "albert-mann-pinot-noir-grand-h-2017",
          "moulin-de-gassac-igp-pays-dherault-guilhem-blanc-2017",
          "agnes-levet-amethyste-2017",
          "frissant-chenin-pierres-2018",
          "decelle-villa-chorey-beaune-2016",
          "tour-haut-caussan-medoc-2015",
          "maurel-pays-d-oc-merot-2018",
          "maurel-pays-d-oc-cabernet-sauvignon-2017",
          "mourgues-du-gres-costieres-de-nimes-galets-roses-2019",
          "triennes-igp-mediterranee-rose-2019",
          "emile-boeckel-sylvaner-vieilles-vignes-2019",
          "chateau-ollieux-romanis-corbieres-rose-classique-2019",
          "liquiere-languedoc-amandiers-blancs-2019"
         ],
         "y": [
          122,
          116,
          111,
          36,
          27,
          24,
          22,
          22,
          20,
          20,
          18,
          17,
          17,
          17,
          16,
          16,
          16,
          16,
          16,
          16
         ]
        }
       ],
       "layout": {
        "height": 600,
        "template": {
         "data": {
          "bar": [
           {
            "error_x": {
             "color": "#2a3f5f"
            },
            "error_y": {
             "color": "#2a3f5f"
            },
            "marker": {
             "line": {
              "color": "#E5ECF6",
              "width": 0.5
             },
             "pattern": {
              "fillmode": "overlay",
              "size": 10,
              "solidity": 0.2
             }
            },
            "type": "bar"
           }
          ],
          "barpolar": [
           {
            "marker": {
             "line": {
              "color": "#E5ECF6",
              "width": 0.5
             },
             "pattern": {
              "fillmode": "overlay",
              "size": 10,
              "solidity": 0.2
             }
            },
            "type": "barpolar"
           }
          ],
          "carpet": [
           {
            "aaxis": {
             "endlinecolor": "#2a3f5f",
             "gridcolor": "white",
             "linecolor": "white",
             "minorgridcolor": "white",
             "startlinecolor": "#2a3f5f"
            },
            "baxis": {
             "endlinecolor": "#2a3f5f",
             "gridcolor": "white",
             "linecolor": "white",
             "minorgridcolor": "white",
             "startlinecolor": "#2a3f5f"
            },
            "type": "carpet"
           }
          ],
          "choropleth": [
           {
            "colorbar": {
             "outlinewidth": 0,
             "ticks": ""
            },
            "type": "choropleth"
           }
          ],
          "contour": [
           {
            "colorbar": {
             "outlinewidth": 0,
             "ticks": ""
            },
            "colorscale": [
             [
              0,
              "#0d0887"
             ],
             [
              0.1111111111111111,
              "#46039f"
             ],
             [
              0.2222222222222222,
              "#7201a8"
             ],
             [
              0.3333333333333333,
              "#9c179e"
             ],
             [
              0.4444444444444444,
              "#bd3786"
             ],
             [
              0.5555555555555556,
              "#d8576b"
             ],
             [
              0.6666666666666666,
              "#ed7953"
             ],
             [
              0.7777777777777778,
              "#fb9f3a"
             ],
             [
              0.8888888888888888,
              "#fdca26"
             ],
             [
              1,
              "#f0f921"
             ]
            ],
            "type": "contour"
           }
          ],
          "contourcarpet": [
           {
            "colorbar": {
             "outlinewidth": 0,
             "ticks": ""
            },
            "type": "contourcarpet"
           }
          ],
          "heatmap": [
           {
            "colorbar": {
             "outlinewidth": 0,
             "ticks": ""
            },
            "colorscale": [
             [
              0,
              "#0d0887"
             ],
             [
              0.1111111111111111,
              "#46039f"
             ],
             [
              0.2222222222222222,
              "#7201a8"
             ],
             [
              0.3333333333333333,
              "#9c179e"
             ],
             [
              0.4444444444444444,
              "#bd3786"
             ],
             [
              0.5555555555555556,
              "#d8576b"
             ],
             [
              0.6666666666666666,
              "#ed7953"
             ],
             [
              0.7777777777777778,
              "#fb9f3a"
             ],
             [
              0.8888888888888888,
              "#fdca26"
             ],
             [
              1,
              "#f0f921"
             ]
            ],
            "type": "heatmap"
           }
          ],
          "heatmapgl": [
           {
            "colorbar": {
             "outlinewidth": 0,
             "ticks": ""
            },
            "colorscale": [
             [
              0,
              "#0d0887"
             ],
             [
              0.1111111111111111,
              "#46039f"
             ],
             [
              0.2222222222222222,
              "#7201a8"
             ],
             [
              0.3333333333333333,
              "#9c179e"
             ],
             [
              0.4444444444444444,
              "#bd3786"
             ],
             [
              0.5555555555555556,
              "#d8576b"
             ],
             [
              0.6666666666666666,
              "#ed7953"
             ],
             [
              0.7777777777777778,
              "#fb9f3a"
             ],
             [
              0.8888888888888888,
              "#fdca26"
             ],
             [
              1,
              "#f0f921"
             ]
            ],
            "type": "heatmapgl"
           }
          ],
          "histogram": [
           {
            "marker": {
             "pattern": {
              "fillmode": "overlay",
              "size": 10,
              "solidity": 0.2
             }
            },
            "type": "histogram"
           }
          ],
          "histogram2d": [
           {
            "colorbar": {
             "outlinewidth": 0,
             "ticks": ""
            },
            "colorscale": [
             [
              0,
              "#0d0887"
             ],
             [
              0.1111111111111111,
              "#46039f"
             ],
             [
              0.2222222222222222,
              "#7201a8"
             ],
             [
              0.3333333333333333,
              "#9c179e"
             ],
             [
              0.4444444444444444,
              "#bd3786"
             ],
             [
              0.5555555555555556,
              "#d8576b"
             ],
             [
              0.6666666666666666,
              "#ed7953"
             ],
             [
              0.7777777777777778,
              "#fb9f3a"
             ],
             [
              0.8888888888888888,
              "#fdca26"
             ],
             [
              1,
              "#f0f921"
             ]
            ],
            "type": "histogram2d"
           }
          ],
          "histogram2dcontour": [
           {
            "colorbar": {
             "outlinewidth": 0,
             "ticks": ""
            },
            "colorscale": [
             [
              0,
              "#0d0887"
             ],
             [
              0.1111111111111111,
              "#46039f"
             ],
             [
              0.2222222222222222,
              "#7201a8"
             ],
             [
              0.3333333333333333,
              "#9c179e"
             ],
             [
              0.4444444444444444,
              "#bd3786"
             ],
             [
              0.5555555555555556,
              "#d8576b"
             ],
             [
              0.6666666666666666,
              "#ed7953"
             ],
             [
              0.7777777777777778,
              "#fb9f3a"
             ],
             [
              0.8888888888888888,
              "#fdca26"
             ],
             [
              1,
              "#f0f921"
             ]
            ],
            "type": "histogram2dcontour"
           }
          ],
          "mesh3d": [
           {
            "colorbar": {
             "outlinewidth": 0,
             "ticks": ""
            },
            "type": "mesh3d"
           }
          ],
          "parcoords": [
           {
            "line": {
             "colorbar": {
              "outlinewidth": 0,
              "ticks": ""
             }
            },
            "type": "parcoords"
           }
          ],
          "pie": [
           {
            "automargin": true,
            "type": "pie"
           }
          ],
          "scatter": [
           {
            "fillpattern": {
             "fillmode": "overlay",
             "size": 10,
             "solidity": 0.2
            },
            "type": "scatter"
           }
          ],
          "scatter3d": [
           {
            "line": {
             "colorbar": {
              "outlinewidth": 0,
              "ticks": ""
             }
            },
            "marker": {
             "colorbar": {
              "outlinewidth": 0,
              "ticks": ""
             }
            },
            "type": "scatter3d"
           }
          ],
          "scattercarpet": [
           {
            "marker": {
             "colorbar": {
              "outlinewidth": 0,
              "ticks": ""
             }
            },
            "type": "scattercarpet"
           }
          ],
          "scattergeo": [
           {
            "marker": {
             "colorbar": {
              "outlinewidth": 0,
              "ticks": ""
             }
            },
            "type": "scattergeo"
           }
          ],
          "scattergl": [
           {
            "marker": {
             "colorbar": {
              "outlinewidth": 0,
              "ticks": ""
             }
            },
            "type": "scattergl"
           }
          ],
          "scattermapbox": [
           {
            "marker": {
             "colorbar": {
              "outlinewidth": 0,
              "ticks": ""
             }
            },
            "type": "scattermapbox"
           }
          ],
          "scatterpolar": [
           {
            "marker": {
             "colorbar": {
              "outlinewidth": 0,
              "ticks": ""
             }
            },
            "type": "scatterpolar"
           }
          ],
          "scatterpolargl": [
           {
            "marker": {
             "colorbar": {
              "outlinewidth": 0,
              "ticks": ""
             }
            },
            "type": "scatterpolargl"
           }
          ],
          "scatterternary": [
           {
            "marker": {
             "colorbar": {
              "outlinewidth": 0,
              "ticks": ""
             }
            },
            "type": "scatterternary"
           }
          ],
          "surface": [
           {
            "colorbar": {
             "outlinewidth": 0,
             "ticks": ""
            },
            "colorscale": [
             [
              0,
              "#0d0887"
             ],
             [
              0.1111111111111111,
              "#46039f"
             ],
             [
              0.2222222222222222,
              "#7201a8"
             ],
             [
              0.3333333333333333,
              "#9c179e"
             ],
             [
              0.4444444444444444,
              "#bd3786"
             ],
             [
              0.5555555555555556,
              "#d8576b"
             ],
             [
              0.6666666666666666,
              "#ed7953"
             ],
             [
              0.7777777777777778,
              "#fb9f3a"
             ],
             [
              0.8888888888888888,
              "#fdca26"
             ],
             [
              1,
              "#f0f921"
             ]
            ],
            "type": "surface"
           }
          ],
          "table": [
           {
            "cells": {
             "fill": {
              "color": "#EBF0F8"
             },
             "line": {
              "color": "white"
             }
            },
            "header": {
             "fill": {
              "color": "#C8D4E3"
             },
             "line": {
              "color": "white"
             }
            },
            "type": "table"
           }
          ]
         },
         "layout": {
          "annotationdefaults": {
           "arrowcolor": "#2a3f5f",
           "arrowhead": 0,
           "arrowwidth": 1
          },
          "autotypenumbers": "strict",
          "coloraxis": {
           "colorbar": {
            "outlinewidth": 0,
            "ticks": ""
           }
          },
          "colorscale": {
           "diverging": [
            [
             0,
             "#8e0152"
            ],
            [
             0.1,
             "#c51b7d"
            ],
            [
             0.2,
             "#de77ae"
            ],
            [
             0.3,
             "#f1b6da"
            ],
            [
             0.4,
             "#fde0ef"
            ],
            [
             0.5,
             "#f7f7f7"
            ],
            [
             0.6,
             "#e6f5d0"
            ],
            [
             0.7,
             "#b8e186"
            ],
            [
             0.8,
             "#7fbc41"
            ],
            [
             0.9,
             "#4d9221"
            ],
            [
             1,
             "#276419"
            ]
           ],
           "sequential": [
            [
             0,
             "#0d0887"
            ],
            [
             0.1111111111111111,
             "#46039f"
            ],
            [
             0.2222222222222222,
             "#7201a8"
            ],
            [
             0.3333333333333333,
             "#9c179e"
            ],
            [
             0.4444444444444444,
             "#bd3786"
            ],
            [
             0.5555555555555556,
             "#d8576b"
            ],
            [
             0.6666666666666666,
             "#ed7953"
            ],
            [
             0.7777777777777778,
             "#fb9f3a"
            ],
            [
             0.8888888888888888,
             "#fdca26"
            ],
            [
             1,
             "#f0f921"
            ]
           ],
           "sequentialminus": [
            [
             0,
             "#0d0887"
            ],
            [
             0.1111111111111111,
             "#46039f"
            ],
            [
             0.2222222222222222,
             "#7201a8"
            ],
            [
             0.3333333333333333,
             "#9c179e"
            ],
            [
             0.4444444444444444,
             "#bd3786"
            ],
            [
             0.5555555555555556,
             "#d8576b"
            ],
            [
             0.6666666666666666,
             "#ed7953"
            ],
            [
             0.7777777777777778,
             "#fb9f3a"
            ],
            [
             0.8888888888888888,
             "#fdca26"
            ],
            [
             1,
             "#f0f921"
            ]
           ]
          },
          "colorway": [
           "#636efa",
           "#EF553B",
           "#00cc96",
           "#ab63fa",
           "#FFA15A",
           "#19d3f3",
           "#FF6692",
           "#B6E880",
           "#FF97FF",
           "#FECB52"
          ],
          "font": {
           "color": "#2a3f5f"
          },
          "geo": {
           "bgcolor": "white",
           "lakecolor": "white",
           "landcolor": "#E5ECF6",
           "showlakes": true,
           "showland": true,
           "subunitcolor": "white"
          },
          "hoverlabel": {
           "align": "left"
          },
          "hovermode": "closest",
          "mapbox": {
           "style": "light"
          },
          "paper_bgcolor": "white",
          "plot_bgcolor": "#E5ECF6",
          "polar": {
           "angularaxis": {
            "gridcolor": "white",
            "linecolor": "white",
            "ticks": ""
           },
           "bgcolor": "#E5ECF6",
           "radialaxis": {
            "gridcolor": "white",
            "linecolor": "white",
            "ticks": ""
           }
          },
          "scene": {
           "xaxis": {
            "backgroundcolor": "#E5ECF6",
            "gridcolor": "white",
            "gridwidth": 2,
            "linecolor": "white",
            "showbackground": true,
            "ticks": "",
            "zerolinecolor": "white"
           },
           "yaxis": {
            "backgroundcolor": "#E5ECF6",
            "gridcolor": "white",
            "gridwidth": 2,
            "linecolor": "white",
            "showbackground": true,
            "ticks": "",
            "zerolinecolor": "white"
           },
           "zaxis": {
            "backgroundcolor": "#E5ECF6",
            "gridcolor": "white",
            "gridwidth": 2,
            "linecolor": "white",
            "showbackground": true,
            "ticks": "",
            "zerolinecolor": "white"
           }
          },
          "shapedefaults": {
           "line": {
            "color": "#2a3f5f"
           }
          },
          "ternary": {
           "aaxis": {
            "gridcolor": "white",
            "linecolor": "white",
            "ticks": ""
           },
           "baxis": {
            "gridcolor": "white",
            "linecolor": "white",
            "ticks": ""
           },
           "bgcolor": "#E5ECF6",
           "caxis": {
            "gridcolor": "white",
            "linecolor": "white",
            "ticks": ""
           }
          },
          "title": {
           "x": 0.05
          },
          "xaxis": {
           "automargin": true,
           "gridcolor": "white",
           "linecolor": "white",
           "ticks": "",
           "title": {
            "standoff": 15
           },
           "zerolinecolor": "white",
           "zerolinewidth": 2
          },
          "yaxis": {
           "automargin": true,
           "gridcolor": "white",
           "linecolor": "white",
           "ticks": "",
           "title": {
            "standoff": 15
           },
           "zerolinecolor": "white",
           "zerolinewidth": 2
          }
         }
        },
        "title": {
         "text": "Top 20 des produits les plus vendus"
        },
        "width": 800,
        "xaxis": {
         "tickfont": {
          "size": 9
         }
        },
        "yaxis": {
         "title": {
          "text": "Quantité vendues"
         }
        }
       }
      }
     },
     "metadata": {},
     "output_type": "display_data"
    }
   ],
   "source": [
    "fig5 = go.Figure(data=go.Bar(\n",
    "    x=sorted_product_quantity_20['post_name'],\n",
    "    y=sorted_product_quantity_20['total_sales'],\n",
    "   marker=dict(\n",
    "        color=sorted_product_quantity_20['product_repres_color'],  # Color based on the 'product_type' column     \n",
    "   )), layout_title_text=\"Top 20 des produits les plus vendus\"\n",
    "                 )\n",
    "\n",
    "\n",
    "#fig5.update_xaxes()\n",
    "fig5.update_layout(\n",
    "        width=800,\n",
    "        height=600)\n",
    "fig5.update_layout(\n",
    "xaxis = dict(\n",
    "tickfont = dict(size=9)))\n",
    "\n",
    "fig5.update_yaxes(title_text=\"Quantité vendues\")"
   ]
  },
  {
   "cell_type": "code",
   "execution_count": null,
   "id": "c6dbcab0",
   "metadata": {},
   "outputs": [],
   "source": [
    "#Graphique en barre des 20 premiers articles avec plotly express\n",
    "#fig1 = px.bar(sorted_product_quantity_20, x= range(1,21), y=\"total_sales\", title='Top 20 des produits les plus vendus', orientation='v',\n",
    "              #color = range(1,21))             \n",
    "#fig1.update_traces(texttemplate = sorted_product_quantity_20[\"product_type\"], textposition = \"outside\", textfont=dict(size=10))\n",
    "#fig1.update_layout(xaxis_title=\"Produit\")\n",
    "#fig1.show()"
   ]
  },
  {
   "cell_type": "code",
   "execution_count": 1083,
   "id": "2aad021e",
   "metadata": {},
   "outputs": [],
   "source": [
    "##################################\n",
    "# Calculer le 20 / 80 en quantité #\n",
    "##################################\n",
    "ventes_totales = sorted_product_quantity[\"total_sales\"].sum()\n",
    "#Créer une colonne calculant la part en quantité de la ligne dans le dataset\n",
    "sorted_product_quantity[\"part_quantity\"] = sorted_product_quantity[\"total_sales\"]/ventes_totales\n"
   ]
  },
  {
   "cell_type": "code",
   "execution_count": 1084,
   "id": "cb09d7be",
   "metadata": {},
   "outputs": [],
   "source": [
    "#Créer une colonne réalisant la somme cumulative de la colonne précedemment créée\n",
    "sorted_product_quantity[\"cumul_quantity\"] = sorted_product_quantity[\"part_quantity\"].cumsum()"
   ]
  },
  {
   "cell_type": "code",
   "execution_count": 1085,
   "id": "c6df0b1e",
   "metadata": {},
   "outputs": [
    {
     "name": "stdout",
     "output_type": "stream",
     "text": [
      "les articles qui représentent 80% des ventes totales sont au nombre de 424\n"
     ]
    }
   ],
   "source": [
    "#Grâce au deux colonnes créées précedemment, calculer le nombre d'articles représentant 80% des ventes en quantité\n",
    "\n",
    "print(\"les articles qui représentent 80% des ventes totales sont au nombre de\", \n",
    "      len(sorted_product_quantity.loc[sorted_product_quantity[\"cumul_quantity\"]<=0.8]))\n",
    "\n"
   ]
  },
  {
   "cell_type": "code",
   "execution_count": 1086,
   "id": "c12983ac",
   "metadata": {},
   "outputs": [
    {
     "name": "stdout",
     "output_type": "stream",
     "text": [
      "Ce groupe d'articles représente 59.0 % du catalogue du site\n"
     ]
    }
   ],
   "source": [
    "#Afficher la proportion que représentent ce groupe d'articles dans le catalogue entier du site web\n",
    "print(\"Ce groupe d'articles représente\",\n",
    "      round(len(sorted_product_quantity.loc[sorted_product_quantity[\"cumul_quantity\"]<=0.8])/len(online_product), 2)*100, \n",
    "      \"% du catalogue du site\")"
   ]
  },
  {
   "cell_type": "markdown",
   "id": "077789b1",
   "metadata": {},
   "source": [
    "<div style=\"border: 1px solid RGB(51,165,182);\" >\n",
    "<h3 style=\"margin: auto; padding: 20px; color: RGB(51,165,182); \">Etape 5.3 - Analyse des stocks</h3>\n",
    "</div>"
   ]
  },
  {
   "cell_type": "code",
   "execution_count": null,
   "id": "14e45472",
   "metadata": {},
   "outputs": [],
   "source": [
    "######################################\n",
    "# Calcule le nombre de mois de stock #\n",
    "######################################\n",
    "\n",
    "#Import de numpy \n",
    "\n",
    "#Création de la colonne Rotation de stock : stock_quantity / total_sales\n",
    "\n"
   ]
  },
  {
   "cell_type": "code",
   "execution_count": 1087,
   "id": "826d5b51",
   "metadata": {},
   "outputs": [],
   "source": [
    "online_product[\"duree_stockage\"] = round(online_product[\"stock_quantity\"] / online_product[\"total_sales\"])"
   ]
  },
  {
   "cell_type": "code",
   "execution_count": 1088,
   "id": "0de51967",
   "metadata": {},
   "outputs": [],
   "source": [
    "online_product.rename(columns={\"duree_stockage\": \"duree_stockage_en_mois\"}, inplace=True)"
   ]
  },
  {
   "cell_type": "code",
   "execution_count": null,
   "id": "bcdf32bd",
   "metadata": {},
   "outputs": [],
   "source": [
    "#Remplacement des \"inf\" par 0\n",
    "online_product[\"duree_stockage_en_mois\"][np.isinf(online_product[\"duree_stockage_en_mois\"])] = 0"
   ]
  },
  {
   "cell_type": "code",
   "execution_count": 1142,
   "id": "85b0fd73",
   "metadata": {},
   "outputs": [
    {
     "data": {
      "text/plain": [
       "31.0"
      ]
     },
     "execution_count": 1142,
     "metadata": {},
     "output_type": "execute_result"
    }
   ],
   "source": [
    "online_product[\"duree_stockage_en_mois\"].max()"
   ]
  },
  {
   "cell_type": "code",
   "execution_count": 1140,
   "id": "bdc9f174",
   "metadata": {},
   "outputs": [
    {
     "data": {
      "text/plain": [
       "24"
      ]
     },
     "execution_count": 1140,
     "metadata": {},
     "output_type": "execute_result"
    }
   ],
   "source": [
    "len(online_product.loc[online_product[\"duree_stockage_en_mois\"]>=12])"
   ]
  },
  {
   "cell_type": "code",
   "execution_count": 1038,
   "id": "5b937392",
   "metadata": {},
   "outputs": [
    {
     "data": {
      "text/plain": [
       "3"
      ]
     },
     "execution_count": 1038,
     "metadata": {},
     "output_type": "execute_result"
    }
   ],
   "source": [
    "round(online_product[\"duree_stockage_en_mois\"].mean())"
   ]
  },
  {
   "cell_type": "code",
   "execution_count": 1090,
   "id": "0a801ce5",
   "metadata": {},
   "outputs": [],
   "source": [
    "flop_20 = online_product.sort_values(by=\"duree_stockage_en_mois\", ascending=False).reset_index().head(20)"
   ]
  },
  {
   "cell_type": "code",
   "execution_count": 1092,
   "id": "dd69d5f9",
   "metadata": {},
   "outputs": [
    {
     "data": {
      "application/vnd.plotly.v1+json": {
       "config": {
        "plotlyServerURL": "https://plot.ly"
       },
       "data": [
        {
         "marker": {
          "color": [
           "burlywood",
           "burlywood",
           "burlywood",
           "burlywood",
           "burlywood",
           "burlywood",
           "burlywood",
           "burlywood",
           "burlywood",
           "burlywood",
           "burlywood",
           "peachpuff",
           "peachpuff",
           "burlywood",
           "burlywood",
           "burlywood",
           "burlywood",
           "burlywood",
           "burlywood",
           "burlywood"
          ]
         },
         "orientation": "h",
         "type": "bar",
         "x": [
          31,
          28,
          27,
          25,
          24,
          23,
          23,
          23,
          21,
          20,
          20,
          19,
          18,
          17,
          17,
          16,
          16,
          15,
          14,
          13
         ],
         "y": [
          "champagne-gosset-grand-millesime-2006",
          "champagne-gosset-celebris-vintage-2007",
          "champagne-egly-ouriet-premier-cru-vrigny",
          "champagne-egly-ouriet-tradition-grand-cru",
          "champagne-mailly-grand-cru-brut-rose",
          "champagne-gosset-grand-rose",
          "champagne-larmandier-bernier-latitude",
          "champagne-agrapart-fils-lavizoise-grand-cru-2012-extra-brut-blanc-de-blancs",
          "champagne-egly-ouriet-extra-brut-vp",
          "champagne-mailly-grand-cru-intemporelle-rose-2009",
          "champagne-gosset-grand-blanc-de-blanc",
          "domaine-weinbach-gewurztraminer-gc-furstentum-sgn-2010",
          "chateau-de-puligny-montrachet-1cru-champ-canet-2014",
          "champagne-larmandier-bernier-terre-de-vertus-premier-cru-2011",
          "champagne-agrapart-fils-les-7-crus-brut-blanc-de-blancs",
          "coteaux-champenois-egly-ouriet-ambonnay-rouge-2016",
          "champagne-larmandier-bernier-grand-cru-vieilles-chemins-avize-2011",
          "gosset-champagne-grande-reserve",
          "champagne-mailly-gc-brut-reserve",
          "champagne-agrapart-fils-terroirs-brut-blanc-de-blancs-grand-cru"
         ]
        }
       ],
       "layout": {
        "height": 600,
        "template": {
         "data": {
          "bar": [
           {
            "error_x": {
             "color": "#2a3f5f"
            },
            "error_y": {
             "color": "#2a3f5f"
            },
            "marker": {
             "line": {
              "color": "#E5ECF6",
              "width": 0.5
             },
             "pattern": {
              "fillmode": "overlay",
              "size": 10,
              "solidity": 0.2
             }
            },
            "type": "bar"
           }
          ],
          "barpolar": [
           {
            "marker": {
             "line": {
              "color": "#E5ECF6",
              "width": 0.5
             },
             "pattern": {
              "fillmode": "overlay",
              "size": 10,
              "solidity": 0.2
             }
            },
            "type": "barpolar"
           }
          ],
          "carpet": [
           {
            "aaxis": {
             "endlinecolor": "#2a3f5f",
             "gridcolor": "white",
             "linecolor": "white",
             "minorgridcolor": "white",
             "startlinecolor": "#2a3f5f"
            },
            "baxis": {
             "endlinecolor": "#2a3f5f",
             "gridcolor": "white",
             "linecolor": "white",
             "minorgridcolor": "white",
             "startlinecolor": "#2a3f5f"
            },
            "type": "carpet"
           }
          ],
          "choropleth": [
           {
            "colorbar": {
             "outlinewidth": 0,
             "ticks": ""
            },
            "type": "choropleth"
           }
          ],
          "contour": [
           {
            "colorbar": {
             "outlinewidth": 0,
             "ticks": ""
            },
            "colorscale": [
             [
              0,
              "#0d0887"
             ],
             [
              0.1111111111111111,
              "#46039f"
             ],
             [
              0.2222222222222222,
              "#7201a8"
             ],
             [
              0.3333333333333333,
              "#9c179e"
             ],
             [
              0.4444444444444444,
              "#bd3786"
             ],
             [
              0.5555555555555556,
              "#d8576b"
             ],
             [
              0.6666666666666666,
              "#ed7953"
             ],
             [
              0.7777777777777778,
              "#fb9f3a"
             ],
             [
              0.8888888888888888,
              "#fdca26"
             ],
             [
              1,
              "#f0f921"
             ]
            ],
            "type": "contour"
           }
          ],
          "contourcarpet": [
           {
            "colorbar": {
             "outlinewidth": 0,
             "ticks": ""
            },
            "type": "contourcarpet"
           }
          ],
          "heatmap": [
           {
            "colorbar": {
             "outlinewidth": 0,
             "ticks": ""
            },
            "colorscale": [
             [
              0,
              "#0d0887"
             ],
             [
              0.1111111111111111,
              "#46039f"
             ],
             [
              0.2222222222222222,
              "#7201a8"
             ],
             [
              0.3333333333333333,
              "#9c179e"
             ],
             [
              0.4444444444444444,
              "#bd3786"
             ],
             [
              0.5555555555555556,
              "#d8576b"
             ],
             [
              0.6666666666666666,
              "#ed7953"
             ],
             [
              0.7777777777777778,
              "#fb9f3a"
             ],
             [
              0.8888888888888888,
              "#fdca26"
             ],
             [
              1,
              "#f0f921"
             ]
            ],
            "type": "heatmap"
           }
          ],
          "heatmapgl": [
           {
            "colorbar": {
             "outlinewidth": 0,
             "ticks": ""
            },
            "colorscale": [
             [
              0,
              "#0d0887"
             ],
             [
              0.1111111111111111,
              "#46039f"
             ],
             [
              0.2222222222222222,
              "#7201a8"
             ],
             [
              0.3333333333333333,
              "#9c179e"
             ],
             [
              0.4444444444444444,
              "#bd3786"
             ],
             [
              0.5555555555555556,
              "#d8576b"
             ],
             [
              0.6666666666666666,
              "#ed7953"
             ],
             [
              0.7777777777777778,
              "#fb9f3a"
             ],
             [
              0.8888888888888888,
              "#fdca26"
             ],
             [
              1,
              "#f0f921"
             ]
            ],
            "type": "heatmapgl"
           }
          ],
          "histogram": [
           {
            "marker": {
             "pattern": {
              "fillmode": "overlay",
              "size": 10,
              "solidity": 0.2
             }
            },
            "type": "histogram"
           }
          ],
          "histogram2d": [
           {
            "colorbar": {
             "outlinewidth": 0,
             "ticks": ""
            },
            "colorscale": [
             [
              0,
              "#0d0887"
             ],
             [
              0.1111111111111111,
              "#46039f"
             ],
             [
              0.2222222222222222,
              "#7201a8"
             ],
             [
              0.3333333333333333,
              "#9c179e"
             ],
             [
              0.4444444444444444,
              "#bd3786"
             ],
             [
              0.5555555555555556,
              "#d8576b"
             ],
             [
              0.6666666666666666,
              "#ed7953"
             ],
             [
              0.7777777777777778,
              "#fb9f3a"
             ],
             [
              0.8888888888888888,
              "#fdca26"
             ],
             [
              1,
              "#f0f921"
             ]
            ],
            "type": "histogram2d"
           }
          ],
          "histogram2dcontour": [
           {
            "colorbar": {
             "outlinewidth": 0,
             "ticks": ""
            },
            "colorscale": [
             [
              0,
              "#0d0887"
             ],
             [
              0.1111111111111111,
              "#46039f"
             ],
             [
              0.2222222222222222,
              "#7201a8"
             ],
             [
              0.3333333333333333,
              "#9c179e"
             ],
             [
              0.4444444444444444,
              "#bd3786"
             ],
             [
              0.5555555555555556,
              "#d8576b"
             ],
             [
              0.6666666666666666,
              "#ed7953"
             ],
             [
              0.7777777777777778,
              "#fb9f3a"
             ],
             [
              0.8888888888888888,
              "#fdca26"
             ],
             [
              1,
              "#f0f921"
             ]
            ],
            "type": "histogram2dcontour"
           }
          ],
          "mesh3d": [
           {
            "colorbar": {
             "outlinewidth": 0,
             "ticks": ""
            },
            "type": "mesh3d"
           }
          ],
          "parcoords": [
           {
            "line": {
             "colorbar": {
              "outlinewidth": 0,
              "ticks": ""
             }
            },
            "type": "parcoords"
           }
          ],
          "pie": [
           {
            "automargin": true,
            "type": "pie"
           }
          ],
          "scatter": [
           {
            "fillpattern": {
             "fillmode": "overlay",
             "size": 10,
             "solidity": 0.2
            },
            "type": "scatter"
           }
          ],
          "scatter3d": [
           {
            "line": {
             "colorbar": {
              "outlinewidth": 0,
              "ticks": ""
             }
            },
            "marker": {
             "colorbar": {
              "outlinewidth": 0,
              "ticks": ""
             }
            },
            "type": "scatter3d"
           }
          ],
          "scattercarpet": [
           {
            "marker": {
             "colorbar": {
              "outlinewidth": 0,
              "ticks": ""
             }
            },
            "type": "scattercarpet"
           }
          ],
          "scattergeo": [
           {
            "marker": {
             "colorbar": {
              "outlinewidth": 0,
              "ticks": ""
             }
            },
            "type": "scattergeo"
           }
          ],
          "scattergl": [
           {
            "marker": {
             "colorbar": {
              "outlinewidth": 0,
              "ticks": ""
             }
            },
            "type": "scattergl"
           }
          ],
          "scattermapbox": [
           {
            "marker": {
             "colorbar": {
              "outlinewidth": 0,
              "ticks": ""
             }
            },
            "type": "scattermapbox"
           }
          ],
          "scatterpolar": [
           {
            "marker": {
             "colorbar": {
              "outlinewidth": 0,
              "ticks": ""
             }
            },
            "type": "scatterpolar"
           }
          ],
          "scatterpolargl": [
           {
            "marker": {
             "colorbar": {
              "outlinewidth": 0,
              "ticks": ""
             }
            },
            "type": "scatterpolargl"
           }
          ],
          "scatterternary": [
           {
            "marker": {
             "colorbar": {
              "outlinewidth": 0,
              "ticks": ""
             }
            },
            "type": "scatterternary"
           }
          ],
          "surface": [
           {
            "colorbar": {
             "outlinewidth": 0,
             "ticks": ""
            },
            "colorscale": [
             [
              0,
              "#0d0887"
             ],
             [
              0.1111111111111111,
              "#46039f"
             ],
             [
              0.2222222222222222,
              "#7201a8"
             ],
             [
              0.3333333333333333,
              "#9c179e"
             ],
             [
              0.4444444444444444,
              "#bd3786"
             ],
             [
              0.5555555555555556,
              "#d8576b"
             ],
             [
              0.6666666666666666,
              "#ed7953"
             ],
             [
              0.7777777777777778,
              "#fb9f3a"
             ],
             [
              0.8888888888888888,
              "#fdca26"
             ],
             [
              1,
              "#f0f921"
             ]
            ],
            "type": "surface"
           }
          ],
          "table": [
           {
            "cells": {
             "fill": {
              "color": "#EBF0F8"
             },
             "line": {
              "color": "white"
             }
            },
            "header": {
             "fill": {
              "color": "#C8D4E3"
             },
             "line": {
              "color": "white"
             }
            },
            "type": "table"
           }
          ]
         },
         "layout": {
          "annotationdefaults": {
           "arrowcolor": "#2a3f5f",
           "arrowhead": 0,
           "arrowwidth": 1
          },
          "autotypenumbers": "strict",
          "coloraxis": {
           "colorbar": {
            "outlinewidth": 0,
            "ticks": ""
           }
          },
          "colorscale": {
           "diverging": [
            [
             0,
             "#8e0152"
            ],
            [
             0.1,
             "#c51b7d"
            ],
            [
             0.2,
             "#de77ae"
            ],
            [
             0.3,
             "#f1b6da"
            ],
            [
             0.4,
             "#fde0ef"
            ],
            [
             0.5,
             "#f7f7f7"
            ],
            [
             0.6,
             "#e6f5d0"
            ],
            [
             0.7,
             "#b8e186"
            ],
            [
             0.8,
             "#7fbc41"
            ],
            [
             0.9,
             "#4d9221"
            ],
            [
             1,
             "#276419"
            ]
           ],
           "sequential": [
            [
             0,
             "#0d0887"
            ],
            [
             0.1111111111111111,
             "#46039f"
            ],
            [
             0.2222222222222222,
             "#7201a8"
            ],
            [
             0.3333333333333333,
             "#9c179e"
            ],
            [
             0.4444444444444444,
             "#bd3786"
            ],
            [
             0.5555555555555556,
             "#d8576b"
            ],
            [
             0.6666666666666666,
             "#ed7953"
            ],
            [
             0.7777777777777778,
             "#fb9f3a"
            ],
            [
             0.8888888888888888,
             "#fdca26"
            ],
            [
             1,
             "#f0f921"
            ]
           ],
           "sequentialminus": [
            [
             0,
             "#0d0887"
            ],
            [
             0.1111111111111111,
             "#46039f"
            ],
            [
             0.2222222222222222,
             "#7201a8"
            ],
            [
             0.3333333333333333,
             "#9c179e"
            ],
            [
             0.4444444444444444,
             "#bd3786"
            ],
            [
             0.5555555555555556,
             "#d8576b"
            ],
            [
             0.6666666666666666,
             "#ed7953"
            ],
            [
             0.7777777777777778,
             "#fb9f3a"
            ],
            [
             0.8888888888888888,
             "#fdca26"
            ],
            [
             1,
             "#f0f921"
            ]
           ]
          },
          "colorway": [
           "#636efa",
           "#EF553B",
           "#00cc96",
           "#ab63fa",
           "#FFA15A",
           "#19d3f3",
           "#FF6692",
           "#B6E880",
           "#FF97FF",
           "#FECB52"
          ],
          "font": {
           "color": "#2a3f5f"
          },
          "geo": {
           "bgcolor": "white",
           "lakecolor": "white",
           "landcolor": "#E5ECF6",
           "showlakes": true,
           "showland": true,
           "subunitcolor": "white"
          },
          "hoverlabel": {
           "align": "left"
          },
          "hovermode": "closest",
          "mapbox": {
           "style": "light"
          },
          "paper_bgcolor": "white",
          "plot_bgcolor": "#E5ECF6",
          "polar": {
           "angularaxis": {
            "gridcolor": "white",
            "linecolor": "white",
            "ticks": ""
           },
           "bgcolor": "#E5ECF6",
           "radialaxis": {
            "gridcolor": "white",
            "linecolor": "white",
            "ticks": ""
           }
          },
          "scene": {
           "xaxis": {
            "backgroundcolor": "#E5ECF6",
            "gridcolor": "white",
            "gridwidth": 2,
            "linecolor": "white",
            "showbackground": true,
            "ticks": "",
            "zerolinecolor": "white"
           },
           "yaxis": {
            "backgroundcolor": "#E5ECF6",
            "gridcolor": "white",
            "gridwidth": 2,
            "linecolor": "white",
            "showbackground": true,
            "ticks": "",
            "zerolinecolor": "white"
           },
           "zaxis": {
            "backgroundcolor": "#E5ECF6",
            "gridcolor": "white",
            "gridwidth": 2,
            "linecolor": "white",
            "showbackground": true,
            "ticks": "",
            "zerolinecolor": "white"
           }
          },
          "shapedefaults": {
           "line": {
            "color": "#2a3f5f"
           }
          },
          "ternary": {
           "aaxis": {
            "gridcolor": "white",
            "linecolor": "white",
            "ticks": ""
           },
           "baxis": {
            "gridcolor": "white",
            "linecolor": "white",
            "ticks": ""
           },
           "bgcolor": "#E5ECF6",
           "caxis": {
            "gridcolor": "white",
            "linecolor": "white",
            "ticks": ""
           }
          },
          "title": {
           "x": 0.05
          },
          "xaxis": {
           "automargin": true,
           "gridcolor": "white",
           "linecolor": "white",
           "ticks": "",
           "title": {
            "standoff": 15
           },
           "zerolinecolor": "white",
           "zerolinewidth": 2
          },
          "yaxis": {
           "automargin": true,
           "gridcolor": "white",
           "linecolor": "white",
           "ticks": "",
           "title": {
            "standoff": 15
           },
           "zerolinecolor": "white",
           "zerolinewidth": 2
          }
         }
        },
        "title": {
         "text": "Flop 20 des produits en durée de stockage"
        },
        "width": 800,
        "yaxis": {
         "tickfont": {
          "size": 9
         }
        }
       }
      }
     },
     "metadata": {},
     "output_type": "display_data"
    }
   ],
   "source": [
    "#Graphique en barre du flop 20 des produits qui ont le plus de mois de stock:\n",
    "fig6 = go.Figure(data=go.Bar(\n",
    "    x=flop_20[\"duree_stockage_en_mois\"],\n",
    "    y=flop_20[\"post_name\"],\n",
    "    orientation='h',\n",
    "   marker=dict(\n",
    "        color=flop_20['product_repres_color'])), \n",
    "                 layout_title_text=\"Flop 20 des produits en durée de stockage\"\n",
    "                 )\n",
    "\n",
    "\n",
    "#fig6.update_xaxes()\n",
    "fig6.update_layout(\n",
    "        width=800,\n",
    "        height=600)\n",
    "fig6.update_layout(\n",
    "yaxis = dict(\n",
    "tickfont = dict(size=9)))\n",
    "\n"
   ]
  },
  {
   "cell_type": "code",
   "execution_count": 931,
   "id": "e57bb436",
   "metadata": {},
   "outputs": [],
   "source": [
    "####################################\n",
    "# Valorisation des stocks en euros #\n",
    "####################################\n",
    "#Création de la colonne Valorisation des stocks en euros\n",
    "online_product[\"valorisation_stock\"] = online_product[\"stock_quantity\"] * online_product[\"purchase_price\"]"
   ]
  },
  {
   "cell_type": "code",
   "execution_count": 932,
   "id": "5647bb63",
   "metadata": {},
   "outputs": [
    {
     "data": {
      "text/plain": [
       "277305.77"
      ]
     },
     "execution_count": 932,
     "metadata": {},
     "output_type": "execute_result"
    }
   ],
   "source": [
    "#Calculer la somme de la colonne \"Valorisation_stock_euros\"\n",
    "online_product[\"valorisation_stock\"].sum()"
   ]
  },
  {
   "cell_type": "code",
   "execution_count": 933,
   "id": "4a3dd99d",
   "metadata": {},
   "outputs": [
    {
     "data": {
      "text/plain": [
       "16739"
      ]
     },
     "execution_count": 933,
     "metadata": {},
     "output_type": "execute_result"
    }
   ],
   "source": [
    "##############################################\n",
    "# Valorisation du nombre de produit en stock #\n",
    "##############################################\n",
    "\n",
    "#Calculer la somme de la colonne stock quantity \n",
    "online_product[\"stock_quantity\"].sum()"
   ]
  },
  {
   "cell_type": "markdown",
   "id": "9e48f6dc",
   "metadata": {},
   "source": [
    "<div style=\"border: 1px solid RGB(51,165,182);\" >\n",
    "<h3 style=\"margin: auto; padding: 20px; color: RGB(51,165,182); \">Etape 5.4 - Analyse du taux de marge</h3>\n",
    "</div>"
   ]
  },
  {
   "cell_type": "code",
   "execution_count": 1093,
   "id": "7de5ca46",
   "metadata": {},
   "outputs": [],
   "source": [
    "############################\n",
    "# Analyse du taux de marge #\n",
    "############################\n",
    "\n",
    "#Création de la colonne prix HT en considérant que le taux de tva est de 20%\n",
    "\n",
    "online_product[\"PVHT\"] = round((online_product[\"price\"]/1.2),2)"
   ]
  },
  {
   "cell_type": "code",
   "execution_count": 1094,
   "id": "df4273bf",
   "metadata": {},
   "outputs": [],
   "source": [
    "#Création de la colonne Taux de marge\n",
    "online_product[\"taux_marge_%\"] = round(((online_product[\"PVHT\"] - online_product[\"purchase_price\"])*100/online_product[\"PVHT\"]),2)"
   ]
  },
  {
   "cell_type": "code",
   "execution_count": 1095,
   "id": "6082d42b",
   "metadata": {},
   "outputs": [
    {
     "data": {
      "text/html": [
       "<div>\n",
       "<style scoped>\n",
       "    .dataframe tbody tr th:only-of-type {\n",
       "        vertical-align: middle;\n",
       "    }\n",
       "\n",
       "    .dataframe tbody tr th {\n",
       "        vertical-align: top;\n",
       "    }\n",
       "\n",
       "    .dataframe thead th {\n",
       "        text-align: right;\n",
       "    }\n",
       "</style>\n",
       "<table border=\"1\" class=\"dataframe\">\n",
       "  <thead>\n",
       "    <tr style=\"text-align: right;\">\n",
       "      <th></th>\n",
       "      <th>sku</th>\n",
       "      <th>total_sales</th>\n",
       "      <th>tax_status</th>\n",
       "      <th>post_date_gmt</th>\n",
       "      <th>product_type</th>\n",
       "      <th>post_name</th>\n",
       "      <th>post_modified_gmt</th>\n",
       "      <th>post_type</th>\n",
       "      <th>product_id</th>\n",
       "      <th>onsale_web</th>\n",
       "      <th>...</th>\n",
       "      <th>stock_quantity</th>\n",
       "      <th>stock_status</th>\n",
       "      <th>purchase_price</th>\n",
       "      <th>prix_deviation</th>\n",
       "      <th>id_web</th>\n",
       "      <th>product_repres_color</th>\n",
       "      <th>ca_par_article</th>\n",
       "      <th>duree_stockage_en_mois</th>\n",
       "      <th>PVHT</th>\n",
       "      <th>taux_marge_%</th>\n",
       "    </tr>\n",
       "  </thead>\n",
       "  <tbody>\n",
       "    <tr>\n",
       "      <th>673</th>\n",
       "      <td>12589</td>\n",
       "      <td>0.0</td>\n",
       "      <td>taxable</td>\n",
       "      <td>2018-03-02 09:46:10</td>\n",
       "      <td>Champagne</td>\n",
       "      <td>champagne-egly-ouriet-grand-cru-brut-blanc-de-...</td>\n",
       "      <td>2020-08-13 08:15:02</td>\n",
       "      <td>product</td>\n",
       "      <td>4355</td>\n",
       "      <td>1</td>\n",
       "      <td>...</td>\n",
       "      <td>97</td>\n",
       "      <td>instock</td>\n",
       "      <td>77.48</td>\n",
       "      <td>-0.738</td>\n",
       "      <td>12589</td>\n",
       "      <td>burlywood</td>\n",
       "      <td>0.0</td>\n",
       "      <td>0.0</td>\n",
       "      <td>10.54</td>\n",
       "      <td>-635.1</td>\n",
       "    </tr>\n",
       "  </tbody>\n",
       "</table>\n",
       "<p>1 rows × 21 columns</p>\n",
       "</div>"
      ],
      "text/plain": [
       "       sku  total_sales tax_status       post_date_gmt product_type  \\\n",
       "673  12589          0.0    taxable 2018-03-02 09:46:10    Champagne   \n",
       "\n",
       "                                             post_name   post_modified_gmt  \\\n",
       "673  champagne-egly-ouriet-grand-cru-brut-blanc-de-... 2020-08-13 08:15:02   \n",
       "\n",
       "    post_type  product_id  onsale_web  ...  stock_quantity  stock_status  \\\n",
       "673   product        4355           1  ...              97       instock   \n",
       "\n",
       "    purchase_price  prix_deviation  id_web product_repres_color  \\\n",
       "673          77.48          -0.738   12589            burlywood   \n",
       "\n",
       "    ca_par_article  duree_stockage_en_mois   PVHT  taux_marge_%  \n",
       "673            0.0                     0.0  10.54        -635.1  \n",
       "\n",
       "[1 rows x 21 columns]"
      ]
     },
     "execution_count": 1095,
     "metadata": {},
     "output_type": "execute_result"
    }
   ],
   "source": [
    "#affichage de la ligne avec un taux de marge inférieur à 0\n",
    "online_product.loc[online_product[\"taux_marge_%\"] < 0]"
   ]
  },
  {
   "cell_type": "code",
   "execution_count": 1096,
   "id": "d756037c",
   "metadata": {},
   "outputs": [],
   "source": [
    "#création d'un dataframe avec les taux positifs\n",
    "taux_positifs = online_product.loc[online_product[\"taux_marge_%\"] > 0]"
   ]
  },
  {
   "cell_type": "code",
   "execution_count": 1046,
   "id": "e82abb06",
   "metadata": {},
   "outputs": [
    {
     "data": {
      "text/plain": [
       "22.8"
      ]
     },
     "execution_count": 1046,
     "metadata": {},
     "output_type": "execute_result"
    }
   ],
   "source": [
    "#Afficher le prix minimum de la colonne \"taux_marge\"\n",
    "taux_positifs[\"taux_marge_%\"].min()"
   ]
  },
  {
   "cell_type": "code",
   "execution_count": 1047,
   "id": "fd9637eb",
   "metadata": {},
   "outputs": [
    {
     "data": {
      "text/plain": [
       "47.75"
      ]
     },
     "execution_count": 1047,
     "metadata": {},
     "output_type": "execute_result"
    }
   ],
   "source": [
    "#Afficher le prix maximum de la colonne \"taux_marge\"\n",
    "taux_positifs[\"taux_marge_%\"].max()"
   ]
  },
  {
   "cell_type": "code",
   "execution_count": 1154,
   "id": "d254a2e1",
   "metadata": {},
   "outputs": [
    {
     "name": "stdout",
     "output_type": "stream",
     "text": [
      "les produits vendus avec un taux de marge >= 30% représentent 96.64 % des produits vendus en ligne\n"
     ]
    }
   ],
   "source": [
    "print(\"les produits vendus avec un taux de marge >= 30% représentent\",\n",
    "      round(len(taux_positifs.loc[taux_positifs[\"taux_marge_%\"] >=30])*100/len(online_product),2), \n",
    "      \"% des produits vendus en ligne\")"
   ]
  },
  {
   "cell_type": "code",
   "execution_count": 1155,
   "id": "535361f0",
   "metadata": {},
   "outputs": [
    {
     "name": "stdout",
     "output_type": "stream",
     "text": [
      "Le vin représente 95.36 % des produits ayant une marge de plus de 30%\n"
     ]
    }
   ],
   "source": [
    "print(\"Le vin représente\", \n",
    "      round(len(taux_positifs.loc[taux_positifs[\"taux_marge_%\"] >=30].loc[taux_positifs[\"product_type\"] == \"Vin\"])*100/len(taux_positifs.loc[taux_positifs[\"taux_marge_%\"] >=30]),2), \n",
    "      \"% des produits ayant une marge de plus de 30%\") "
   ]
  },
  {
   "cell_type": "code",
   "execution_count": 1150,
   "id": "e04bf0a7",
   "metadata": {},
   "outputs": [
    {
     "data": {
      "text/plain": [
       "array(['Vin', 'Champagne', 'Whisky', 'Cognac', 'Autre', 'Gin'],\n",
       "      dtype=object)"
      ]
     },
     "execution_count": 1150,
     "metadata": {},
     "output_type": "execute_result"
    }
   ],
   "source": [
    "taux_positifs.loc[taux_positifs[\"taux_marge_%\"] >=30][\"product_type\"].unique()"
   ]
  },
  {
   "cell_type": "code",
   "execution_count": 1097,
   "id": "7c36fe34",
   "metadata": {},
   "outputs": [],
   "source": [
    "#Affichage dans un graphique du taux de marge par type de produit\n",
    "taux_marge_par_produit = taux_positifs.groupby(\"product_type\").agg({\"taux_marge_%\":\"mean\", \"PVHT\":\"mean\", \"purchase_price\":\"mean\"}).rename(columns={\"taux_marge_%\":\"taux_moyen\", \"PVHT\":\"PVHT_moyen\", \"purchase_price\":\"purchase_price_moyen\"}).sort_values(by=\"PVHT_moyen\", ascending=False)"
   ]
  },
  {
   "cell_type": "code",
   "execution_count": 1098,
   "id": "ad8c2fd7",
   "metadata": {},
   "outputs": [],
   "source": [
    "taux_marge_par_produit[\"taux_marge_moyen\"] = round(((taux_marge_par_produit[\"PVHT_moyen\"] - taux_marge_par_produit[\"purchase_price_moyen\"])*100/taux_marge_par_produit[\"PVHT_moyen\"]),2)"
   ]
  },
  {
   "cell_type": "code",
   "execution_count": 1099,
   "id": "c202404a",
   "metadata": {},
   "outputs": [],
   "source": [
    "taux_marge_par_produit[\"marge€\"] = taux_marge_par_produit[\"PVHT_moyen\"] - taux_marge_par_produit[\"purchase_price_moyen\"]"
   ]
  },
  {
   "cell_type": "code",
   "execution_count": 1100,
   "id": "677b9dc2",
   "metadata": {},
   "outputs": [],
   "source": [
    "taux_marge_par_produit = taux_marge_par_produit.reset_index()"
   ]
  },
  {
   "cell_type": "code",
   "execution_count": 1101,
   "id": "e2ae20b5",
   "metadata": {},
   "outputs": [
    {
     "data": {
      "text/html": [
       "<div>\n",
       "<style scoped>\n",
       "    .dataframe tbody tr th:only-of-type {\n",
       "        vertical-align: middle;\n",
       "    }\n",
       "\n",
       "    .dataframe tbody tr th {\n",
       "        vertical-align: top;\n",
       "    }\n",
       "\n",
       "    .dataframe thead th {\n",
       "        text-align: right;\n",
       "    }\n",
       "</style>\n",
       "<table border=\"1\" class=\"dataframe\">\n",
       "  <thead>\n",
       "    <tr style=\"text-align: right;\">\n",
       "      <th></th>\n",
       "      <th>product_type</th>\n",
       "      <th>taux_moyen</th>\n",
       "      <th>PVHT_moyen</th>\n",
       "      <th>purchase_price_moyen</th>\n",
       "      <th>taux_marge_moyen</th>\n",
       "      <th>marge€</th>\n",
       "    </tr>\n",
       "  </thead>\n",
       "  <tbody>\n",
       "    <tr>\n",
       "      <th>0</th>\n",
       "      <td>Cognac</td>\n",
       "      <td>45.068750</td>\n",
       "      <td>81.251250</td>\n",
       "      <td>44.286250</td>\n",
       "      <td>45.49</td>\n",
       "      <td>36.965000</td>\n",
       "    </tr>\n",
       "    <tr>\n",
       "      <th>1</th>\n",
       "      <td>Champagne</td>\n",
       "      <td>28.487407</td>\n",
       "      <td>59.780741</td>\n",
       "      <td>42.930370</td>\n",
       "      <td>28.19</td>\n",
       "      <td>16.850370</td>\n",
       "    </tr>\n",
       "    <tr>\n",
       "      <th>2</th>\n",
       "      <td>Whisky</td>\n",
       "      <td>44.920000</td>\n",
       "      <td>54.632143</td>\n",
       "      <td>29.937143</td>\n",
       "      <td>45.20</td>\n",
       "      <td>24.695000</td>\n",
       "    </tr>\n",
       "    <tr>\n",
       "      <th>3</th>\n",
       "      <td>Gin</td>\n",
       "      <td>42.800000</td>\n",
       "      <td>30.000000</td>\n",
       "      <td>17.160000</td>\n",
       "      <td>42.80</td>\n",
       "      <td>12.840000</td>\n",
       "    </tr>\n",
       "    <tr>\n",
       "      <th>4</th>\n",
       "      <td>Vin</td>\n",
       "      <td>38.012371</td>\n",
       "      <td>24.401109</td>\n",
       "      <td>15.145106</td>\n",
       "      <td>37.93</td>\n",
       "      <td>9.256003</td>\n",
       "    </tr>\n",
       "    <tr>\n",
       "      <th>5</th>\n",
       "      <td>Autre</td>\n",
       "      <td>36.150000</td>\n",
       "      <td>20.830000</td>\n",
       "      <td>13.300000</td>\n",
       "      <td>36.15</td>\n",
       "      <td>7.530000</td>\n",
       "    </tr>\n",
       "    <tr>\n",
       "      <th>6</th>\n",
       "      <td>Huile d'olive</td>\n",
       "      <td>25.006667</td>\n",
       "      <td>20.780000</td>\n",
       "      <td>15.450000</td>\n",
       "      <td>25.65</td>\n",
       "      <td>5.330000</td>\n",
       "    </tr>\n",
       "  </tbody>\n",
       "</table>\n",
       "</div>"
      ],
      "text/plain": [
       "    product_type  taux_moyen  PVHT_moyen  purchase_price_moyen  \\\n",
       "0         Cognac   45.068750   81.251250             44.286250   \n",
       "1      Champagne   28.487407   59.780741             42.930370   \n",
       "2         Whisky   44.920000   54.632143             29.937143   \n",
       "3            Gin   42.800000   30.000000             17.160000   \n",
       "4            Vin   38.012371   24.401109             15.145106   \n",
       "5          Autre   36.150000   20.830000             13.300000   \n",
       "6  Huile d'olive   25.006667   20.780000             15.450000   \n",
       "\n",
       "   taux_marge_moyen     marge€  \n",
       "0             45.49  36.965000  \n",
       "1             28.19  16.850370  \n",
       "2             45.20  24.695000  \n",
       "3             42.80  12.840000  \n",
       "4             37.93   9.256003  \n",
       "5             36.15   7.530000  \n",
       "6             25.65   5.330000  "
      ]
     },
     "execution_count": 1101,
     "metadata": {},
     "output_type": "execute_result"
    }
   ],
   "source": [
    "taux_marge_par_produit.head(10)"
   ]
  },
  {
   "cell_type": "code",
   "execution_count": 1157,
   "id": "5d3d3b60",
   "metadata": {},
   "outputs": [
    {
     "data": {
      "application/vnd.plotly.v1+json": {
       "config": {
        "plotlyServerURL": "https://plot.ly"
       },
       "data": [
        {
         "alignmentgroup": "True",
         "hovertemplate": "variable=PVHT_moyen<br>product_type=%{x}<br>value=%{y}<extra></extra>",
         "legendgroup": "PVHT_moyen",
         "marker": {
          "color": "#3366CC",
          "pattern": {
           "shape": ""
          }
         },
         "name": "PVHT_moyen",
         "offsetgroup": "PVHT_moyen",
         "orientation": "v",
         "showlegend": true,
         "textposition": "auto",
         "type": "bar",
         "x": [
          "Cognac",
          "Champagne",
          "Whisky",
          "Gin",
          "Vin",
          "Autre",
          "Huile d'olive"
         ],
         "xaxis": "x",
         "y": [
          81.25125,
          59.78074074074074,
          54.63214285714286,
          30,
          24.4011094224924,
          20.83,
          20.78
         ],
         "yaxis": "y"
        },
        {
         "alignmentgroup": "True",
         "hovertemplate": "variable=marge€<br>product_type=%{x}<br>value=%{y}<extra></extra>",
         "legendgroup": "marge€",
         "marker": {
          "color": "#DC3912",
          "pattern": {
           "shape": ""
          }
         },
         "name": "marge€",
         "offsetgroup": "marge€",
         "orientation": "v",
         "showlegend": true,
         "textposition": "auto",
         "type": "bar",
         "x": [
          "Cognac",
          "Champagne",
          "Whisky",
          "Gin",
          "Vin",
          "Autre",
          "Huile d'olive"
         ],
         "xaxis": "x",
         "y": [
          36.964999999999996,
          16.85037037037037,
          24.695000000000004,
          12.84,
          9.256003039513677,
          7.529999999999998,
          5.33
         ],
         "yaxis": "y"
        }
       ],
       "layout": {
        "barmode": "group",
        "legend": {
         "title": {
          "text": "variable"
         },
         "tracegroupgap": 0
        },
        "template": {
         "data": {
          "bar": [
           {
            "error_x": {
             "color": "#2a3f5f"
            },
            "error_y": {
             "color": "#2a3f5f"
            },
            "marker": {
             "line": {
              "color": "#E5ECF6",
              "width": 0.5
             },
             "pattern": {
              "fillmode": "overlay",
              "size": 10,
              "solidity": 0.2
             }
            },
            "type": "bar"
           }
          ],
          "barpolar": [
           {
            "marker": {
             "line": {
              "color": "#E5ECF6",
              "width": 0.5
             },
             "pattern": {
              "fillmode": "overlay",
              "size": 10,
              "solidity": 0.2
             }
            },
            "type": "barpolar"
           }
          ],
          "carpet": [
           {
            "aaxis": {
             "endlinecolor": "#2a3f5f",
             "gridcolor": "white",
             "linecolor": "white",
             "minorgridcolor": "white",
             "startlinecolor": "#2a3f5f"
            },
            "baxis": {
             "endlinecolor": "#2a3f5f",
             "gridcolor": "white",
             "linecolor": "white",
             "minorgridcolor": "white",
             "startlinecolor": "#2a3f5f"
            },
            "type": "carpet"
           }
          ],
          "choropleth": [
           {
            "colorbar": {
             "outlinewidth": 0,
             "ticks": ""
            },
            "type": "choropleth"
           }
          ],
          "contour": [
           {
            "colorbar": {
             "outlinewidth": 0,
             "ticks": ""
            },
            "colorscale": [
             [
              0,
              "#0d0887"
             ],
             [
              0.1111111111111111,
              "#46039f"
             ],
             [
              0.2222222222222222,
              "#7201a8"
             ],
             [
              0.3333333333333333,
              "#9c179e"
             ],
             [
              0.4444444444444444,
              "#bd3786"
             ],
             [
              0.5555555555555556,
              "#d8576b"
             ],
             [
              0.6666666666666666,
              "#ed7953"
             ],
             [
              0.7777777777777778,
              "#fb9f3a"
             ],
             [
              0.8888888888888888,
              "#fdca26"
             ],
             [
              1,
              "#f0f921"
             ]
            ],
            "type": "contour"
           }
          ],
          "contourcarpet": [
           {
            "colorbar": {
             "outlinewidth": 0,
             "ticks": ""
            },
            "type": "contourcarpet"
           }
          ],
          "heatmap": [
           {
            "colorbar": {
             "outlinewidth": 0,
             "ticks": ""
            },
            "colorscale": [
             [
              0,
              "#0d0887"
             ],
             [
              0.1111111111111111,
              "#46039f"
             ],
             [
              0.2222222222222222,
              "#7201a8"
             ],
             [
              0.3333333333333333,
              "#9c179e"
             ],
             [
              0.4444444444444444,
              "#bd3786"
             ],
             [
              0.5555555555555556,
              "#d8576b"
             ],
             [
              0.6666666666666666,
              "#ed7953"
             ],
             [
              0.7777777777777778,
              "#fb9f3a"
             ],
             [
              0.8888888888888888,
              "#fdca26"
             ],
             [
              1,
              "#f0f921"
             ]
            ],
            "type": "heatmap"
           }
          ],
          "heatmapgl": [
           {
            "colorbar": {
             "outlinewidth": 0,
             "ticks": ""
            },
            "colorscale": [
             [
              0,
              "#0d0887"
             ],
             [
              0.1111111111111111,
              "#46039f"
             ],
             [
              0.2222222222222222,
              "#7201a8"
             ],
             [
              0.3333333333333333,
              "#9c179e"
             ],
             [
              0.4444444444444444,
              "#bd3786"
             ],
             [
              0.5555555555555556,
              "#d8576b"
             ],
             [
              0.6666666666666666,
              "#ed7953"
             ],
             [
              0.7777777777777778,
              "#fb9f3a"
             ],
             [
              0.8888888888888888,
              "#fdca26"
             ],
             [
              1,
              "#f0f921"
             ]
            ],
            "type": "heatmapgl"
           }
          ],
          "histogram": [
           {
            "marker": {
             "pattern": {
              "fillmode": "overlay",
              "size": 10,
              "solidity": 0.2
             }
            },
            "type": "histogram"
           }
          ],
          "histogram2d": [
           {
            "colorbar": {
             "outlinewidth": 0,
             "ticks": ""
            },
            "colorscale": [
             [
              0,
              "#0d0887"
             ],
             [
              0.1111111111111111,
              "#46039f"
             ],
             [
              0.2222222222222222,
              "#7201a8"
             ],
             [
              0.3333333333333333,
              "#9c179e"
             ],
             [
              0.4444444444444444,
              "#bd3786"
             ],
             [
              0.5555555555555556,
              "#d8576b"
             ],
             [
              0.6666666666666666,
              "#ed7953"
             ],
             [
              0.7777777777777778,
              "#fb9f3a"
             ],
             [
              0.8888888888888888,
              "#fdca26"
             ],
             [
              1,
              "#f0f921"
             ]
            ],
            "type": "histogram2d"
           }
          ],
          "histogram2dcontour": [
           {
            "colorbar": {
             "outlinewidth": 0,
             "ticks": ""
            },
            "colorscale": [
             [
              0,
              "#0d0887"
             ],
             [
              0.1111111111111111,
              "#46039f"
             ],
             [
              0.2222222222222222,
              "#7201a8"
             ],
             [
              0.3333333333333333,
              "#9c179e"
             ],
             [
              0.4444444444444444,
              "#bd3786"
             ],
             [
              0.5555555555555556,
              "#d8576b"
             ],
             [
              0.6666666666666666,
              "#ed7953"
             ],
             [
              0.7777777777777778,
              "#fb9f3a"
             ],
             [
              0.8888888888888888,
              "#fdca26"
             ],
             [
              1,
              "#f0f921"
             ]
            ],
            "type": "histogram2dcontour"
           }
          ],
          "mesh3d": [
           {
            "colorbar": {
             "outlinewidth": 0,
             "ticks": ""
            },
            "type": "mesh3d"
           }
          ],
          "parcoords": [
           {
            "line": {
             "colorbar": {
              "outlinewidth": 0,
              "ticks": ""
             }
            },
            "type": "parcoords"
           }
          ],
          "pie": [
           {
            "automargin": true,
            "type": "pie"
           }
          ],
          "scatter": [
           {
            "fillpattern": {
             "fillmode": "overlay",
             "size": 10,
             "solidity": 0.2
            },
            "type": "scatter"
           }
          ],
          "scatter3d": [
           {
            "line": {
             "colorbar": {
              "outlinewidth": 0,
              "ticks": ""
             }
            },
            "marker": {
             "colorbar": {
              "outlinewidth": 0,
              "ticks": ""
             }
            },
            "type": "scatter3d"
           }
          ],
          "scattercarpet": [
           {
            "marker": {
             "colorbar": {
              "outlinewidth": 0,
              "ticks": ""
             }
            },
            "type": "scattercarpet"
           }
          ],
          "scattergeo": [
           {
            "marker": {
             "colorbar": {
              "outlinewidth": 0,
              "ticks": ""
             }
            },
            "type": "scattergeo"
           }
          ],
          "scattergl": [
           {
            "marker": {
             "colorbar": {
              "outlinewidth": 0,
              "ticks": ""
             }
            },
            "type": "scattergl"
           }
          ],
          "scattermapbox": [
           {
            "marker": {
             "colorbar": {
              "outlinewidth": 0,
              "ticks": ""
             }
            },
            "type": "scattermapbox"
           }
          ],
          "scatterpolar": [
           {
            "marker": {
             "colorbar": {
              "outlinewidth": 0,
              "ticks": ""
             }
            },
            "type": "scatterpolar"
           }
          ],
          "scatterpolargl": [
           {
            "marker": {
             "colorbar": {
              "outlinewidth": 0,
              "ticks": ""
             }
            },
            "type": "scatterpolargl"
           }
          ],
          "scatterternary": [
           {
            "marker": {
             "colorbar": {
              "outlinewidth": 0,
              "ticks": ""
             }
            },
            "type": "scatterternary"
           }
          ],
          "surface": [
           {
            "colorbar": {
             "outlinewidth": 0,
             "ticks": ""
            },
            "colorscale": [
             [
              0,
              "#0d0887"
             ],
             [
              0.1111111111111111,
              "#46039f"
             ],
             [
              0.2222222222222222,
              "#7201a8"
             ],
             [
              0.3333333333333333,
              "#9c179e"
             ],
             [
              0.4444444444444444,
              "#bd3786"
             ],
             [
              0.5555555555555556,
              "#d8576b"
             ],
             [
              0.6666666666666666,
              "#ed7953"
             ],
             [
              0.7777777777777778,
              "#fb9f3a"
             ],
             [
              0.8888888888888888,
              "#fdca26"
             ],
             [
              1,
              "#f0f921"
             ]
            ],
            "type": "surface"
           }
          ],
          "table": [
           {
            "cells": {
             "fill": {
              "color": "#EBF0F8"
             },
             "line": {
              "color": "white"
             }
            },
            "header": {
             "fill": {
              "color": "#C8D4E3"
             },
             "line": {
              "color": "white"
             }
            },
            "type": "table"
           }
          ]
         },
         "layout": {
          "annotationdefaults": {
           "arrowcolor": "#2a3f5f",
           "arrowhead": 0,
           "arrowwidth": 1
          },
          "autotypenumbers": "strict",
          "coloraxis": {
           "colorbar": {
            "outlinewidth": 0,
            "ticks": ""
           }
          },
          "colorscale": {
           "diverging": [
            [
             0,
             "#8e0152"
            ],
            [
             0.1,
             "#c51b7d"
            ],
            [
             0.2,
             "#de77ae"
            ],
            [
             0.3,
             "#f1b6da"
            ],
            [
             0.4,
             "#fde0ef"
            ],
            [
             0.5,
             "#f7f7f7"
            ],
            [
             0.6,
             "#e6f5d0"
            ],
            [
             0.7,
             "#b8e186"
            ],
            [
             0.8,
             "#7fbc41"
            ],
            [
             0.9,
             "#4d9221"
            ],
            [
             1,
             "#276419"
            ]
           ],
           "sequential": [
            [
             0,
             "#0d0887"
            ],
            [
             0.1111111111111111,
             "#46039f"
            ],
            [
             0.2222222222222222,
             "#7201a8"
            ],
            [
             0.3333333333333333,
             "#9c179e"
            ],
            [
             0.4444444444444444,
             "#bd3786"
            ],
            [
             0.5555555555555556,
             "#d8576b"
            ],
            [
             0.6666666666666666,
             "#ed7953"
            ],
            [
             0.7777777777777778,
             "#fb9f3a"
            ],
            [
             0.8888888888888888,
             "#fdca26"
            ],
            [
             1,
             "#f0f921"
            ]
           ],
           "sequentialminus": [
            [
             0,
             "#0d0887"
            ],
            [
             0.1111111111111111,
             "#46039f"
            ],
            [
             0.2222222222222222,
             "#7201a8"
            ],
            [
             0.3333333333333333,
             "#9c179e"
            ],
            [
             0.4444444444444444,
             "#bd3786"
            ],
            [
             0.5555555555555556,
             "#d8576b"
            ],
            [
             0.6666666666666666,
             "#ed7953"
            ],
            [
             0.7777777777777778,
             "#fb9f3a"
            ],
            [
             0.8888888888888888,
             "#fdca26"
            ],
            [
             1,
             "#f0f921"
            ]
           ]
          },
          "colorway": [
           "#636efa",
           "#EF553B",
           "#00cc96",
           "#ab63fa",
           "#FFA15A",
           "#19d3f3",
           "#FF6692",
           "#B6E880",
           "#FF97FF",
           "#FECB52"
          ],
          "font": {
           "color": "#2a3f5f"
          },
          "geo": {
           "bgcolor": "white",
           "lakecolor": "white",
           "landcolor": "#E5ECF6",
           "showlakes": true,
           "showland": true,
           "subunitcolor": "white"
          },
          "hoverlabel": {
           "align": "left"
          },
          "hovermode": "closest",
          "mapbox": {
           "style": "light"
          },
          "paper_bgcolor": "white",
          "plot_bgcolor": "#E5ECF6",
          "polar": {
           "angularaxis": {
            "gridcolor": "white",
            "linecolor": "white",
            "ticks": ""
           },
           "bgcolor": "#E5ECF6",
           "radialaxis": {
            "gridcolor": "white",
            "linecolor": "white",
            "ticks": ""
           }
          },
          "scene": {
           "xaxis": {
            "backgroundcolor": "#E5ECF6",
            "gridcolor": "white",
            "gridwidth": 2,
            "linecolor": "white",
            "showbackground": true,
            "ticks": "",
            "zerolinecolor": "white"
           },
           "yaxis": {
            "backgroundcolor": "#E5ECF6",
            "gridcolor": "white",
            "gridwidth": 2,
            "linecolor": "white",
            "showbackground": true,
            "ticks": "",
            "zerolinecolor": "white"
           },
           "zaxis": {
            "backgroundcolor": "#E5ECF6",
            "gridcolor": "white",
            "gridwidth": 2,
            "linecolor": "white",
            "showbackground": true,
            "ticks": "",
            "zerolinecolor": "white"
           }
          },
          "shapedefaults": {
           "line": {
            "color": "#2a3f5f"
           }
          },
          "ternary": {
           "aaxis": {
            "gridcolor": "white",
            "linecolor": "white",
            "ticks": ""
           },
           "baxis": {
            "gridcolor": "white",
            "linecolor": "white",
            "ticks": ""
           },
           "bgcolor": "#E5ECF6",
           "caxis": {
            "gridcolor": "white",
            "linecolor": "white",
            "ticks": ""
           }
          },
          "title": {
           "x": 0.05
          },
          "xaxis": {
           "automargin": true,
           "gridcolor": "white",
           "linecolor": "white",
           "ticks": "",
           "title": {
            "standoff": 15
           },
           "zerolinecolor": "white",
           "zerolinewidth": 2
          },
          "yaxis": {
           "automargin": true,
           "gridcolor": "white",
           "linecolor": "white",
           "ticks": "",
           "title": {
            "standoff": 15
           },
           "zerolinecolor": "white",
           "zerolinewidth": 2
          }
         }
        },
        "title": {
         "text": "Valeur moyenne de la marge de gain selon le produit"
        },
        "width": 600,
        "xaxis": {
         "anchor": "y",
         "domain": [
          0,
          1
         ],
         "title": {
          "text": "Produit"
         }
        },
        "yaxis": {
         "anchor": "x",
         "domain": [
          0,
          1
         ],
         "title": {
          "text": "Marge commerciale"
         }
        }
       }
      }
     },
     "metadata": {},
     "output_type": "display_data"
    }
   ],
   "source": [
    "#sns.barplot(data=taux_marge_par_produit, x=taux_marge_par_produit['product_type'], y=taux_marge_par_produit[\"marge€\"], color='tomato', label='marge')\n",
    "#sns.barplot(data=taux_marge_par_produit, x=taux_marge_par_produit['product_type'], y=taux_marge_par_produit[\"PVHT_moyen\"], color='dodgerblue', label = 'prix de vente HT')\n",
    "\n",
    "fig3 = px.bar(taux_marge_par_produit, x=\"product_type\", \n",
    "              y=[\"PVHT_moyen\", \"marge€\"], color_discrete_sequence= px.colors.qualitative.G10, width= 600, barmode=\"group\",\n",
    "             title=\"Valeur moyenne de la marge de gain selon le produit\")\n",
    "fig3.update_xaxes(title_text=\"Produit\")\n",
    "fig3.update_yaxes(title_text=\"Marge commerciale\")\n",
    "fig3.show()\n"
   ]
  },
  {
   "cell_type": "code",
   "execution_count": 1186,
   "id": "1a9f4412",
   "metadata": {},
   "outputs": [],
   "source": [
    "marge_df = pd.merge(taux_marge_par_produit, new_df, on=\"product_type\", how=\"inner\")"
   ]
  },
  {
   "cell_type": "code",
   "execution_count": 1187,
   "id": "18a333f0",
   "metadata": {},
   "outputs": [
    {
     "name": "stdout",
     "output_type": "stream",
     "text": [
      "<class 'pandas.core.frame.DataFrame'>\n",
      "RangeIndex: 7 entries, 0 to 6\n",
      "Data columns (total 7 columns):\n",
      " #   Column                Non-Null Count  Dtype  \n",
      "---  ------                --------------  -----  \n",
      " 0   product_type          7 non-null      object \n",
      " 1   taux_moyen            7 non-null      float64\n",
      " 2   PVHT_moyen            7 non-null      float64\n",
      " 3   purchase_price_moyen  7 non-null      float64\n",
      " 4   taux_marge_moyen      7 non-null      float64\n",
      " 5   marge€                7 non-null      float64\n",
      " 6   product_repres_color  7 non-null      string \n",
      "dtypes: float64(5), object(1), string(1)\n",
      "memory usage: 524.0+ bytes\n"
     ]
    }
   ],
   "source": [
    "marge_df.info()"
   ]
  },
  {
   "cell_type": "code",
   "execution_count": 1205,
   "id": "7e9fe6c5",
   "metadata": {},
   "outputs": [
    {
     "data": {
      "text/plain": [
       "Text(0.5, 0, 'produit')"
      ]
     },
     "execution_count": 1205,
     "metadata": {},
     "output_type": "execute_result"
    },
    {
     "data": {
      "image/png": "[encoded data removed]",
      "text/plain": [
       "<Figure size 640x480 with 1 Axes>"
      ]
     },
     "metadata": {},
     "output_type": "display_data"
    }
   ],
   "source": [
    "##########graphe taux de marge avec plt \n",
    "sns.set_style(\"darkgrid\", {'axes.grid' : True})\n",
    "figure =plt.pyplot.bar(marge_df.product_type, marge_df.PVHT_moyen, color=marge_df[\"product_repres_color\"])\n",
    "graph = plt.pyplot.bar(marge_df.product_type, marge_df[\"marge€\"], color=marge_df[\"product_repres_color\"], edgecolor = \"black\")\n",
    "for rect, rect2 in zip(figure,graph):\n",
    "    height1 = rect.get_height()\n",
    "    height2 = rect2.get_height()\n",
    "    height = height2*100/height1\n",
    "    plt.pyplot.text(rect2.get_x() + rect2.get_width() / 2.0, height2, f'{height:.2f}%', ha='center', va='bottom', fontsize=8, color='black')\n",
    "plt.pyplot.xticks(rotation = -50, fontsize=9)\n",
    "plt.pyplot.title(\"Valeur moyenne de la marge de gain\", loc = 'center', fontsize = 11)\n",
    "plt.pyplot.ylabel(\"PVHT et marge\")\n",
    "plt.pyplot.xlabel(\"produit\")\n"
   ]
  },
  {
   "cell_type": "code",
   "execution_count": 952,
   "id": "08810dd6",
   "metadata": {},
   "outputs": [
    {
     "name": "stdout",
     "output_type": "stream",
     "text": [
      "<class 'pandas.core.frame.DataFrame'>\n",
      "RangeIndex: 7 entries, 0 to 6\n",
      "Data columns (total 2 columns):\n",
      " #   Column                Non-Null Count  Dtype \n",
      "---  ------                --------------  ----- \n",
      " 0   product_type          7 non-null      string\n",
      " 1   product_repres_color  7 non-null      string\n",
      "dtypes: string(2)\n",
      "memory usage: 244.0 bytes\n"
     ]
    }
   ],
   "source": [
    "new_df.info()"
   ]
  },
  {
   "cell_type": "code",
   "execution_count": 951,
   "id": "6203a5b2",
   "metadata": {},
   "outputs": [
    {
     "name": "stdout",
     "output_type": "stream",
     "text": [
      "<class 'pandas.core.frame.DataFrame'>\n",
      "RangeIndex: 7 entries, 0 to 6\n",
      "Data columns (total 6 columns):\n",
      " #   Column                Non-Null Count  Dtype  \n",
      "---  ------                --------------  -----  \n",
      " 0   product_type          7 non-null      object \n",
      " 1   taux_moyen            7 non-null      float64\n",
      " 2   PVHT_moyen            7 non-null      float64\n",
      " 3   purchase_price_moyen  7 non-null      float64\n",
      " 4   taux_marge_moyen      7 non-null      float64\n",
      " 5   marge€                7 non-null      float64\n",
      "dtypes: float64(5), object(1)\n",
      "memory usage: 468.0+ bytes\n"
     ]
    }
   ],
   "source": [
    "taux_marge_par_produit.info()"
   ]
  },
  {
   "cell_type": "code",
   "execution_count": 1102,
   "id": "fb0ca666",
   "metadata": {},
   "outputs": [],
   "source": [
    "new_merge = pd.merge(taux_marge_par_produit, new_df, on=\"product_type\", how='inner')"
   ]
  },
  {
   "cell_type": "code",
   "execution_count": 1103,
   "id": "ab0c0264",
   "metadata": {},
   "outputs": [],
   "source": [
    "new_merge = new_merge.sort_values(by=\"PVHT_moyen\", ascending=False)"
   ]
  },
  {
   "cell_type": "code",
   "execution_count": 1104,
   "id": "7a8a99cb",
   "metadata": {},
   "outputs": [
    {
     "data": {
      "application/vnd.plotly.v1+json": {
       "config": {
        "plotlyServerURL": "https://plot.ly"
       },
       "data": [
        {
         "marker": {
          "color": [
           "firebrick",
           "burlywood",
           "sandybrown",
           "cornflowerblue",
           "peachpuff",
           "cadetblue",
           "olive"
          ]
         },
         "name": "PVHT_moyen",
         "type": "bar",
         "x": [
          "Cognac",
          "Champagne",
          "Whisky",
          "Gin",
          "Vin",
          "Autre",
          "Huile d'olive"
         ],
         "y": [
          81.25125,
          59.78074074074074,
          54.63214285714286,
          30,
          24.4011094224924,
          20.83,
          20.78
         ]
        },
        {
         "marker": {
          "color": [
           "firebrick",
           "burlywood",
           "sandybrown",
           "cornflowerblue",
           "peachpuff",
           "cadetblue",
           "olive"
          ]
         },
         "name": "marge en €",
         "type": "bar",
         "x": [
          "Cognac",
          "Champagne",
          "Whisky",
          "Gin",
          "Vin",
          "Autre",
          "Huile d'olive"
         ],
         "y": [
          36.964999999999996,
          16.85037037037037,
          24.695000000000004,
          12.84,
          9.256003039513677,
          7.529999999999998,
          5.33
         ]
        }
       ],
       "layout": {
        "height": 600,
        "showlegend": true,
        "template": {
         "data": {
          "bar": [
           {
            "error_x": {
             "color": "#2a3f5f"
            },
            "error_y": {
             "color": "#2a3f5f"
            },
            "marker": {
             "line": {
              "color": "#E5ECF6",
              "width": 0.5
             },
             "pattern": {
              "fillmode": "overlay",
              "size": 10,
              "solidity": 0.2
             }
            },
            "type": "bar"
           }
          ],
          "barpolar": [
           {
            "marker": {
             "line": {
              "color": "#E5ECF6",
              "width": 0.5
             },
             "pattern": {
              "fillmode": "overlay",
              "size": 10,
              "solidity": 0.2
             }
            },
            "type": "barpolar"
           }
          ],
          "carpet": [
           {
            "aaxis": {
             "endlinecolor": "#2a3f5f",
             "gridcolor": "white",
             "linecolor": "white",
             "minorgridcolor": "white",
             "startlinecolor": "#2a3f5f"
            },
            "baxis": {
             "endlinecolor": "#2a3f5f",
             "gridcolor": "white",
             "linecolor": "white",
             "minorgridcolor": "white",
             "startlinecolor": "#2a3f5f"
            },
            "type": "carpet"
           }
          ],
          "choropleth": [
           {
            "colorbar": {
             "outlinewidth": 0,
             "ticks": ""
            },
            "type": "choropleth"
           }
          ],
          "contour": [
           {
            "colorbar": {
             "outlinewidth": 0,
             "ticks": ""
            },
            "colorscale": [
             [
              0,
              "#0d0887"
             ],
             [
              0.1111111111111111,
              "#46039f"
             ],
             [
              0.2222222222222222,
              "#7201a8"
             ],
             [
              0.3333333333333333,
              "#9c179e"
             ],
             [
              0.4444444444444444,
              "#bd3786"
             ],
             [
              0.5555555555555556,
              "#d8576b"
             ],
             [
              0.6666666666666666,
              "#ed7953"
             ],
             [
              0.7777777777777778,
              "#fb9f3a"
             ],
             [
              0.8888888888888888,
              "#fdca26"
             ],
             [
              1,
              "#f0f921"
             ]
            ],
            "type": "contour"
           }
          ],
          "contourcarpet": [
           {
            "colorbar": {
             "outlinewidth": 0,
             "ticks": ""
            },
            "type": "contourcarpet"
           }
          ],
          "heatmap": [
           {
            "colorbar": {
             "outlinewidth": 0,
             "ticks": ""
            },
            "colorscale": [
             [
              0,
              "#0d0887"
             ],
             [
              0.1111111111111111,
              "#46039f"
             ],
             [
              0.2222222222222222,
              "#7201a8"
             ],
             [
              0.3333333333333333,
              "#9c179e"
             ],
             [
              0.4444444444444444,
              "#bd3786"
             ],
             [
              0.5555555555555556,
              "#d8576b"
             ],
             [
              0.6666666666666666,
              "#ed7953"
             ],
             [
              0.7777777777777778,
              "#fb9f3a"
             ],
             [
              0.8888888888888888,
              "#fdca26"
             ],
             [
              1,
              "#f0f921"
             ]
            ],
            "type": "heatmap"
           }
          ],
          "heatmapgl": [
           {
            "colorbar": {
             "outlinewidth": 0,
             "ticks": ""
            },
            "colorscale": [
             [
              0,
              "#0d0887"
             ],
             [
              0.1111111111111111,
              "#46039f"
             ],
             [
              0.2222222222222222,
              "#7201a8"
             ],
             [
              0.3333333333333333,
              "#9c179e"
             ],
             [
              0.4444444444444444,
              "#bd3786"
             ],
             [
              0.5555555555555556,
              "#d8576b"
             ],
             [
              0.6666666666666666,
              "#ed7953"
             ],
             [
              0.7777777777777778,
              "#fb9f3a"
             ],
             [
              0.8888888888888888,
              "#fdca26"
             ],
             [
              1,
              "#f0f921"
             ]
            ],
            "type": "heatmapgl"
           }
          ],
          "histogram": [
           {
            "marker": {
             "pattern": {
              "fillmode": "overlay",
              "size": 10,
              "solidity": 0.2
             }
            },
            "type": "histogram"
           }
          ],
          "histogram2d": [
           {
            "colorbar": {
             "outlinewidth": 0,
             "ticks": ""
            },
            "colorscale": [
             [
              0,
              "#0d0887"
             ],
             [
              0.1111111111111111,
              "#46039f"
             ],
             [
              0.2222222222222222,
              "#7201a8"
             ],
             [
              0.3333333333333333,
              "#9c179e"
             ],
             [
              0.4444444444444444,
              "#bd3786"
             ],
             [
              0.5555555555555556,
              "#d8576b"
             ],
             [
              0.6666666666666666,
              "#ed7953"
             ],
             [
              0.7777777777777778,
              "#fb9f3a"
             ],
             [
              0.8888888888888888,
              "#fdca26"
             ],
             [
              1,
              "#f0f921"
             ]
            ],
            "type": "histogram2d"
           }
          ],
          "histogram2dcontour": [
           {
            "colorbar": {
             "outlinewidth": 0,
             "ticks": ""
            },
            "colorscale": [
             [
              0,
              "#0d0887"
             ],
             [
              0.1111111111111111,
              "#46039f"
             ],
             [
              0.2222222222222222,
              "#7201a8"
             ],
             [
              0.3333333333333333,
              "#9c179e"
             ],
             [
              0.4444444444444444,
              "#bd3786"
             ],
             [
              0.5555555555555556,
              "#d8576b"
             ],
             [
              0.6666666666666666,
              "#ed7953"
             ],
             [
              0.7777777777777778,
              "#fb9f3a"
             ],
             [
              0.8888888888888888,
              "#fdca26"
             ],
             [
              1,
              "#f0f921"
             ]
            ],
            "type": "histogram2dcontour"
           }
          ],
          "mesh3d": [
           {
            "colorbar": {
             "outlinewidth": 0,
             "ticks": ""
            },
            "type": "mesh3d"
           }
          ],
          "parcoords": [
           {
            "line": {
             "colorbar": {
              "outlinewidth": 0,
              "ticks": ""
             }
            },
            "type": "parcoords"
           }
          ],
          "pie": [
           {
            "automargin": true,
            "type": "pie"
           }
          ],
          "scatter": [
           {
            "fillpattern": {
             "fillmode": "overlay",
             "size": 10,
             "solidity": 0.2
            },
            "type": "scatter"
           }
          ],
          "scatter3d": [
           {
            "line": {
             "colorbar": {
              "outlinewidth": 0,
              "ticks": ""
             }
            },
            "marker": {
             "colorbar": {
              "outlinewidth": 0,
              "ticks": ""
             }
            },
            "type": "scatter3d"
           }
          ],
          "scattercarpet": [
           {
            "marker": {
             "colorbar": {
              "outlinewidth": 0,
              "ticks": ""
             }
            },
            "type": "scattercarpet"
           }
          ],
          "scattergeo": [
           {
            "marker": {
             "colorbar": {
              "outlinewidth": 0,
              "ticks": ""
             }
            },
            "type": "scattergeo"
           }
          ],
          "scattergl": [
           {
            "marker": {
             "colorbar": {
              "outlinewidth": 0,
              "ticks": ""
             }
            },
            "type": "scattergl"
           }
          ],
          "scattermapbox": [
           {
            "marker": {
             "colorbar": {
              "outlinewidth": 0,
              "ticks": ""
             }
            },
            "type": "scattermapbox"
           }
          ],
          "scatterpolar": [
           {
            "marker": {
             "colorbar": {
              "outlinewidth": 0,
              "ticks": ""
             }
            },
            "type": "scatterpolar"
           }
          ],
          "scatterpolargl": [
           {
            "marker": {
             "colorbar": {
              "outlinewidth": 0,
              "ticks": ""
             }
            },
            "type": "scatterpolargl"
           }
          ],
          "scatterternary": [
           {
            "marker": {
             "colorbar": {
              "outlinewidth": 0,
              "ticks": ""
             }
            },
            "type": "scatterternary"
           }
          ],
          "surface": [
           {
            "colorbar": {
             "outlinewidth": 0,
             "ticks": ""
            },
            "colorscale": [
             [
              0,
              "#0d0887"
             ],
             [
              0.1111111111111111,
              "#46039f"
             ],
             [
              0.2222222222222222,
              "#7201a8"
             ],
             [
              0.3333333333333333,
              "#9c179e"
             ],
             [
              0.4444444444444444,
              "#bd3786"
             ],
             [
              0.5555555555555556,
              "#d8576b"
             ],
             [
              0.6666666666666666,
              "#ed7953"
             ],
             [
              0.7777777777777778,
              "#fb9f3a"
             ],
             [
              0.8888888888888888,
              "#fdca26"
             ],
             [
              1,
              "#f0f921"
             ]
            ],
            "type": "surface"
           }
          ],
          "table": [
           {
            "cells": {
             "fill": {
              "color": "#EBF0F8"
             },
             "line": {
              "color": "white"
             }
            },
            "header": {
             "fill": {
              "color": "#C8D4E3"
             },
             "line": {
              "color": "white"
             }
            },
            "type": "table"
           }
          ]
         },
         "layout": {
          "annotationdefaults": {
           "arrowcolor": "#2a3f5f",
           "arrowhead": 0,
           "arrowwidth": 1
          },
          "autotypenumbers": "strict",
          "coloraxis": {
           "colorbar": {
            "outlinewidth": 0,
            "ticks": ""
           }
          },
          "colorscale": {
           "diverging": [
            [
             0,
             "#8e0152"
            ],
            [
             0.1,
             "#c51b7d"
            ],
            [
             0.2,
             "#de77ae"
            ],
            [
             0.3,
             "#f1b6da"
            ],
            [
             0.4,
             "#fde0ef"
            ],
            [
             0.5,
             "#f7f7f7"
            ],
            [
             0.6,
             "#e6f5d0"
            ],
            [
             0.7,
             "#b8e186"
            ],
            [
             0.8,
             "#7fbc41"
            ],
            [
             0.9,
             "#4d9221"
            ],
            [
             1,
             "#276419"
            ]
           ],
           "sequential": [
            [
             0,
             "#0d0887"
            ],
            [
             0.1111111111111111,
             "#46039f"
            ],
            [
             0.2222222222222222,
             "#7201a8"
            ],
            [
             0.3333333333333333,
             "#9c179e"
            ],
            [
             0.4444444444444444,
             "#bd3786"
            ],
            [
             0.5555555555555556,
             "#d8576b"
            ],
            [
             0.6666666666666666,
             "#ed7953"
            ],
            [
             0.7777777777777778,
             "#fb9f3a"
            ],
            [
             0.8888888888888888,
             "#fdca26"
            ],
            [
             1,
             "#f0f921"
            ]
           ],
           "sequentialminus": [
            [
             0,
             "#0d0887"
            ],
            [
             0.1111111111111111,
             "#46039f"
            ],
            [
             0.2222222222222222,
             "#7201a8"
            ],
            [
             0.3333333333333333,
             "#9c179e"
            ],
            [
             0.4444444444444444,
             "#bd3786"
            ],
            [
             0.5555555555555556,
             "#d8576b"
            ],
            [
             0.6666666666666666,
             "#ed7953"
            ],
            [
             0.7777777777777778,
             "#fb9f3a"
            ],
            [
             0.8888888888888888,
             "#fdca26"
            ],
            [
             1,
             "#f0f921"
            ]
           ]
          },
          "colorway": [
           "#636efa",
           "#EF553B",
           "#00cc96",
           "#ab63fa",
           "#FFA15A",
           "#19d3f3",
           "#FF6692",
           "#B6E880",
           "#FF97FF",
           "#FECB52"
          ],
          "font": {
           "color": "#2a3f5f"
          },
          "geo": {
           "bgcolor": "white",
           "lakecolor": "white",
           "landcolor": "#E5ECF6",
           "showlakes": true,
           "showland": true,
           "subunitcolor": "white"
          },
          "hoverlabel": {
           "align": "left"
          },
          "hovermode": "closest",
          "mapbox": {
           "style": "light"
          },
          "paper_bgcolor": "white",
          "plot_bgcolor": "#E5ECF6",
          "polar": {
           "angularaxis": {
            "gridcolor": "white",
            "linecolor": "white",
            "ticks": ""
           },
           "bgcolor": "#E5ECF6",
           "radialaxis": {
            "gridcolor": "white",
            "linecolor": "white",
            "ticks": ""
           }
          },
          "scene": {
           "xaxis": {
            "backgroundcolor": "#E5ECF6",
            "gridcolor": "white",
            "gridwidth": 2,
            "linecolor": "white",
            "showbackground": true,
            "ticks": "",
            "zerolinecolor": "white"
           },
           "yaxis": {
            "backgroundcolor": "#E5ECF6",
            "gridcolor": "white",
            "gridwidth": 2,
            "linecolor": "white",
            "showbackground": true,
            "ticks": "",
            "zerolinecolor": "white"
           },
           "zaxis": {
            "backgroundcolor": "#E5ECF6",
            "gridcolor": "white",
            "gridwidth": 2,
            "linecolor": "white",
            "showbackground": true,
            "ticks": "",
            "zerolinecolor": "white"
           }
          },
          "shapedefaults": {
           "line": {
            "color": "#2a3f5f"
           }
          },
          "ternary": {
           "aaxis": {
            "gridcolor": "white",
            "linecolor": "white",
            "ticks": ""
           },
           "baxis": {
            "gridcolor": "white",
            "linecolor": "white",
            "ticks": ""
           },
           "bgcolor": "#E5ECF6",
           "caxis": {
            "gridcolor": "white",
            "linecolor": "white",
            "ticks": ""
           }
          },
          "title": {
           "x": 0.05
          },
          "xaxis": {
           "automargin": true,
           "gridcolor": "white",
           "linecolor": "white",
           "ticks": "",
           "title": {
            "standoff": 15
           },
           "zerolinecolor": "white",
           "zerolinewidth": 2
          },
          "yaxis": {
           "automargin": true,
           "gridcolor": "white",
           "linecolor": "white",
           "ticks": "",
           "title": {
            "standoff": 15
           },
           "zerolinecolor": "white",
           "zerolinewidth": 2
          }
         }
        },
        "width": 700,
        "xaxis": {
         "title": {
          "text": "Produit"
         }
        },
        "yaxis": {
         "title": {
          "text": "PVHT et Marge"
         }
        }
       }
      }
     },
     "metadata": {},
     "output_type": "display_data"
    }
   ],
   "source": [
    "##graphe taux de marge avec go\n",
    "fig7 = go.Figure()\n",
    "                 \n",
    "fig7.add_trace(go.Bar(\n",
    "    x = new_merge[\"product_type\"],\n",
    "    y = new_merge[\"PVHT_moyen\"],\n",
    "    name= 'PVHT_moyen',\n",
    "marker=dict(\n",
    "        color= new_merge['product_repres_color'])\n",
    "))\n",
    "fig7.add_trace(go.Bar(\n",
    "    x = new_merge[\"product_type\"],\n",
    "    y = new_merge[\"marge€\"],\n",
    "    name = 'marge en €',\n",
    "marker=dict(\n",
    "        color= new_merge['product_repres_color']    \n",
    ")))\n",
    "#fig6.update_xaxes()\n",
    "fig7.update_layout(\n",
    "        width=700,\n",
    "        height=600,\n",
    "        showlegend=True)\n",
    "fig7.update_xaxes(title_text=\"Produit\")\n",
    "fig7.update_yaxes(title_text=\"PVHT et Marge\")\n",
    "#fig6.update_layout(\n",
    "#yaxis = dict(\n",
    "#tickfont = dict(size=9)))"
   ]
  },
  {
   "cell_type": "markdown",
   "id": "ce216060",
   "metadata": {},
   "source": [
    "<div style=\"border: 1px solid RGB(51,165,182);\" >\n",
    "<h3 style=\"margin: auto; padding: 20px; color: RGB(51,165,182); \">Etape 5.5 - Analyse des correlations entre les variables stock, sales et price</h3>\n",
    "</div>"
   ]
  },
  {
   "cell_type": "code",
   "execution_count": 963,
   "id": "12e4a540",
   "metadata": {},
   "outputs": [
    {
     "name": "stdout",
     "output_type": "stream",
     "text": [
      "<class 'pandas.core.frame.DataFrame'>\n",
      "RangeIndex: 714 entries, 0 to 713\n",
      "Data columns (total 23 columns):\n",
      " #   Column                  Non-Null Count  Dtype         \n",
      "---  ------                  --------------  -----         \n",
      " 0   sku                     714 non-null    object        \n",
      " 1   total_sales             714 non-null    float64       \n",
      " 2   tax_status              361 non-null    object        \n",
      " 3   post_date_gmt           714 non-null    datetime64[ns]\n",
      " 4   product_type            714 non-null    object        \n",
      " 5   post_name               714 non-null    string        \n",
      " 6   post_modified_gmt       714 non-null    datetime64[ns]\n",
      " 7   post_type               714 non-null    object        \n",
      " 8   product_id              714 non-null    int64         \n",
      " 9   onsale_web              714 non-null    int64         \n",
      " 10  price                   714 non-null    float64       \n",
      " 11  stock_quantity          714 non-null    int64         \n",
      " 12  stock_status            714 non-null    object        \n",
      " 13  purchase_price          714 non-null    float64       \n",
      " 14  prix_deviation          714 non-null    float64       \n",
      " 15  id_web                  714 non-null    object        \n",
      " 16  ca_par_article          714 non-null    float64       \n",
      " 17  product_repres_color    714 non-null    string        \n",
      " 18  product_name            714 non-null    object        \n",
      " 19  duree_stockage_en_mois  692 non-null    float64       \n",
      " 20  valorisation_stock      714 non-null    float64       \n",
      " 21  PVHT                    714 non-null    float64       \n",
      " 22  taux_marge_%            714 non-null    float64       \n",
      "dtypes: datetime64[ns](2), float64(9), int64(3), object(7), string(2)\n",
      "memory usage: 128.4+ KB\n"
     ]
    }
   ],
   "source": [
    "############################\n",
    "# Analyse des correlations #\n",
    "############################\n",
    "online_product.info()\n"
   ]
  },
  {
   "cell_type": "code",
   "execution_count": 964,
   "id": "7eed49ac",
   "metadata": {},
   "outputs": [
    {
     "data": {
      "text/html": [
       "<div>\n",
       "<style scoped>\n",
       "    .dataframe tbody tr th:only-of-type {\n",
       "        vertical-align: middle;\n",
       "    }\n",
       "\n",
       "    .dataframe tbody tr th {\n",
       "        vertical-align: top;\n",
       "    }\n",
       "\n",
       "    .dataframe thead th {\n",
       "        text-align: right;\n",
       "    }\n",
       "</style>\n",
       "<table border=\"1\" class=\"dataframe\">\n",
       "  <thead>\n",
       "    <tr style=\"text-align: right;\">\n",
       "      <th></th>\n",
       "      <th>sku</th>\n",
       "      <th>total_sales</th>\n",
       "      <th>tax_status</th>\n",
       "      <th>post_date_gmt</th>\n",
       "      <th>product_type</th>\n",
       "      <th>post_name</th>\n",
       "      <th>post_modified_gmt</th>\n",
       "      <th>post_type</th>\n",
       "      <th>product_id</th>\n",
       "      <th>onsale_web</th>\n",
       "      <th>...</th>\n",
       "      <th>purchase_price</th>\n",
       "      <th>prix_deviation</th>\n",
       "      <th>id_web</th>\n",
       "      <th>ca_par_article</th>\n",
       "      <th>product_repres_color</th>\n",
       "      <th>product_name</th>\n",
       "      <th>duree_stockage_en_mois</th>\n",
       "      <th>valorisation_stock</th>\n",
       "      <th>PVHT</th>\n",
       "      <th>taux_marge_%</th>\n",
       "    </tr>\n",
       "  </thead>\n",
       "  <tbody>\n",
       "    <tr>\n",
       "      <th>0</th>\n",
       "      <td>15298</td>\n",
       "      <td>6.0</td>\n",
       "      <td>taxable</td>\n",
       "      <td>2018-02-08 11:58:52</td>\n",
       "      <td>Vin</td>\n",
       "      <td>pierre-jean-villa-saint-joseph-preface-2018</td>\n",
       "      <td>2019-12-30 08:30:29</td>\n",
       "      <td>product</td>\n",
       "      <td>3847</td>\n",
       "      <td>1</td>\n",
       "      <td>...</td>\n",
       "      <td>12.88</td>\n",
       "      <td>-0.304</td>\n",
       "      <td>15298</td>\n",
       "      <td>145.2</td>\n",
       "      <td>darksalmon</td>\n",
       "      <td>pierre-jean-villa-saint-joseph-preface-2018</td>\n",
       "      <td>3.0</td>\n",
       "      <td>206.08</td>\n",
       "      <td>20.17</td>\n",
       "      <td>36.14</td>\n",
       "    </tr>\n",
       "    <tr>\n",
       "      <th>1</th>\n",
       "      <td>15296</td>\n",
       "      <td>9.0</td>\n",
       "      <td>taxable</td>\n",
       "      <td>2018-02-08 12:49:41</td>\n",
       "      <td>Vin</td>\n",
       "      <td>pierre-jean-villa-saint-joseph-tilde-2017</td>\n",
       "      <td>2019-12-21 08:00:17</td>\n",
       "      <td>product</td>\n",
       "      <td>3849</td>\n",
       "      <td>1</td>\n",
       "      <td>...</td>\n",
       "      <td>17.54</td>\n",
       "      <td>0.076</td>\n",
       "      <td>15296</td>\n",
       "      <td>308.7</td>\n",
       "      <td>darksalmon</td>\n",
       "      <td>pierre-jean-villa-saint-joseph-tilde-2017</td>\n",
       "      <td>1.0</td>\n",
       "      <td>175.40</td>\n",
       "      <td>28.58</td>\n",
       "      <td>38.63</td>\n",
       "    </tr>\n",
       "    <tr>\n",
       "      <th>2</th>\n",
       "      <td>15300</td>\n",
       "      <td>0.0</td>\n",
       "      <td>NaN</td>\n",
       "      <td>2018-02-08 13:08:36</td>\n",
       "      <td>Vin</td>\n",
       "      <td>pierre-jean-villa-croze-hermitage-accroche-coe...</td>\n",
       "      <td>2020-06-26 16:15:03</td>\n",
       "      <td>attachment</td>\n",
       "      <td>3850</td>\n",
       "      <td>1</td>\n",
       "      <td>...</td>\n",
       "      <td>10.64</td>\n",
       "      <td>-0.432</td>\n",
       "      <td>15300</td>\n",
       "      <td>0.0</td>\n",
       "      <td>darksalmon</td>\n",
       "      <td>pierre-jean-villa-croze-hermitage-accroche-coe...</td>\n",
       "      <td>NaN</td>\n",
       "      <td>0.00</td>\n",
       "      <td>17.33</td>\n",
       "      <td>38.60</td>\n",
       "    </tr>\n",
       "    <tr>\n",
       "      <th>3</th>\n",
       "      <td>19814</td>\n",
       "      <td>12.0</td>\n",
       "      <td>NaN</td>\n",
       "      <td>2018-02-09 13:01:05</td>\n",
       "      <td>Vin</td>\n",
       "      <td>pierre-jean-villa-igp-gamine-2018</td>\n",
       "      <td>2020-01-04 15:36:01</td>\n",
       "      <td>attachment</td>\n",
       "      <td>4032</td>\n",
       "      <td>1</td>\n",
       "      <td>...</td>\n",
       "      <td>6.92</td>\n",
       "      <td>-0.684</td>\n",
       "      <td>19814</td>\n",
       "      <td>169.2</td>\n",
       "      <td>darksalmon</td>\n",
       "      <td>pierre-jean-villa-igp-gamine-2018</td>\n",
       "      <td>2.0</td>\n",
       "      <td>179.92</td>\n",
       "      <td>11.75</td>\n",
       "      <td>41.11</td>\n",
       "    </tr>\n",
       "    <tr>\n",
       "      <th>4</th>\n",
       "      <td>19815</td>\n",
       "      <td>3.0</td>\n",
       "      <td>NaN</td>\n",
       "      <td>2018-02-12 08:04:37</td>\n",
       "      <td>Vin</td>\n",
       "      <td>pierre-jean-villa-cote-rotie-carmina-2017</td>\n",
       "      <td>2020-01-04 15:36:10</td>\n",
       "      <td>attachment</td>\n",
       "      <td>4039</td>\n",
       "      <td>1</td>\n",
       "      <td>...</td>\n",
       "      <td>23.77</td>\n",
       "      <td>0.516</td>\n",
       "      <td>19815</td>\n",
       "      <td>138.0</td>\n",
       "      <td>darksalmon</td>\n",
       "      <td>pierre-jean-villa-cote-rotie-carmina-2017</td>\n",
       "      <td>1.0</td>\n",
       "      <td>71.31</td>\n",
       "      <td>38.33</td>\n",
       "      <td>37.99</td>\n",
       "    </tr>\n",
       "    <tr>\n",
       "      <th>5</th>\n",
       "      <td>15303</td>\n",
       "      <td>7.0</td>\n",
       "      <td>taxable</td>\n",
       "      <td>2018-02-12 08:13:35</td>\n",
       "      <td>Vin</td>\n",
       "      <td>pierre-jean-villa-saint-joseph-saut-ange-2018</td>\n",
       "      <td>2019-11-02 12:25:07</td>\n",
       "      <td>product</td>\n",
       "      <td>4040</td>\n",
       "      <td>1</td>\n",
       "      <td>...</td>\n",
       "      <td>18.25</td>\n",
       "      <td>0.076</td>\n",
       "      <td>15303</td>\n",
       "      <td>240.1</td>\n",
       "      <td>darksalmon</td>\n",
       "      <td>pierre-jean-villa-saint-joseph-saut-ange-2018</td>\n",
       "      <td>2.0</td>\n",
       "      <td>219.00</td>\n",
       "      <td>28.58</td>\n",
       "      <td>36.14</td>\n",
       "    </tr>\n",
       "    <tr>\n",
       "      <th>6</th>\n",
       "      <td>14975</td>\n",
       "      <td>6.0</td>\n",
       "      <td>taxable</td>\n",
       "      <td>2018-02-12 08:45:14</td>\n",
       "      <td>Vin</td>\n",
       "      <td>pierre-gaillard-condrieu-2018</td>\n",
       "      <td>2020-08-14 16:15:02</td>\n",
       "      <td>product</td>\n",
       "      <td>4041</td>\n",
       "      <td>1</td>\n",
       "      <td>...</td>\n",
       "      <td>17.57</td>\n",
       "      <td>0.016</td>\n",
       "      <td>14975</td>\n",
       "      <td>196.2</td>\n",
       "      <td>darksalmon</td>\n",
       "      <td>pierre-gaillard-condrieu-2018</td>\n",
       "      <td>2.0</td>\n",
       "      <td>210.84</td>\n",
       "      <td>27.25</td>\n",
       "      <td>35.52</td>\n",
       "    </tr>\n",
       "    <tr>\n",
       "      <th>7</th>\n",
       "      <td>16042</td>\n",
       "      <td>8.0</td>\n",
       "      <td>taxable</td>\n",
       "      <td>2018-02-12 08:54:27</td>\n",
       "      <td>Vin</td>\n",
       "      <td>pierre-gaillard-cornas-2017</td>\n",
       "      <td>2020-08-14 08:15:02</td>\n",
       "      <td>product</td>\n",
       "      <td>4042</td>\n",
       "      <td>1</td>\n",
       "      <td>...</td>\n",
       "      <td>15.48</td>\n",
       "      <td>-0.041</td>\n",
       "      <td>16042</td>\n",
       "      <td>249.6</td>\n",
       "      <td>darksalmon</td>\n",
       "      <td>pierre-gaillard-cornas-2017</td>\n",
       "      <td>2.0</td>\n",
       "      <td>232.20</td>\n",
       "      <td>26.00</td>\n",
       "      <td>40.46</td>\n",
       "    </tr>\n",
       "    <tr>\n",
       "      <th>8</th>\n",
       "      <td>14980</td>\n",
       "      <td>0.0</td>\n",
       "      <td>taxable</td>\n",
       "      <td>2018-02-12 09:03:05</td>\n",
       "      <td>Vin</td>\n",
       "      <td>pierre-gaillard-cote-rotie-esprit-blond-2017</td>\n",
       "      <td>2020-08-24 12:00:03</td>\n",
       "      <td>product</td>\n",
       "      <td>4043</td>\n",
       "      <td>1</td>\n",
       "      <td>...</td>\n",
       "      <td>29.45</td>\n",
       "      <td>1.043</td>\n",
       "      <td>14980</td>\n",
       "      <td>0.0</td>\n",
       "      <td>darksalmon</td>\n",
       "      <td>pierre-gaillard-cote-rotie-esprit-blond-2017</td>\n",
       "      <td>NaN</td>\n",
       "      <td>0.00</td>\n",
       "      <td>50.00</td>\n",
       "      <td>41.10</td>\n",
       "    </tr>\n",
       "    <tr>\n",
       "      <th>9</th>\n",
       "      <td>16041</td>\n",
       "      <td>3.0</td>\n",
       "      <td>taxable</td>\n",
       "      <td>2018-02-12 09:09:03</td>\n",
       "      <td>Vin</td>\n",
       "      <td>pierre-gaillard-cote-rotie-2018</td>\n",
       "      <td>2020-08-03 07:55:03</td>\n",
       "      <td>product</td>\n",
       "      <td>4045</td>\n",
       "      <td>1</td>\n",
       "      <td>...</td>\n",
       "      <td>22.01</td>\n",
       "      <td>0.388</td>\n",
       "      <td>16041</td>\n",
       "      <td>127.8</td>\n",
       "      <td>darksalmon</td>\n",
       "      <td>pierre-gaillard-cote-rotie-2018</td>\n",
       "      <td>2.0</td>\n",
       "      <td>110.05</td>\n",
       "      <td>35.50</td>\n",
       "      <td>38.00</td>\n",
       "    </tr>\n",
       "  </tbody>\n",
       "</table>\n",
       "<p>10 rows × 23 columns</p>\n",
       "</div>"
      ],
      "text/plain": [
       "     sku  total_sales tax_status       post_date_gmt product_type  \\\n",
       "0  15298          6.0    taxable 2018-02-08 11:58:52          Vin   \n",
       "1  15296          9.0    taxable 2018-02-08 12:49:41          Vin   \n",
       "2  15300          0.0        NaN 2018-02-08 13:08:36          Vin   \n",
       "3  19814         12.0        NaN 2018-02-09 13:01:05          Vin   \n",
       "4  19815          3.0        NaN 2018-02-12 08:04:37          Vin   \n",
       "5  15303          7.0    taxable 2018-02-12 08:13:35          Vin   \n",
       "6  14975          6.0    taxable 2018-02-12 08:45:14          Vin   \n",
       "7  16042          8.0    taxable 2018-02-12 08:54:27          Vin   \n",
       "8  14980          0.0    taxable 2018-02-12 09:03:05          Vin   \n",
       "9  16041          3.0    taxable 2018-02-12 09:09:03          Vin   \n",
       "\n",
       "                                           post_name   post_modified_gmt  \\\n",
       "0        pierre-jean-villa-saint-joseph-preface-2018 2019-12-30 08:30:29   \n",
       "1          pierre-jean-villa-saint-joseph-tilde-2017 2019-12-21 08:00:17   \n",
       "2  pierre-jean-villa-croze-hermitage-accroche-coe... 2020-06-26 16:15:03   \n",
       "3                  pierre-jean-villa-igp-gamine-2018 2020-01-04 15:36:01   \n",
       "4          pierre-jean-villa-cote-rotie-carmina-2017 2020-01-04 15:36:10   \n",
       "5      pierre-jean-villa-saint-joseph-saut-ange-2018 2019-11-02 12:25:07   \n",
       "6                      pierre-gaillard-condrieu-2018 2020-08-14 16:15:02   \n",
       "7                        pierre-gaillard-cornas-2017 2020-08-14 08:15:02   \n",
       "8       pierre-gaillard-cote-rotie-esprit-blond-2017 2020-08-24 12:00:03   \n",
       "9                    pierre-gaillard-cote-rotie-2018 2020-08-03 07:55:03   \n",
       "\n",
       "    post_type  product_id  onsale_web  ...  purchase_price  prix_deviation  \\\n",
       "0     product        3847           1  ...           12.88          -0.304   \n",
       "1     product        3849           1  ...           17.54           0.076   \n",
       "2  attachment        3850           1  ...           10.64          -0.432   \n",
       "3  attachment        4032           1  ...            6.92          -0.684   \n",
       "4  attachment        4039           1  ...           23.77           0.516   \n",
       "5     product        4040           1  ...           18.25           0.076   \n",
       "6     product        4041           1  ...           17.57           0.016   \n",
       "7     product        4042           1  ...           15.48          -0.041   \n",
       "8     product        4043           1  ...           29.45           1.043   \n",
       "9     product        4045           1  ...           22.01           0.388   \n",
       "\n",
       "  id_web  ca_par_article  product_repres_color  \\\n",
       "0  15298           145.2            darksalmon   \n",
       "1  15296           308.7            darksalmon   \n",
       "2  15300             0.0            darksalmon   \n",
       "3  19814           169.2            darksalmon   \n",
       "4  19815           138.0            darksalmon   \n",
       "5  15303           240.1            darksalmon   \n",
       "6  14975           196.2            darksalmon   \n",
       "7  16042           249.6            darksalmon   \n",
       "8  14980             0.0            darksalmon   \n",
       "9  16041           127.8            darksalmon   \n",
       "\n",
       "                                        product_name  duree_stockage_en_mois  \\\n",
       "0        pierre-jean-villa-saint-joseph-preface-2018                     3.0   \n",
       "1          pierre-jean-villa-saint-joseph-tilde-2017                     1.0   \n",
       "2  pierre-jean-villa-croze-hermitage-accroche-coe...                     NaN   \n",
       "3                  pierre-jean-villa-igp-gamine-2018                     2.0   \n",
       "4          pierre-jean-villa-cote-rotie-carmina-2017                     1.0   \n",
       "5      pierre-jean-villa-saint-joseph-saut-ange-2018                     2.0   \n",
       "6                      pierre-gaillard-condrieu-2018                     2.0   \n",
       "7                        pierre-gaillard-cornas-2017                     2.0   \n",
       "8       pierre-gaillard-cote-rotie-esprit-blond-2017                     NaN   \n",
       "9                    pierre-gaillard-cote-rotie-2018                     2.0   \n",
       "\n",
       "  valorisation_stock   PVHT  taux_marge_%  \n",
       "0             206.08  20.17         36.14  \n",
       "1             175.40  28.58         38.63  \n",
       "2               0.00  17.33         38.60  \n",
       "3             179.92  11.75         41.11  \n",
       "4              71.31  38.33         37.99  \n",
       "5             219.00  28.58         36.14  \n",
       "6             210.84  27.25         35.52  \n",
       "7             232.20  26.00         40.46  \n",
       "8               0.00  50.00         41.10  \n",
       "9             110.05  35.50         38.00  \n",
       "\n",
       "[10 rows x 23 columns]"
      ]
     },
     "execution_count": 964,
     "metadata": {},
     "output_type": "execute_result"
    }
   ],
   "source": [
    "online_product.head(10)"
   ]
  },
  {
   "cell_type": "code",
   "execution_count": 965,
   "id": "b7ddd407",
   "metadata": {},
   "outputs": [],
   "source": [
    "#Création d'un heatmap de correlation avec les variables stock, sales et price\n",
    "corr = online_product.iloc[:, [1,10,11, 13, 21, 22]]\n"
   ]
  },
  {
   "cell_type": "code",
   "execution_count": 966,
   "id": "60653c11",
   "metadata": {},
   "outputs": [
    {
     "data": {
      "text/html": [
       "<div>\n",
       "<style scoped>\n",
       "    .dataframe tbody tr th:only-of-type {\n",
       "        vertical-align: middle;\n",
       "    }\n",
       "\n",
       "    .dataframe tbody tr th {\n",
       "        vertical-align: top;\n",
       "    }\n",
       "\n",
       "    .dataframe thead th {\n",
       "        text-align: right;\n",
       "    }\n",
       "</style>\n",
       "<table border=\"1\" class=\"dataframe\">\n",
       "  <thead>\n",
       "    <tr style=\"text-align: right;\">\n",
       "      <th></th>\n",
       "      <th>total_sales</th>\n",
       "      <th>price</th>\n",
       "      <th>stock_quantity</th>\n",
       "      <th>purchase_price</th>\n",
       "      <th>PVHT</th>\n",
       "      <th>taux_marge_%</th>\n",
       "    </tr>\n",
       "  </thead>\n",
       "  <tbody>\n",
       "    <tr>\n",
       "      <th>0</th>\n",
       "      <td>6.0</td>\n",
       "      <td>24.2</td>\n",
       "      <td>16</td>\n",
       "      <td>12.88</td>\n",
       "      <td>20.17</td>\n",
       "      <td>36.14</td>\n",
       "    </tr>\n",
       "    <tr>\n",
       "      <th>1</th>\n",
       "      <td>9.0</td>\n",
       "      <td>34.3</td>\n",
       "      <td>10</td>\n",
       "      <td>17.54</td>\n",
       "      <td>28.58</td>\n",
       "      <td>38.63</td>\n",
       "    </tr>\n",
       "    <tr>\n",
       "      <th>2</th>\n",
       "      <td>0.0</td>\n",
       "      <td>20.8</td>\n",
       "      <td>0</td>\n",
       "      <td>10.64</td>\n",
       "      <td>17.33</td>\n",
       "      <td>38.60</td>\n",
       "    </tr>\n",
       "    <tr>\n",
       "      <th>3</th>\n",
       "      <td>12.0</td>\n",
       "      <td>14.1</td>\n",
       "      <td>26</td>\n",
       "      <td>6.92</td>\n",
       "      <td>11.75</td>\n",
       "      <td>41.11</td>\n",
       "    </tr>\n",
       "    <tr>\n",
       "      <th>4</th>\n",
       "      <td>3.0</td>\n",
       "      <td>46.0</td>\n",
       "      <td>3</td>\n",
       "      <td>23.77</td>\n",
       "      <td>38.33</td>\n",
       "      <td>37.99</td>\n",
       "    </tr>\n",
       "  </tbody>\n",
       "</table>\n",
       "</div>"
      ],
      "text/plain": [
       "   total_sales  price  stock_quantity  purchase_price   PVHT  taux_marge_%\n",
       "0          6.0   24.2              16           12.88  20.17         36.14\n",
       "1          9.0   34.3              10           17.54  28.58         38.63\n",
       "2          0.0   20.8               0           10.64  17.33         38.60\n",
       "3         12.0   14.1              26            6.92  11.75         41.11\n",
       "4          3.0   46.0               3           23.77  38.33         37.99"
      ]
     },
     "execution_count": 966,
     "metadata": {},
     "output_type": "execute_result"
    }
   ],
   "source": [
    "corr.head()"
   ]
  },
  {
   "cell_type": "code",
   "execution_count": 1133,
   "id": "c51ebc5a",
   "metadata": {},
   "outputs": [
    {
     "data": {
      "text/plain": [
       "Text(0.5, 1.0, 'Correlation Heatmap')"
      ]
     },
     "execution_count": 1133,
     "metadata": {},
     "output_type": "execute_result"
    },
    {
     "data": {
      "image/png": "[encoded data removed]",
      "text/plain": [
       "<Figure size 640x480 with 2 Axes>"
      ]
     },
     "metadata": {},
     "output_type": "display_data"
    }
   ],
   "source": [
    "sns.set_style(\"whitegrid\", {'axes.grid' : False})\n",
    "mask = np.triu(np.ones_like(corr.corr(), dtype=bool))\n",
    "heatmap = sns.heatmap(corr.corr(method= 'spearman', numeric_only= True), vmin=-1, vmax=1, annot=True, cmap='RdBu', mask=mask)\n",
    "heatmap.set_title('Correlation Heatmap', fontdict={'fontsize':10})\n",
    "\n"
   ]
  },
  {
   "cell_type": "code",
   "execution_count": null,
   "id": "c49d1459",
   "metadata": {},
   "outputs": [],
   "source": [
    "#Que peut-on conclure des correlations ?"
   ]
  },
  {
   "cell_type": "markdown",
   "id": "f1d22f1d",
   "metadata": {},
   "source": [
    "<div style=\"border: 1px solid RGB(51,165,182);\" >\n",
    "<h3 style=\"margin: auto; padding: 20px; color: RGB(51,165,182); \">Etape 5.6 - Mettre à disposition la nouvelle table sur un fichier Excel</h3>\n",
    "</div>"
   ]
  },
  {
   "cell_type": "code",
   "execution_count": 979,
   "id": "d4ae7d94",
   "metadata": {},
   "outputs": [
    {
     "name": "stdout",
     "output_type": "stream",
     "text": [
      "<class 'pandas.core.frame.DataFrame'>\n",
      "RangeIndex: 714 entries, 0 to 713\n",
      "Data columns (total 23 columns):\n",
      " #   Column                  Non-Null Count  Dtype         \n",
      "---  ------                  --------------  -----         \n",
      " 0   sku                     714 non-null    object        \n",
      " 1   total_sales             714 non-null    float64       \n",
      " 2   tax_status              361 non-null    object        \n",
      " 3   post_date_gmt           714 non-null    datetime64[ns]\n",
      " 4   product_type            714 non-null    object        \n",
      " 5   post_name               714 non-null    string        \n",
      " 6   post_modified_gmt       714 non-null    datetime64[ns]\n",
      " 7   post_type               714 non-null    object        \n",
      " 8   product_id              714 non-null    int64         \n",
      " 9   onsale_web              714 non-null    int64         \n",
      " 10  price                   714 non-null    float64       \n",
      " 11  stock_quantity          714 non-null    int64         \n",
      " 12  stock_status            714 non-null    object        \n",
      " 13  purchase_price          714 non-null    float64       \n",
      " 14  prix_deviation          714 non-null    float64       \n",
      " 15  id_web                  714 non-null    object        \n",
      " 16  ca_par_article          714 non-null    float64       \n",
      " 17  product_repres_color    714 non-null    string        \n",
      " 18  product_name            714 non-null    object        \n",
      " 19  duree_stockage_en_mois  692 non-null    float64       \n",
      " 20  valorisation_stock      714 non-null    float64       \n",
      " 21  PVHT                    714 non-null    float64       \n",
      " 22  taux_marge_%            714 non-null    float64       \n",
      "dtypes: datetime64[ns](2), float64(9), int64(3), object(7), string(2)\n",
      "memory usage: 128.4+ KB\n"
     ]
    }
   ],
   "source": [
    "online_product.info()"
   ]
  },
  {
   "cell_type": "code",
   "execution_count": 982,
   "id": "09bfe632",
   "metadata": {},
   "outputs": [],
   "source": [
    "#Mettre le dataset df_merge sur un fichier Excel\n",
    "#Cette étape peut-être utile pour partager le résultat du dataset obtenu avec les équipes.\n",
    "online_product_excel = online_product[['id_web', 'product_id', 'product_type',\n",
    "                                       'post_name', 'total_sales', 'tax_status',\n",
    "                                       'post_date_gmt','post_modified_gmt', 'post_type',\n",
    "                                       'stock_quantity', 'stock_status','price', 'PVHT', 'purchase_price',\n",
    "                                       'ca_par_article', 'duree_stockage_en_mois','taux_marge_%'\n",
    "                                       ]]  \n",
    "online_product_excel.to_excel('/Users/helmisaddem/Downloads/Data-Bottleneck/web.xlsx')"
   ]
  }
 ],
 "metadata": {
  "kernelspec": {
   "display_name": "Python 3",
   "language": "python",
   "name": "python3"
  },
  "language_info": {
   "codemirror_mode": {
    "name": "ipython",
    "version": 3
   },
   "file_extension": ".py",
   "mimetype": "text/x-python",
   "name": "python",
   "nbconvert_exporter": "python",
   "pygments_lexer": "ipython3",
   "version": "3.11.7"
  }
 },
 "nbformat": 4,
 "nbformat_minor": 5
}
